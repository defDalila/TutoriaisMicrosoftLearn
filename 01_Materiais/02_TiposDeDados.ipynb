{
 "cells": [
  {
   "cell_type": "markdown",
   "metadata": {},
   "source": [
    "# <font color=turquoise> Trabalhar com os dados variáveis em aplicativos de console C# \n",
    "___"
   ]
  },
  {
   "cell_type": "markdown",
   "metadata": {},
   "source": [
    "## <font color=mediumorchid>  Escolher o tipo de dados correto em seu código C#\n",
    "___"
   ]
  },
  {
   "cell_type": "markdown",
   "metadata": {},
   "source": [
    "### <font color=hotpink> O que são dados? </font>"
   ]
  },
  {
   "cell_type": "markdown",
   "metadata": {},
   "source": [
    "- No desenvolvimento de software, os dados são essencialmente um valor armazenado na memória do computador como uma série de bits.\n",
    "- Um bit é uma opção binária simples representada como 0 ou 1, ou melhor, como \"desligado\" e \"ligado\"\n",
    "- Quando usado em um byte, cada bit assume um significado na sequência. Na verdade, será possível representar 256 combinações diferentes com somente 8 bits se você usar um sistema numérico binário (base 2).\n",
    "    - Por exemplo, em um sistema numérico binário, é possível representar o número 195 como 11000011. "
   ]
  },
  {
   "cell_type": "markdown",
   "metadata": {},
   "source": [
    "|128|64|32|16|8|4|2|1|\n",
    "|:-:|:-:|:-:|:-:|:-:|:-:|:-:|:-:|\n",
    "|1|1|0|0|0|0|1|1|"
   ]
  },
  {
   "cell_type": "markdown",
   "metadata": {},
   "source": [
    "### <font color=hotpink> Tipos de valor versus tipos de referência </font>"
   ]
  },
  {
   "cell_type": "markdown",
   "metadata": {},
   "source": [
    "- As variáveis de tipos de referência armazenam referências aos respectivos dados (objetos), ou seja, elas apontam para valores de dados armazenados em outro lugar. \n",
    "- As variáveis de tipos de valor contêm diretamente os respectivos dados. "
   ]
  },
  {
   "cell_type": "markdown",
   "metadata": {},
   "source": [
    "## <font color=mediumorchid>  Tipo Inteiro\n",
    "___"
   ]
  },
  {
   "cell_type": "markdown",
   "metadata": {},
   "source": [
    "Há duas subcategorias de tipos inteiros: tipos inteiros com sinal e sem sinal."
   ]
  },
  {
   "cell_type": "markdown",
   "metadata": {},
   "source": [
    "### <font color=hotpink> Usar as propriedades MinValue e MaxValue </font>"
   ]
  },
  {
   "cell_type": "markdown",
   "metadata": {},
   "source": [
    "- Tipos com sinal:"
   ]
  },
  {
   "cell_type": "code",
   "execution_count": 2,
   "metadata": {
    "dotnet_interactive": {
     "language": "csharp"
    },
    "polyglot_notebook": {
     "kernelName": "csharp"
    },
    "vscode": {
     "languageId": "polyglot-notebook"
    }
   },
   "outputs": [
    {
     "name": "stdout",
     "output_type": "stream",
     "text": [
      "Valores dos tipos inteiros com sinal: \n",
      "\n",
      "sbyte:\t -128 até 127\n",
      "short:\t -32768 até 32767\n",
      "int:\t -2147483648 até 2147483647\n",
      "long:\t -9223372036854775808 até 9223372036854775807\n"
     ]
    }
   ],
   "source": [
    "Console.WriteLine(\"Valores dos tipos inteiros com sinal: \\n\");\n",
    "\n",
    "Console.WriteLine($\"sbyte:\\t {sbyte.MinValue} até {sbyte.MaxValue}\");\n",
    "Console.WriteLine($\"short:\\t {short.MinValue} até {short.MaxValue}\");\n",
    "Console.WriteLine($\"int:\\t {int.MinValue} até {int.MaxValue}\");\n",
    "Console.WriteLine($\"long:\\t {long.MinValue} até {long.MaxValue}\");"
   ]
  },
  {
   "cell_type": "markdown",
   "metadata": {},
   "source": [
    "- Tipos sem sinal:"
   ]
  },
  {
   "cell_type": "code",
   "execution_count": 3,
   "metadata": {
    "dotnet_interactive": {
     "language": "csharp"
    },
    "polyglot_notebook": {
     "kernelName": "csharp"
    },
    "vscode": {
     "languageId": "polyglot-notebook"
    }
   },
   "outputs": [
    {
     "name": "stdout",
     "output_type": "stream",
     "text": [
      "Valores do tipo inteiro sem sinal: \n",
      "\n",
      "byte:\t 0 até 255\n",
      "ushort:\t 0 até 65535\n",
      "uint:\t 0 até 4294967295\n",
      "ulong:\t 0 até 18446744073709551615\n"
     ]
    }
   ],
   "source": [
    "Console.WriteLine(\"Valores do tipo inteiro sem sinal: \\n\");\n",
    "\n",
    "Console.WriteLine($\"byte:\\t {byte.MinValue} até {byte.MaxValue}\");\n",
    "Console.WriteLine($\"ushort:\\t {ushort.MinValue} até {ushort.MaxValue}\");\n",
    "Console.WriteLine($\"uint:\\t {uint.MinValue} até {uint.MaxValue}\");\n",
    "Console.WriteLine($\"ulong:\\t {ulong.MinValue} até {ulong.MaxValue}\");\n"
   ]
  },
  {
   "cell_type": "markdown",
   "metadata": {},
   "source": [
    "## <font color=mediumorchid> Ponto flutuante\n",
    "___"
   ]
  },
  {
   "cell_type": "markdown",
   "metadata": {},
   "source": [
    "### <font color=hotpink> Tipos </font>"
   ]
  },
  {
   "cell_type": "markdown",
   "metadata": {},
   "source": [
    "- Um ponto flutuante é um tipo de valor simples que representa números à direita da casa decimal. \n",
    "- Precisão é o número de casas com valores armazenadas após o ponto decimal.\n",
    "- os valores `float` e `double` são armazenados internamente em um formato binário (base 2), enquanto `decimal` é armazenado em um formato decimal (base 10). \n",
    "- Geralmente, a matemática de ponto flutuante binária é uma aproximação do valor real. Isso significa que `float` e `double` são úteis, porque números grandes podem ser armazenados usando um pequeno volume de memória. \n",
    "- No entanto, `float` e `double` só devem ser usados quando uma aproximação é útil. Por exemplo, errar em alguns milhares ao calcular a zona de explosão de uma bola de neve em um videogame é uma aproximação boa o suficiente.\n",
    "- Quando você precisar de uma resposta mais precisa, deverá usar `decimal`. Cada valor do tipo `decimal` tem um volume de memória relativamente grande; contudo, efetuar operações matemáticas dá a você um resultado mais preciso. Portanto, você deve usar o `decimal` ao trabalhar com os dados financeiros ou com qualquer cenário em que seja necessário um resultado preciso de um cálculo."
   ]
  },
  {
   "cell_type": "markdown",
   "metadata": {},
   "source": [
    "### <font color=hotpink> Usar as propriedades MinValue e MaxValue para cada tipo de ponto flutuante </font>"
   ]
  },
  {
   "cell_type": "markdown",
   "metadata": {},
   "source": [
    "- Com sinal:"
   ]
  },
  {
   "cell_type": "code",
   "execution_count": 11,
   "metadata": {
    "dotnet_interactive": {
     "language": "csharp"
    },
    "polyglot_notebook": {
     "kernelName": "csharp"
    },
    "vscode": {
     "languageId": "polyglot-notebook"
    }
   },
   "outputs": [
    {
     "name": "stdout",
     "output_type": "stream",
     "text": [
      "Valores de ponto flutuante com sinal:\n",
      "\n",
      "float  :\t-3,4028235E+38 até 3,4028235E+38\n",
      "double :\t-1,7976931348623157E+308 até 1,7976931348623157E+308\n",
      "decimal:\t-79228162514264337593543950335 até 79228162514264337593543950335\n"
     ]
    }
   ],
   "source": [
    "Console.WriteLine(\"Valores de ponto flutuante com sinal:\\n\");\n",
    "\n",
    "Console.WriteLine($\"float  :\\t{float.MinValue} até {float.MaxValue}\");\n",
    "Console.WriteLine($\"double :\\t{double.MinValue} até {double.MaxValue}\");\n",
    "Console.WriteLine($\"decimal:\\t{decimal.MinValue} até {decimal.MaxValue}\");\n"
   ]
  },
  {
   "cell_type": "markdown",
   "metadata": {},
   "source": [
    "## <font color=mediumorchid> Tipos de Referência\n",
    "___"
   ]
  },
  {
   "cell_type": "markdown",
   "metadata": {},
   "source": [
    "- Uma variável de tipo de valor armazena os próprios valores diretamente em uma área de armazenamento chamada pilha. A pilha é a memória alocada ao código que está em execução, no momento, na CPU (também conhecida como o registro de ativação ou quadro de ativação). Quando a execução do registro de ativação for concluída, os valores na pilha serão removidos.\n",
    "\n",
    "- Uma variável de tipo de referência armazena os próprios valores em uma região de memória separada chamada heap. O heap é uma área de memória compartilhada entre muitos aplicativos em execução no sistema operacional ao mesmo tempo. \n",
    "    - O Tempo de Execução do .NET comunica-se com o sistema operacional para determinar quais endereços de memória estão disponíveis e solicita um endereço em que ele possa armazenar o valor.\n",
    "    - O runtime do .NET armazena o valor e, em seguida, retorna o endereço de memória à variável. \n",
    "    - Quando o código usa a variável, o Tempo de Execução do .NET pesquisa sem interrupção o endereço armazenado na variável e recupera o valor que está armazenado lá."
   ]
  },
  {
   "cell_type": "markdown",
   "metadata": {},
   "source": [
    "### <font color=hotpink> Definir uma variável de tipo de referência </font>"
   ]
  },
  {
   "cell_type": "code",
   "execution_count": 12,
   "metadata": {
    "dotnet_interactive": {
     "language": "csharp"
    },
    "polyglot_notebook": {
     "kernelName": "csharp"
    },
    "vscode": {
     "languageId": "polyglot-notebook"
    }
   },
   "outputs": [],
   "source": [
    "int[] data;"
   ]
  },
  {
   "cell_type": "markdown",
   "metadata": {},
   "source": [
    "- Nesse momento, data é simplesmente uma variável que pode armazenar uma referência ou, em vez disso, um endereço de memória de um valor no heap. "
   ]
  },
  {
   "cell_type": "code",
   "execution_count": 13,
   "metadata": {
    "dotnet_interactive": {
     "language": "csharp"
    },
    "polyglot_notebook": {
     "kernelName": "csharp"
    },
    "vscode": {
     "languageId": "polyglot-notebook"
    }
   },
   "outputs": [],
   "source": [
    "int[] data;\n",
    "\n",
    "data = new int[3];"
   ]
  },
  {
   "cell_type": "markdown",
   "metadata": {},
   "source": [
    "- A palavra-chave `new` informa ao runtime do `.NET` que ele deve criar uma instância da matriz `int` e, em seguida, coordenar-se com o sistema operacional para armazená-la na memória. O runtime do .NET cumpre e retorna um endereço de memória da nova matriz `int`. Finalmente, o endereço de memória é armazenado nos dados de variável. O padrão dos elementos da matriz `int` é o valor `0`, pois ele é o valor padrão de um `int`."
   ]
  },
  {
   "cell_type": "code",
   "execution_count": 14,
   "metadata": {
    "dotnet_interactive": {
     "language": "csharp"
    },
    "polyglot_notebook": {
     "kernelName": "csharp"
    },
    "vscode": {
     "languageId": "polyglot-notebook"
    }
   },
   "outputs": [
    {
     "name": "stdout",
     "output_type": "stream",
     "text": [
      "0\r\n"
     ]
    }
   ],
   "source": [
    "Console.WriteLine(data[1]);"
   ]
  },
  {
   "cell_type": "markdown",
   "metadata": {},
   "source": [
    "- executar as duas operações em uma única linha de código:"
   ]
  },
  {
   "cell_type": "code",
   "execution_count": 15,
   "metadata": {
    "dotnet_interactive": {
     "language": "csharp"
    },
    "polyglot_notebook": {
     "kernelName": "csharp"
    },
    "vscode": {
     "languageId": "polyglot-notebook"
    }
   },
   "outputs": [
    {
     "name": "stdout",
     "output_type": "stream",
     "text": [
      "0\n",
      "0\n",
      "0\n"
     ]
    }
   ],
   "source": [
    "int[] data = new int[3];\n",
    "\n",
    "foreach (var i in data)  \n",
    "{\n",
    "    Console.WriteLine(i);\n",
    "}"
   ]
  },
  {
   "cell_type": "markdown",
   "metadata": {},
   "source": [
    "### <font color=hotpink>  Tipo de dados de cadeia de caracteres </font>"
   ]
  },
  {
   "cell_type": "markdown",
   "metadata": {},
   "source": [
    "- O tipo de dados string também é um tipo de referência. \n",
    "- O operador new não foi usado ao declarar uma cadeia de caracteres. Isso é meramente uma conveniência proporcionada pelos designers do C#. Como o tipo de dados string é usado com tanta frequência, é possível usar o seguinte formato:"
   ]
  },
  {
   "cell_type": "code",
   "execution_count": 16,
   "metadata": {
    "dotnet_interactive": {
     "language": "csharp"
    },
    "polyglot_notebook": {
     "kernelName": "csharp"
    },
    "vscode": {
     "languageId": "polyglot-notebook"
    }
   },
   "outputs": [
    {
     "name": "stdout",
     "output_type": "stream",
     "text": [
      "Hello World!\r\n"
     ]
    }
   ],
   "source": [
    "string shortenedString = \"Hello World!\";\n",
    "Console.WriteLine(shortenedString);"
   ]
  },
  {
   "cell_type": "markdown",
   "metadata": {},
   "source": [
    "## <font color=mediumorchid> Escolher o tipo de dados certo\n",
    "___"
   ]
  },
  {
   "cell_type": "markdown",
   "metadata": {},
   "source": [
    "### <font color=hotpink> Escolher o tipo de dados que atende aos requisitos de intervalo de valor de limite do seu aplicativo </font>"
   ]
  },
  {
   "cell_type": "markdown",
   "metadata": {},
   "source": [
    "- Sua escolha de um tipo de dados pode ajudar a definir os limites do tamanho dos dados que você pode armazenar nessa variável específica. Por exemplo, se você sabe que uma variável específica deve armazenar apenas um número entre 1 e 10 mil, caso contrário, estaria fora dos limites do que seria esperado, você provavelmente evitará byte e sbyte porque seus intervalos são muito baixos.\n",
    "\n",
    "- Além disso, você provavelmente não precisaria de int, long, uint e ulong, porque eles podem armazenar mais dados do que é necessário. Da mesma forma, você provavelmente ignoraria float, double e decimal se não precisasse de valores fracionários. Você provavelmente ficará em dúvida entre short e ushort, e ambos podem dar certo. Se você sabe que um valor negativo não tem sentido no aplicativo, pode escolher ushort (inteiro positivo sem sinal, de 0 a 65.535). Agora, qualquer valor atribuído a uma variável do tipo ushort fora do limite de 0 a 65535 geraria uma exceção, o que ajuda sutilmente a impor um grau de verificação de sanidade em seu aplicativo."
   ]
  },
  {
   "cell_type": "markdown",
   "metadata": {},
   "source": [
    "### <font color=hotpink> Comece escolhendo o tipo de dados correto para os dados (não para otimizar o desempenho) </font>"
   ]
  },
  {
   "cell_type": "markdown",
   "metadata": {},
   "source": [
    "- Talvez você considere escolher o tipo de dados que usa o menor número de bits para o armazenamento de dados, achando que isso aprimorará o desempenho do aplicativo. No entanto, alguns dos melhores conselhos relacionados ao desempenho do aplicativo (ou seja, a velocidade de execução do seu aplicativo) é não \"otimizar prematuramente\". Não tente modificar as coisas nas partes do código, incluindo a seleção dos tipos de dados, que pode afetar o desempenho do aplicativo.\n",
    "\n",
    "- Muitos pressupõem que, como um determinado tipo de dados armazena menos informações, ele deve usar menos o processador e a memória do computador do que um tipo de dados que armazena mais informações. Em vez disso, você deve escolher o ajuste correto para seus dados e, posteriormente, pode, de maneira empírica, medir o desempenho do seu aplicativo usando um software especial que fornece insights reais para as partes do seu aplicativo que afetam negativamente o desempenho."
   ]
  },
  {
   "cell_type": "markdown",
   "metadata": {},
   "source": [
    "### <font color=hotpink> Escolher tipos de dados com base nos tipos de dados de entrada e saída das funções de biblioteca usadas </font>"
   ]
  },
  {
   "cell_type": "markdown",
   "metadata": {},
   "source": [
    "- Suponha que você queira trabalhar com um intervalo de anos entre duas datas. Como esse é um aplicativo de negócios, você pode determinar que só precisa de um intervalo entre cerca de 1960 a 2200. Isso pode fazer você pensar em utilizar byte, pois ele pode representar números entre 0 e 255.\n",
    "\n",
    "- No entanto, quando você examina métodos internos nas classes System.TimeSpan e System.DateTime, percebe que elas aceitam valores do tipo double e int. Se escolher sbyte, você constantemente estará transmitindo para frente e para trás entre sbyte e double ou int. Nesse caso, poderá fazer mais sentido escolher int se você não precisar de uma precisão de subsegundos e double se você precisar de uma precisão de subsegundos."
   ]
  },
  {
   "cell_type": "markdown",
   "metadata": {},
   "source": [
    "### <font color=hotpink> Escolher tipos de dados com base no impacto em outros sistemas </font>"
   ]
  },
  {
   "cell_type": "markdown",
   "metadata": {},
   "source": [
    "- Às vezes, é necessário considerar como as informações serão consumidas por outros aplicativos ou outros sistemas, como um banco de dados. Por exemplo, o sistema de tipo do SQL Server é diferente do sistema de tipo do C#. Como resultado, um mapeamento entre os dois deve acontecer antes que você possa salvar dados nesse banco de dados.\n",
    "\n",
    "- Se a finalidade do aplicativo for a interação com um banco de dados, você provavelmente precisará considerar como esses dados são armazenados e em qual quantidade. A escolha de um tipo de dados maior pode afetar a quantidade (e o custo) de armazenamento físico necessário para armazenar todos os dados gerados pelo aplicativo."
   ]
  },
  {
   "cell_type": "markdown",
   "metadata": {},
   "source": [
    "### <font color=hotpink> Em caso de dúvida, vá pelo caminho mais simples </font>"
   ]
  },
  {
   "cell_type": "markdown",
   "metadata": {},
   "source": [
    "Embora você tenha feito várias considerações, você está apenas começando. Por isso, para simplificar, você deve preferir um subconjunto de tipos de dados básicos, incluindo:\n",
    "\n",
    "- `int` para a maioria dos números inteiros\n",
    "- `decimal` para números que representam dinheiro\n",
    "- `bool` para valores true ou false\n",
    "- `string` para valor alfanumérico"
   ]
  },
  {
   "cell_type": "markdown",
   "metadata": {},
   "source": [
    "### <font color=hotpink> Escolha tipos complexos especializados para situações especiais </font>"
   ]
  },
  {
   "cell_type": "markdown",
   "metadata": {},
   "source": [
    "Não reinvente os tipos de dados se um ou mais já existirem para uma determinada finalidade. Os seguintes exemplos identificam quando um tipo de dados .NET específico pode ser útil:\n",
    "\n",
    "- `byte`: para trabalhar com dados codificados provenientes de outros sistemas de computação ou que usam diferentes conjuntos de caracteres.\n",
    "- `double`: para trabalhar com fins geométricos ou científicos. double é usado com frequência ao criar jogos que envolvem movimento.\n",
    "- `System.DateTime` para um valor de data e hora específico.\n",
    "- `System.TimeSpan` para um intervalo de anos/mês/dias/horas/minutos/segundos/milissegundos."
   ]
  },
  {
   "cell_type": "markdown",
   "metadata": {},
   "source": [
    "# <font color=turquoise> Converter tipos de dados usando técnicas de conversão cast em C#\n",
    "___"
   ]
  },
  {
   "cell_type": "markdown",
   "metadata": {},
   "source": [
    "## <font color=mediumorchid> Explorar a coerção e a conversão de tipo de dados\n",
    "___"
   ]
  },
  {
   "cell_type": "markdown",
   "metadata": {},
   "source": [
    "Existem várias técnicas para realizar a conversão de tipos de dados. A escolha da técnica adequada depende da resposta a duas questões cruciais:\n",
    "\n",
    "1. Considerando o valor em questão, existe a possibilidade de que a tentativa de conversão de tipo de dados possa levar a uma exceção durante a execução do programa?\n",
    "2. Dependendo do valor, é possível que a tentativa de conversão de tipo de dados resulte em perda de informações?\n"
   ]
  },
  {
   "cell_type": "markdown",
   "metadata": {},
   "source": [
    "### <font color=hotpink> Tentar alterar o tipo de dados do valor geraria uma exceção no tempo de execução? </font>"
   ]
  },
  {
   "cell_type": "code",
   "execution_count": 37,
   "metadata": {
    "dotnet_interactive": {
     "language": "csharp"
    },
    "polyglot_notebook": {
     "kernelName": "csharp"
    },
    "vscode": {
     "languageId": "polyglot-notebook"
    }
   },
   "outputs": [],
   "source": [
    "int first = 2;\n",
    "string second = \"4\";\n",
    "int result = first + second;\n",
    "Console.WriteLine(result);"
   ]
  },
  {
   "cell_type": "markdown",
   "metadata": {},
   "source": [
    "- Concatenar um número a um string e salvá-lo em uma variável de cadeia de caracteres:"
   ]
  },
  {
   "cell_type": "code",
   "execution_count": 18,
   "metadata": {
    "dotnet_interactive": {
     "language": "csharp"
    },
    "polyglot_notebook": {
     "kernelName": "csharp"
    },
    "vscode": {
     "languageId": "polyglot-notebook"
    }
   },
   "outputs": [
    {
     "name": "stdout",
     "output_type": "stream",
     "text": [
      "24\r\n"
     ]
    }
   ],
   "source": [
    "int first = 2;\n",
    "string second = \"4\";\n",
    "string result = first + second;\n",
    "Console.WriteLine(result);"
   ]
  },
  {
   "cell_type": "markdown",
   "metadata": {},
   "source": [
    "### <font color=hotpink> Compiladores fazem conversões seguras </font>"
   ]
  },
  {
   "cell_type": "markdown",
   "metadata": {},
   "source": [
    "\n",
    "O compilador C# identifica um potencial problema na operação proposta. A variável `second` é do tipo `string`, o que permite que ela receba valores distintos, como `\"hello\"`. Caso o compilador C# tentasse converter um valor como `\"hello\"` em um número, isso resultaria em uma exceção em tempo de execução. Para prevenir tal eventualidade, o compilador C# não realiza automaticamente a conversão de `string` para `int`."
   ]
  },
  {
   "cell_type": "markdown",
   "metadata": {},
   "source": [
    "Para executar a conversão de dados, você pode usar uma de várias técnicas:\n",
    "\n",
    "- Usar um método auxiliar no tipo de dados\n",
    "- Usar um método auxiliar na variável\n",
    "- Use os métodos da classe `Convert`"
   ]
  },
  {
   "cell_type": "markdown",
   "metadata": {},
   "source": [
    "### <font color=hotpink> Tentar alterar o tipo de dados do valor resultaria em uma perda de informações? </font>"
   ]
  },
  {
   "cell_type": "code",
   "execution_count": 19,
   "metadata": {
    "dotnet_interactive": {
     "language": "csharp"
    },
    "polyglot_notebook": {
     "kernelName": "csharp"
    },
    "vscode": {
     "languageId": "polyglot-notebook"
    }
   },
   "outputs": [
    {
     "name": "stdout",
     "output_type": "stream",
     "text": [
      "int: 3\n",
      "decimal: 3\n"
     ]
    }
   ],
   "source": [
    "int myInt = 3;\n",
    "Console.WriteLine($\"int: {myInt}\");\n",
    "\n",
    "decimal myDecimal = myInt;\n",
    "Console.WriteLine($\"decimal: {myDecimal}\");"
   ]
  },
  {
   "cell_type": "markdown",
   "metadata": {},
   "source": [
    "- *Como qualquer valor int pode se ajustar facilmente dentro de um decimal, o compilador executa a conversão.*"
   ]
  },
  {
   "cell_type": "markdown",
   "metadata": {},
   "source": [
    "- O termo ***conversão de expansão*** significa que você está tentando converter um valor de um tipo de dados que poderia armazenar menos informações em um tipo de dados que pode armazenar mais informações. Neste caso, um valor armazenado em uma variável do tipo `int` convertida em uma variável do tipo `decimal` não perde informação."
   ]
  },
  {
   "cell_type": "markdown",
   "metadata": {},
   "source": [
    "### <font color=hotpink> Executar uma coerção (casting) </font>"
   ]
  },
  {
   "cell_type": "markdown",
   "metadata": {},
   "source": [
    "- conversão explícita para o tipo de dados de casting definido"
   ]
  },
  {
   "cell_type": "code",
   "execution_count": 20,
   "metadata": {
    "dotnet_interactive": {
     "language": "csharp"
    },
    "polyglot_notebook": {
     "kernelName": "csharp"
    },
    "vscode": {
     "languageId": "polyglot-notebook"
    }
   },
   "outputs": [
    {
     "name": "stdout",
     "output_type": "stream",
     "text": [
      "3,14\r\n"
     ]
    }
   ],
   "source": [
    "decimal myDecimal = 3.14m;\n",
    "Console.WriteLine(myDecimal);"
   ]
  },
  {
   "cell_type": "code",
   "execution_count": 21,
   "metadata": {
    "dotnet_interactive": {
     "language": "csharp"
    },
    "polyglot_notebook": {
     "kernelName": "csharp"
    },
    "vscode": {
     "languageId": "polyglot-notebook"
    }
   },
   "outputs": [
    {
     "name": "stdout",
     "output_type": "stream",
     "text": [
      "3\r\n"
     ]
    }
   ],
   "source": [
    "int myInt = (int)myDecimal;\n",
    "Console.WriteLine(myInt);"
   ]
  },
  {
   "cell_type": "markdown",
   "metadata": {},
   "source": [
    "- O termo ***conversão de restrição*** significa que você está tentando converter um valor de um tipo de dados que pode conter mais informações para um tipo de dados que pode conter menos. Nesse caso, você pode perder informações como precisão (ou seja, o número de valores após o ponto decimal). "
   ]
  },
  {
   "cell_type": "code",
   "execution_count": 22,
   "metadata": {
    "dotnet_interactive": {
     "language": "csharp"
    },
    "polyglot_notebook": {
     "kernelName": "csharp"
    },
    "vscode": {
     "languageId": "polyglot-notebook"
    }
   },
   "outputs": [
    {
     "name": "stdout",
     "output_type": "stream",
     "text": [
      "Decimal: 1,23456789\n",
      "Float  : 1,2345679\n"
     ]
    }
   ],
   "source": [
    "decimal myDecimal = 1.23456789m;\n",
    "float myFloat = (float)myDecimal;\n",
    "\n",
    "Console.WriteLine($\"Decimal: {myDecimal}\");\n",
    "Console.WriteLine($\"Float  : {myFloat}\");"
   ]
  },
  {
   "cell_type": "markdown",
   "metadata": {},
   "source": [
    "- O casting de `decimal` em `float` é uma ***conversão de restrição*** porque você está perdendo a precisão."
   ]
  },
  {
   "cell_type": "markdown",
   "metadata": {},
   "source": [
    "### <font color=hotpink> Usar `ToString()` para converter um número em um `string` </font>"
   ]
  },
  {
   "cell_type": "markdown",
   "metadata": {},
   "source": [
    "- Cada variável de tipo de dados tem um método `ToString()`.\n",
    "- O que o método `ToString()` faz depende de como ele é implementado em um determinado tipo. "
   ]
  },
  {
   "cell_type": "code",
   "execution_count": 23,
   "metadata": {
    "dotnet_interactive": {
     "language": "csharp"
    },
    "polyglot_notebook": {
     "kernelName": "csharp"
    },
    "vscode": {
     "languageId": "polyglot-notebook"
    }
   },
   "outputs": [
    {
     "name": "stdout",
     "output_type": "stream",
     "text": [
      "510\r\n"
     ]
    }
   ],
   "source": [
    "int primeiro = 5;\n",
    "int segundo = 10;\n",
    "string mensagem = primeiro.ToString() + segundo.ToString();\n",
    "Console.WriteLine(mensagem);"
   ]
  },
  {
   "cell_type": "markdown",
   "metadata": {},
   "source": [
    "### <font color=hotpink> Converter um `string` em um `int` usando o método auxiliar `Parse()` </font>"
   ]
  },
  {
   "cell_type": "markdown",
   "metadata": {},
   "source": [
    "- A maioria dos tipos de dados numéricos tem um método `Parse()`, que converte uma cadeia de caracteres no tipo de dado especificado."
   ]
  },
  {
   "cell_type": "code",
   "execution_count": 24,
   "metadata": {
    "dotnet_interactive": {
     "language": "csharp"
    },
    "polyglot_notebook": {
     "kernelName": "csharp"
    },
    "vscode": {
     "languageId": "polyglot-notebook"
    }
   },
   "outputs": [
    {
     "name": "stdout",
     "output_type": "stream",
     "text": [
      "15\r\n"
     ]
    }
   ],
   "source": [
    "string primeiro = \"5\";\n",
    "string segundo = \"10\";\n",
    " \n",
    " int soma = int.Parse(primeiro) + int.Parse(segundo);\n",
    " Console.WriteLine(soma);\n"
   ]
  },
  {
   "cell_type": "markdown",
   "metadata": {},
   "source": [
    "### <font color=hotpink> Converter um `string` em um `int` usando a classe `Convert` </font>"
   ]
  },
  {
   "cell_type": "markdown",
   "metadata": {},
   "source": [
    "- A classe `Convert` tem vários métodos auxiliares para converter um valor de um tipo em outro."
   ]
  },
  {
   "cell_type": "code",
   "execution_count": 25,
   "metadata": {
    "dotnet_interactive": {
     "language": "csharp"
    },
    "polyglot_notebook": {
     "kernelName": "csharp"
    },
    "vscode": {
     "languageId": "polyglot-notebook"
    }
   },
   "outputs": [
    {
     "name": "stdout",
     "output_type": "stream",
     "text": [
      "77\r\n"
     ]
    }
   ],
   "source": [
    "string valor1 = \"7\";\n",
    "string valor2 = \"11\";\n",
    "\n",
    "int resultadoMultiplicacao = Convert.ToInt32(valor1) * Convert.ToInt32(valor2);\n",
    "\n",
    "Console.WriteLine(resultadoMultiplicacao);"
   ]
  },
  {
   "cell_type": "markdown",
   "metadata": {},
   "source": [
    "- *O método `ToInt32()` tem 19 sobrecargas, o que permite aceitar praticamente todos os tipos de dados.*"
   ]
  },
  {
   "cell_type": "markdown",
   "metadata": {},
   "source": [
    "- *A classe `Convert` é melhor para converter números fracionários em números inteiros (`int`) porque os arredonda da maneira esperada.*"
   ]
  },
  {
   "cell_type": "markdown",
   "metadata": {},
   "source": [
    "### <font color=hotpink> Comparar o casting e a conversão de um `decimal` em um `int` </font>"
   ]
  },
  {
   "cell_type": "code",
   "execution_count": 26,
   "metadata": {
    "dotnet_interactive": {
     "language": "csharp"
    },
    "polyglot_notebook": {
     "kernelName": "csharp"
    },
    "vscode": {
     "languageId": "polyglot-notebook"
    }
   },
   "outputs": [
    {
     "name": "stdout",
     "output_type": "stream",
     "text": [
      "1\r\n"
     ]
    }
   ],
   "source": [
    "int valor1 = (int)1.5m; // Trunca o valor na parte inteira.\n",
    "Console.WriteLine(valor1);"
   ]
  },
  {
   "cell_type": "code",
   "execution_count": 27,
   "metadata": {
    "dotnet_interactive": {
     "language": "csharp"
    },
    "polyglot_notebook": {
     "kernelName": "csharp"
    },
    "vscode": {
     "languageId": "polyglot-notebook"
    }
   },
   "outputs": [
    {
     "name": "stdout",
     "output_type": "stream",
     "text": [
      "2\r\n"
     ]
    }
   ],
   "source": [
    "int valor2 = Convert.ToInt32(1.5m); // arredonda o valor para inteiro.\n",
    "Console.WriteLine(valor2);"
   ]
  },
  {
   "cell_type": "markdown",
   "metadata": {},
   "source": [
    "## <font color=mediumorchid> Método TryParse()\n",
    "___\n",
    "</font>"
   ]
  },
  {
   "cell_type": "markdown",
   "metadata": {},
   "source": [
    "Às vezes, ao trabalhar com dados, é necessário converter dados de cadeia de caracteres em um tipo de dados numérico. Para evitar uma exceção de formato, use o método `TryParse()` no tipo de dados de destino."
   ]
  },
  {
   "cell_type": "markdown",
   "metadata": {},
   "source": [
    "### <font color=hotpink> Usar `TryParse()` </font>"
   ]
  },
  {
   "cell_type": "markdown",
   "metadata": {},
   "source": [
    "O método `TryParse()` faz várias coisas simultaneamente:\n",
    "\n",
    "- Ele tenta analisar uma cadeia de caracteres sobre o tipo de dados numérico fornecido.\n",
    "- Se a conversão der certo, o valor convertido é armazenado em um parâmetro de saída, explicado na seção a seguir.\n",
    "- Retorna um `bool` para indicar se a ação foi bem-sucedida ou falhou.\n",
    "\n",
    "É possível usar o valor de retorno booliano para tomar uma ação com relação ao valor"
   ]
  },
  {
   "cell_type": "markdown",
   "metadata": {},
   "source": [
    "### <font color=hotpink> Parâmetros externos </font>"
   ]
  },
  {
   "cell_type": "markdown",
   "metadata": {},
   "source": [
    "- Os métodos podem retornar um valor ou retornar \"nulo\", o que significa que eles não retornam nenhum valor. \n",
    "- Os métodos também podem retornar valores por meio de parâmetros `out`, definidos como um parâmetro de entrada, porém incluem a palavra-chave `out`."
   ]
  },
  {
   "cell_type": "markdown",
   "metadata": {},
   "source": [
    "### <font color=hotpink> Utilizar o método TryParse() para analisar uma cadeia de caracteres como um int </font>"
   ]
  },
  {
   "cell_type": "code",
   "execution_count": 28,
   "metadata": {
    "dotnet_interactive": {
     "language": "csharp"
    },
    "polyglot_notebook": {
     "kernelName": "csharp"
    },
    "vscode": {
     "languageId": "polyglot-notebook"
    }
   },
   "outputs": [
    {
     "name": "stdout",
     "output_type": "stream",
     "text": [
      "102\r\n"
     ]
    }
   ],
   "source": [
    "string valor = \"102\";\n",
    "\n",
    "int resultado = 0;\n",
    "\n",
    "if (int.TryParse(valor, out resultado))\n",
    "{\n",
    "    Console.WriteLine(resultado);\n",
    "}\n",
    "else\n",
    "{\n",
    "    Console.WriteLine(\"Não é um número\");\n",
    "}"
   ]
  },
  {
   "cell_type": "code",
   "execution_count": 29,
   "metadata": {
    "dotnet_interactive": {
     "language": "csharp"
    },
    "polyglot_notebook": {
     "kernelName": "csharp"
    },
    "vscode": {
     "languageId": "polyglot-notebook"
    }
   },
   "outputs": [
    {
     "name": "stdout",
     "output_type": "stream",
     "text": [
      "Não é um número\r\n"
     ]
    }
   ],
   "source": [
    "string valor = \"opa\";\n",
    "\n",
    "int resultado = 0;\n",
    "\n",
    "if (int.TryParse(valor, out resultado))\n",
    "{\n",
    "    Console.WriteLine(resultado);\n",
    "}\n",
    "else\n",
    "{\n",
    "    Console.WriteLine(\"Não é um número\");\n",
    "}"
   ]
  },
  {
   "cell_type": "markdown",
   "metadata": {},
   "source": [
    "- *A palavra-chave out indica ao compilador que o método TryParse() não retornará um valor somente da maneira tradicional (como um valor de retorno), mas também comunicará uma saída por meio desse parâmetro bidirecional.*"
   ]
  },
  {
   "cell_type": "markdown",
   "metadata": {},
   "source": [
    "### <font color=hotpink> O int analisado será usado posteriormente no código </font>"
   ]
  },
  {
   "cell_type": "code",
   "execution_count": 31,
   "metadata": {
    "dotnet_interactive": {
     "language": "csharp"
    },
    "polyglot_notebook": {
     "kernelName": "csharp"
    },
    "vscode": {
     "languageId": "polyglot-notebook"
    }
   },
   "outputs": [
    {
     "name": "stdout",
     "output_type": "stream",
     "text": [
      "Medida: 102\n",
      "Medida (w/ offset): 152\n"
     ]
    }
   ],
   "source": [
    "string valor = \"102\";\n",
    "\n",
    "int resultado = 0;\n",
    "\n",
    "if (int.TryParse(valor, out resultado))\n",
    "{\n",
    "    Console.WriteLine($\"Medida: {resultado}\");\n",
    "}\n",
    "else\n",
    "{\n",
    "    Console.WriteLine(\"Não é um número\");\n",
    "}\n",
    "\n",
    "Console.WriteLine($\"Medida (w/ offset): {50 + resultado}\");"
   ]
  },
  {
   "cell_type": "code",
   "execution_count": 36,
   "metadata": {
    "dotnet_interactive": {
     "language": "csharp"
    },
    "polyglot_notebook": {
     "kernelName": "csharp"
    },
    "vscode": {
     "languageId": "polyglot-notebook"
    }
   },
   "outputs": [
    {
     "name": "stdout",
     "output_type": "stream",
     "text": [
      "Não foi possível converter o valor \"badf\" para inteiro.\r\n"
     ]
    }
   ],
   "source": [
    "string valor = \"badf\";\n",
    "\n",
    "int resultado = 0;\n",
    "\n",
    "if (int.TryParse(valor, out resultado))\n",
    "{\n",
    "    Console.WriteLine($\"Medida: {resultado}\");\n",
    "}\n",
    "else\n",
    "{\n",
    "    Console.WriteLine($\"Não foi possível converter o valor \\\"{valor}\\\" para inteiro.\");\n",
    "}\n",
    "if (resultado > 0)\n",
    "    Console.WriteLine($\"Medida (w/ offset): {50 + resultado}\");"
   ]
  },
  {
   "cell_type": "markdown",
   "metadata": {},
   "source": [
    "# <font color=turquoise> Executar operações em matrizes usando métodos auxiliares em C#\n",
    "___"
   ]
  },
  {
   "cell_type": "markdown",
   "metadata": {},
   "source": [
    "## <font color=mediumorchid> Conhecer as funções Sort() e Reverse()\n",
    "___\n",
    "</font>"
   ]
  },
  {
   "cell_type": "markdown",
   "metadata": {},
   "source": [
    "A classe Array contém métodos que você pode usar para manipular o conteúdo, a disposição e o tamanho de uma matriz."
   ]
  },
  {
   "cell_type": "markdown",
   "metadata": {},
   "source": [
    "### <font color=hotpink> Criar uma matriz de paletes, depois classificá-los\n",
    " </font>"
   ]
  },
  {
   "cell_type": "code",
   "execution_count": 44,
   "metadata": {
    "dotnet_interactive": {
     "language": "csharp"
    },
    "polyglot_notebook": {
     "kernelName": "csharp"
    },
    "vscode": {
     "languageId": "polyglot-notebook"
    }
   },
   "outputs": [
    {
     "name": "stdout",
     "output_type": "stream",
     "text": [
      "Na ordem original:\n",
      "B14\tA11\tB12\tA13\t\n",
      "Ordenados...:\n",
      "A11\tA13\tB12\tB14\t"
     ]
    }
   ],
   "source": [
    "string[] pallets = { \"B14\", \"A11\", \"B12\", \"A13\" };\n",
    "\n",
    "Console.WriteLine(\"Na ordem original:\");\n",
    "foreach (var pallet in pallets) \n",
    "{\n",
    "    Console.Write($\"{pallet}\\t\");\n",
    "}\n",
    "\n",
    "Console.WriteLine(\"\");\n",
    "Console.WriteLine(\"Ordenados...:\");\n",
    "Array.Sort(pallets);\n",
    "\n",
    "foreach (var pallet in pallets)\n",
    "{\n",
    "    Console.Write($\"{pallet}\\t\");\n",
    "}"
   ]
  },
  {
   "cell_type": "markdown",
   "metadata": {},
   "source": [
    "### <font color=hotpink> Inverter a ordem dos paletes </font>"
   ]
  },
  {
   "cell_type": "code",
   "execution_count": 46,
   "metadata": {
    "dotnet_interactive": {
     "language": "csharp"
    },
    "polyglot_notebook": {
     "kernelName": "csharp"
    },
    "vscode": {
     "languageId": "polyglot-notebook"
    }
   },
   "outputs": [
    {
     "name": "stdout",
     "output_type": "stream",
     "text": [
      "Na ordem original:\n",
      "B14\tA11\tB12\tA13\t\n",
      "\n",
      "Ordenados...:\n",
      "A11\tA13\tB12\tB14\t\n",
      "\n",
      "Revertendo a ordem...:\n",
      "B14\tB12\tA13\tA11\t"
     ]
    }
   ],
   "source": [
    "string[] pallets = { \"B14\", \"A11\", \"B12\", \"A13\" };\n",
    "\n",
    "Console.WriteLine(\"Na ordem original:\");\n",
    "foreach (var pallet in pallets) \n",
    "{\n",
    "    Console.Write($\"{pallet}\\t\");\n",
    "}\n",
    "\n",
    "Console.WriteLine(\"\\n\");\n",
    "Console.WriteLine(\"Ordenados...:\");\n",
    "Array.Sort(pallets);\n",
    "\n",
    "foreach (var pallet in pallets)\n",
    "{\n",
    "    Console.Write($\"{pallet}\\t\");\n",
    "}\n",
    "\n",
    "Console.WriteLine(\"\\n\");\n",
    "Console.WriteLine(\"Revertendo a ordem...:\");\n",
    "Array.Reverse(pallets);\n",
    "\n",
    "foreach (var pallet in pallets)\n",
    "{\n",
    "    Console.Write($\"{pallet}\\t\");\n",
    "}"
   ]
  },
  {
   "cell_type": "markdown",
   "metadata": {},
   "source": [
    "## <font color=mediumorchid> Métodos Clear() e Resize()\n",
    "___\n",
    "</font>"
   ]
  },
  {
   "cell_type": "markdown",
   "metadata": {},
   "source": [
    "### <font color=hotpink> Usar métodos de matriz para limpar e redimensionar uma matriz </font>"
   ]
  },
  {
   "cell_type": "markdown",
   "metadata": {},
   "source": [
    "- O método `Array.Clear()` permite remover o conteúdo de elementos específicos em sua matriz e substituí-lo pelo valor padrão da matriz. \n",
    "\n",
    "- O método `Array.Resize()` adiciona ou remove elementos da matriz."
   ]
  },
  {
   "cell_type": "code",
   "execution_count": 52,
   "metadata": {
    "dotnet_interactive": {
     "language": "csharp"
    },
    "polyglot_notebook": {
     "kernelName": "csharp"
    },
    "vscode": {
     "languageId": "polyglot-notebook"
    }
   },
   "outputs": [
    {
     "name": "stdout",
     "output_type": "stream",
     "text": [
      "Matriz Original:\n",
      "B14\tA11\tB12\tA13\t\n",
      "---------------------------------------------------\n",
      "\n",
      "Limpando 2 ... count: 4\n",
      "\t\tB12\tA13\t\n",
      "---------------------------------------------------\n",
      "\n"
     ]
    }
   ],
   "source": [
    "string[] pallets = { \"B14\", \"A11\", \"B12\", \"A13\" };\n",
    "\n",
    "Console.WriteLine(\"Matriz Original:\");\n",
    "foreach (string pallet in pallets) Console.Write($\"{pallet}\\t\");\n",
    "Console.WriteLine(\"\\n---------------------------------------------------\\n\");\n",
    "\n",
    "Array.Clear(pallets, 0, 2); // limpar os valores começando no índice 0 e limpando os 2 elementos.\n",
    "Console.WriteLine($\"Limpando 2 ... count: {pallets.Length}\");\n",
    "foreach (string pallet in pallets) Console.Write($\"{pallet}\\t\");\n",
    "Console.WriteLine(\"\\n---------------------------------------------------\\n\");\n",
    "\n"
   ]
  },
  {
   "cell_type": "markdown",
   "metadata": {},
   "source": [
    "### <font color=hotpink> Cadeia de caracteres vazia versus nula </font>"
   ]
  },
  {
   "cell_type": "markdown",
   "metadata": {},
   "source": [
    "- Quando você usa `Array.Clear()`, os elementos que foram limpos não referenciam mais uma cadeia de caracteres na memória. "
   ]
  },
  {
   "cell_type": "markdown",
   "metadata": {},
   "source": [
    "> - Acessar o valor de um elemento que foi limpo:"
   ]
  },
  {
   "cell_type": "code",
   "execution_count": 53,
   "metadata": {
    "dotnet_interactive": {
     "language": "csharp"
    },
    "polyglot_notebook": {
     "kernelName": "csharp"
    },
    "vscode": {
     "languageId": "polyglot-notebook"
    }
   },
   "outputs": [
    {
     "name": "stdout",
     "output_type": "stream",
     "text": [
      "Matriz Original:\n",
      "B14\tA11\tB12\tA13\t\n",
      "---------------------------------------------------\n",
      "\n",
      "Antes: B14\n",
      "Depois: \n"
     ]
    }
   ],
   "source": [
    "string[] pallets = { \"B14\", \"A11\", \"B12\", \"A13\" };\n",
    "\n",
    "Console.WriteLine(\"Matriz Original:\");\n",
    "foreach (string pallet in pallets) Console.Write($\"{pallet}\\t\");\n",
    "Console.WriteLine(\"\\n---------------------------------------------------\\n\");\n",
    "\n",
    "Console.WriteLine($\"Antes: {pallets[0]}\");\n",
    "Array.Clear(pallets, 0, 2); // limpar os valores começando no índice 0 e limpando os 2 elementos.\n",
    "Console.WriteLine($\"Depois: {pallets[0]}\");"
   ]
  },
  {
   "cell_type": "markdown",
   "metadata": {},
   "source": [
    "- *Se você se concentrar na linha de saída After: , poderá achar que o valor armazenado em pallets[0] é uma cadeia de caracteres vazia. No entanto, o compilador C# converte implicitamente o valor nulo em uma cadeia de caracteres vazia para apresentação.*"
   ]
  },
  {
   "cell_type": "markdown",
   "metadata": {},
   "source": [
    "### <font color=hotpink> Chamar um método auxiliar de cadeia de caracteres em um elemento limpo </font>"
   ]
  },
  {
   "cell_type": "code",
   "execution_count": 55,
   "metadata": {
    "dotnet_interactive": {
     "language": "csharp"
    },
    "polyglot_notebook": {
     "kernelName": "csharp"
    },
    "vscode": {
     "languageId": "polyglot-notebook"
    }
   },
   "outputs": [
    {
     "name": "stdout",
     "output_type": "stream",
     "text": [
      "Matriz Original:\n",
      "B14\tA11\tB12\tA13\t\n",
      "---------------------------------------------------\n",
      "\n",
      "Antes: b14\n"
     ]
    }
   ],
   "source": [
    "string[] pallets = { \"B14\", \"A11\", \"B12\", \"A13\" };\n",
    "\n",
    "Console.WriteLine(\"Matriz Original:\");\n",
    "foreach (string pallet in pallets) Console.Write($\"{pallet}\\t\");\n",
    "Console.WriteLine(\"\\n---------------------------------------------------\\n\");\n",
    "\n",
    "Console.WriteLine($\"Antes: {pallets[0].ToLower()}\");\n",
    "Array.Clear(pallets, 0, 2); // limpar os valores começando no índice 0 e limpando os 2 elementos.\n",
    "// Console.WriteLine($\"Depois: {pallets[0].ToLower()}\");\n",
    "if (pallets[0] != null)\n",
    "    Console.WriteLine($\"Depois: {pallets[0].ToLower()}\");"
   ]
  },
  {
   "cell_type": "markdown",
   "metadata": {},
   "source": [
    "*Essa exceção é gerada porque a tentativa de chamar o método no conteúdo do elemento pallets[0] acontece antes que o compilador do C# tenha a chance de converter implicitamente o valor nulo para uma cadeia de caracteres vazia.*"
   ]
  },
  {
   "cell_type": "markdown",
   "metadata": {},
   "source": [
    "### <font color=hotpink> Redimensionar a matriz para adicionar mais elementos </font>"
   ]
  },
  {
   "cell_type": "markdown",
   "metadata": {},
   "source": [
    "- Utiliza o Método `Resize()` passando por referência a matriz `ref matriz`"
   ]
  },
  {
   "cell_type": "code",
   "execution_count": 65,
   "metadata": {
    "dotnet_interactive": {
     "language": "csharp"
    },
    "polyglot_notebook": {
     "kernelName": "csharp"
    },
    "vscode": {
     "languageId": "polyglot-notebook"
    }
   },
   "outputs": [
    {
     "name": "stdout",
     "output_type": "stream",
     "text": [
      "Total de pallets: 4\n",
      "- B14\t- A11\t- B12\t- A13\t\n",
      "--------------------------------------------\n",
      "\n",
      "\n",
      "Redimensionando...\n",
      "Total de pallets: 6\n",
      "- B14\t- A11\t- B12\t- A13\t- \t- \t\n",
      "--------------------------------------------\n",
      "\n",
      "\n"
     ]
    }
   ],
   "source": [
    "string[] pallets = { \"B14\", \"A11\", \"B12\", \"A13\" };\n",
    "Console.WriteLine($\"Total de pallets: {pallets.Length}\");\n",
    "foreach (string pallet in pallets) Console.Write($\"- {pallet}\\t\");\n",
    "Console.WriteLine(\"\\n--------------------------------------------\\n\\n\");\n",
    "\n",
    "Console.WriteLine(\"Redimensionando...\");\n",
    "Array.Resize(ref pallets, 6);\n",
    "Console.WriteLine($\"Total de pallets: {pallets.Length}\");\n",
    "foreach (string pallet in pallets) Console.Write($\"- {pallet}\\t\");\n",
    "Console.WriteLine(\"\\n--------------------------------------------\\n\\n\");\n"
   ]
  },
  {
   "cell_type": "markdown",
   "metadata": {},
   "source": [
    "### <font color=hotpink> Redimensionar a matriz para remover elementos </font>"
   ]
  },
  {
   "cell_type": "code",
   "execution_count": 72,
   "metadata": {
    "dotnet_interactive": {
     "language": "csharp"
    },
    "notebookRunGroups": {
     "groupValue": "2"
    },
    "polyglot_notebook": {
     "kernelName": "csharp"
    },
    "vscode": {
     "languageId": "polyglot-notebook"
    }
   },
   "outputs": [
    {
     "name": "stdout",
     "output_type": "stream",
     "text": [
      "Total de pallets: 4\n",
      "- B14\n",
      "- A11\n",
      "- B12\n",
      "- A13\n",
      "--------------------------------------------\n",
      "\n",
      "Clearing 2 ... Total de pallets: 4\n",
      "- \n",
      "- \n",
      "- B12\n",
      "- A13\n",
      "--------------------------------------------\n",
      "\n",
      "Resizing...6 Total de pallets: 6\n",
      "- \n",
      "- \n",
      "- B12\n",
      "- A13\n",
      "- \n",
      "- \n",
      "--------------------------------------------\n",
      "\n",
      "New elements 5 e 6.. Total de pallets: 6\n",
      "- \n",
      "- \n",
      "- B12\n",
      "- A13\n",
      "- C01\n",
      "- C02\n",
      "--------------------------------------------\n",
      "\n",
      "Resizing 3... Total de pallets: 3\n",
      "- \t\n",
      "- \t\n",
      "- B12\t\n",
      "--------------------------------------------\n",
      "\n"
     ]
    }
   ],
   "source": [
    "string[] pallets = { \"B14\", \"A11\", \"B12\", \"A13\" };\n",
    "Console.WriteLine($\"Total de pallets: {pallets.Length}\");\n",
    "foreach (string pallet in pallets) Console.WriteLine($\"- {pallet}\");\n",
    "Console.WriteLine(\"--------------------------------------------\\n\");\n",
    "\n",
    "Array.Clear(pallets, 0, 2);\n",
    "Console.WriteLine($\"Clearing 2 ... Total de pallets: {pallets.Length}\");\n",
    "foreach (string pallet in pallets) Console.WriteLine($\"- {pallet}\");\n",
    "Console.WriteLine(\"--------------------------------------------\\n\");\n",
    "\n",
    "Array.Resize(ref pallets, 6);\n",
    "Console.WriteLine($\"Resizing...6 Total de pallets: {pallets.Length}\");\n",
    "foreach (string pallet in pallets) Console.WriteLine($\"- {pallet}\");\n",
    "Console.WriteLine(\"--------------------------------------------\\n\");\n",
    "\n",
    "pallets[4] = \"C01\";\n",
    "pallets[5] = \"C02\";\n",
    "Console.WriteLine($\"New elements 5 e 6.. Total de pallets: {pallets.Length}\");\n",
    "foreach (string pallet in pallets) Console.WriteLine($\"- {pallet}\");\n",
    "Console.WriteLine(\"--------------------------------------------\\n\");\n",
    "\n",
    "\n",
    "Array.Resize(ref pallets, 3); // remove os 3 últimos elementos\n",
    "Console.WriteLine($\"Resizing 3... Total de pallets: {pallets.Length}\");\n",
    "foreach (string pallet in pallets) Console.WriteLine($\"- {pallet}\\t\");\n",
    "Console.WriteLine(\"--------------------------------------------\\n\");"
   ]
  },
  {
   "cell_type": "markdown",
   "metadata": {},
   "source": [
    "### <font color=hotpink> É possível remover elementos nulos de uma matriz? </font>"
   ]
  },
  {
   "cell_type": "markdown",
   "metadata": {},
   "source": [
    "- O método `Array.Resize()` não remove elementos vazios de uma matriz, e não há algum outro método auxiliar que faz isso automaticamente.\n",
    "    - A melhor maneira de esvaziar os elementos de uma matriz é contar o número de elementos não nulos percorrendo cada item e incrementando uma variável (contador). \n",
    "    - Em seguida, você criará uma segunda matriz que tem o tamanho da variável do contador. \n",
    "    - Por fim, você executará um loop em cada elemento na matriz original e copiará valores não nulos na nova matriz."
   ]
  },
  {
   "cell_type": "markdown",
   "metadata": {},
   "source": [
    "## <font color=mediumorchid> Split() e Join()\n",
    "___\n",
    "</font>"
   ]
  },
  {
   "cell_type": "markdown",
   "metadata": {},
   "source": [
    "### <font color=hotpink> Métodos de matriz do tipo de dados de cadeia de caracteres </font>"
   ]
  },
  {
   "cell_type": "markdown",
   "metadata": {},
   "source": [
    "As variáveis do tipo string têm muitos métodos internos que convertem uma única cadeia de caracteres em uma matriz de cadeias de caracteres menores ou em uma matriz de caracteres individuais."
   ]
  },
  {
   "cell_type": "markdown",
   "metadata": {},
   "source": [
    "### <font color=hotpink> Usar o `ToCharArray()` para reverter um `string` </font>"
   ]
  },
  {
   "cell_type": "code",
   "execution_count": 75,
   "metadata": {
    "dotnet_interactive": {
     "language": "csharp"
    },
    "polyglot_notebook": {
     "kernelName": "csharp"
    },
    "vscode": {
     "languageId": "polyglot-notebook"
    }
   },
   "outputs": [
    {
     "name": "stdout",
     "output_type": "stream",
     "text": [
      "-- a\n",
      "-- b\n",
      "-- c\n",
      "-- 1\n",
      "-- 2\n",
      "-- 3\n"
     ]
    }
   ],
   "source": [
    "string valor = \"abc123\";\n",
    "char[] valorArray = valor.ToCharArray();\n",
    "\n",
    "foreach (var i in valorArray) Console.WriteLine($\"-- {i}\");"
   ]
  },
  {
   "cell_type": "markdown",
   "metadata": {},
   "source": [
    "### <font color=hotpink> Inverter e, em seguida, combinar a matriz char em uma nova cadeia de caracteres </font>"
   ]
  },
  {
   "cell_type": "code",
   "execution_count": 78,
   "metadata": {
    "dotnet_interactive": {
     "language": "csharp"
    },
    "polyglot_notebook": {
     "kernelName": "csharp"
    },
    "vscode": {
     "languageId": "polyglot-notebook"
    }
   },
   "outputs": [
    {
     "name": "stdout",
     "output_type": "stream",
     "text": [
      "abc123\n",
      "-----------------\n",
      "321cba\t\n"
     ]
    }
   ],
   "source": [
    "string valor = \"abc123\";\n",
    "char[] valorArray = valor.ToCharArray();\n",
    "foreach (var i in valorArray) Console.Write($\"{i}\");\n",
    "Console.WriteLine(\"\\n-----------------\\n\");\n",
    "\n",
    "Array.Reverse(valorArray);\n",
    "string valor2 = new String(valorArray);\n",
    "Console.WriteLine($\"{valor2}\\t\");\n"
   ]
  },
  {
   "cell_type": "markdown",
   "metadata": {},
   "source": [
    "*A expressão new string(valueArray) cria uma instância vazia da classe System.String (que é a mesma do tipo de dados string em C#) e passa a matriz char como um construtor.*"
   ]
  },
  {
   "cell_type": "markdown",
   "metadata": {},
   "source": [
    "### <font color=hotpink> Combinar todos os caracteres em uma nova cadeia de caracteres com valor separado por vírgula usando `Join()` </font>"
   ]
  },
  {
   "cell_type": "code",
   "execution_count": 79,
   "metadata": {
    "dotnet_interactive": {
     "language": "csharp"
    },
    "polyglot_notebook": {
     "kernelName": "csharp"
    },
    "vscode": {
     "languageId": "polyglot-notebook"
    }
   },
   "outputs": [
    {
     "name": "stdout",
     "output_type": "stream",
     "text": [
      "3,2,1,c,b,a\r\n"
     ]
    }
   ],
   "source": [
    "string valor = \"abc123\";\n",
    "char[] valorArray = valor.ToCharArray();\n",
    "Array.Reverse(valorArray);\n",
    "\n",
    "string resultado = String.Join(\",\", valorArray);\n",
    "\n",
    "Console.WriteLine(resultado);"
   ]
  },
  {
   "cell_type": "markdown",
   "metadata": {},
   "source": [
    "### <font color=hotpink> `Split()` a nova cadeia de caracteres de valor separado por vírgula em uma matriz de cadeias de caracteres </font>"
   ]
  },
  {
   "cell_type": "code",
   "execution_count": 83,
   "metadata": {
    "dotnet_interactive": {
     "language": "csharp"
    },
    "polyglot_notebook": {
     "kernelName": "csharp"
    },
    "vscode": {
     "languageId": "polyglot-notebook"
    }
   },
   "outputs": [
    {
     "name": "stdout",
     "output_type": "stream",
     "text": [
      "String: (3,2,1,c,b,a)\n",
      "\n",
      "3\n",
      "2\n",
      "1\n",
      "c\n",
      "b\n",
      "a\n"
     ]
    }
   ],
   "source": [
    "string valor = \"abc123\";\n",
    "char[] valorArray = valor.ToCharArray();\n",
    "Array.Reverse(valorArray);\n",
    "\n",
    "string resultado = String.Join(\",\", valorArray);\n",
    "Console.WriteLine($\"String: {resultado}\");\n",
    "\n",
    "\n",
    "Console.WriteLine(\"\");\n",
    "string[] items = resultado.Split(\",\");\n",
    "foreach(var item in items) Console.WriteLine(item);"
   ]
  },
  {
   "cell_type": "markdown",
   "metadata": {},
   "source": [
    "# <font color=turquoise> Formatar dados alfanuméricos para apresentação em C#\n",
    "___"
   ]
  },
  {
   "cell_type": "markdown",
   "metadata": {},
   "source": [
    "## <font color=mediumorchid> Noções básicas da formatação de cadeia de caracteres\n",
    "___\n",
    "</font>"
   ]
  },
  {
   "cell_type": "markdown",
   "metadata": {},
   "source": [
    "### <font color=hotpink> O que é a Formatação Composta? </font>"
   ]
  },
  {
   "cell_type": "markdown",
   "metadata": {},
   "source": [
    "- A formatação composta usa espaços reservados numerados dentro de uma cadeia de caracteres. \n"
   ]
  },
  {
   "cell_type": "markdown",
   "metadata": {},
   "source": [
    ">___\n",
    ">\n",
    "> Este exemplo de formatação composta usa um método interno Format() na palavra-chave do tipo de dados string: \n",
    ">\n",
    ">___"
   ]
  },
  {
   "cell_type": "code",
   "execution_count": 85,
   "metadata": {
    "dotnet_interactive": {
     "language": "csharp"
    },
    "polyglot_notebook": {
     "kernelName": "csharp"
    },
    "vscode": {
     "languageId": "polyglot-notebook"
    }
   },
   "outputs": [
    {
     "name": "stdout",
     "output_type": "stream",
     "text": [
      "Hello World!\r\n"
     ]
    }
   ],
   "source": [
    "string first = \"Hello\";\n",
    "string second = \"World\";\n",
    "string result = string.Format(\"{0} {1}!\", first, second);\n",
    "\n",
    "Console.WriteLine(result);"
   ]
  },
  {
   "cell_type": "markdown",
   "metadata": {},
   "source": [
    "- Os tipos de dados e as variáveis de um determinado tipo de dados têm ***“métodos auxiliares”*** internos para facilitar determinadas tarefas.\n",
    "- A cadeia de caracteres literal `\"{0} {1}!\"` forma um modelo que tem suas partes substituídas no runtime.\n",
    "- O token `{0}` é substituído pelo primeiro argumento depois do modelo da cadeia de caracteres; em outras palavras, o valor da variável `first`.\n",
    "- O token `{1}` é substituído pelo segundo argumento depois do modelo da cadeia de caracteres; em outras palavras, o valor da variável `second`."
   ]
  },
  {
   "cell_type": "code",
   "execution_count": 86,
   "metadata": {
    "dotnet_interactive": {
     "language": "csharp"
    },
    "polyglot_notebook": {
     "kernelName": "csharp"
    },
    "vscode": {
     "languageId": "polyglot-notebook"
    }
   },
   "outputs": [
    {
     "name": "stdout",
     "output_type": "stream",
     "text": [
      "World Hello!\n",
      "Hello Hello Hello!\n"
     ]
    }
   ],
   "source": [
    "string first = \"Hello\";\n",
    "string second = \"World\";\n",
    "Console.WriteLine(\"{1} {0}!\", first, second);\n",
    "Console.WriteLine(\"{0} {0} {0}!\", first, second);"
   ]
  },
  {
   "cell_type": "markdown",
   "metadata": {},
   "source": [
    "### <font color=hotpink> O que é interpolação de cadeia de caracteres? </font>"
   ]
  },
  {
   "cell_type": "markdown",
   "metadata": {},
   "source": [
    "- Técnica que simplifica a formatação composta onde você usa apenas o nome da variável dentro das chaves.\n",
    "- A string deve começar com `$` antes das aspas;\n"
   ]
  },
  {
   "cell_type": "code",
   "execution_count": 87,
   "metadata": {
    "dotnet_interactive": {
     "language": "csharp"
    },
    "polyglot_notebook": {
     "kernelName": "csharp"
    },
    "vscode": {
     "languageId": "polyglot-notebook"
    }
   },
   "outputs": [
    {
     "name": "stdout",
     "output_type": "stream",
     "text": [
      "Hello World!\n",
      "World Hello!\n",
      "Hello Hello Hello!\n"
     ]
    }
   ],
   "source": [
    "string first = \"Hello\";\n",
    "string second = \"World\";\n",
    "Console.WriteLine($\"{first} {second}!\");\n",
    "Console.WriteLine($\"{second} {first}!\");\n",
    "Console.WriteLine($\"{first} {first} {first}!\");"
   ]
  },
  {
   "cell_type": "markdown",
   "metadata": {},
   "source": [
    "### <font color=hotpink> Formatação de Moeda </font>"
   ]
  },
  {
   "cell_type": "markdown",
   "metadata": {},
   "source": [
    "- A formatação composta e a interpolação de cadeia de caracteres podem ser usadas para formatar valores para exibição considerando uma linguagem e cultura específicas. \n",
    "- O  especificador de formato de moeda :C é usado para apresentar as variáveis como moeda."
   ]
  },
  {
   "cell_type": "code",
   "execution_count": 91,
   "metadata": {
    "dotnet_interactive": {
     "language": "csharp"
    },
    "polyglot_notebook": {
     "kernelName": "csharp"
    },
    "vscode": {
     "languageId": "polyglot-notebook"
    }
   },
   "outputs": [
    {
     "name": "stdout",
     "output_type": "stream",
     "text": [
      "Preço: R$ 123,45 (Desconto: R$ 50,00)\r\n"
     ]
    }
   ],
   "source": [
    "decimal preco = 123.45m;\n",
    "int desconto = 50;\n",
    "\n",
    "Console.WriteLine($\"Preço: {preco:C} (Desconto: {desconto:C})\");"
   ]
  },
  {
   "cell_type": "markdown",
   "metadata": {},
   "source": [
    "*Observe como a adição do :C aos tokens dentro das chaves formata o número como moeda, independentemente se você usa int ou decimal.*"
   ]
  },
  {
   "cell_type": "markdown",
   "metadata": {},
   "source": [
    "### <font color=hotpink> Como o país/região e o idioma do usuário afetam a formatação da cadeia de caracteres </font>"
   ]
  },
  {
   "cell_type": "markdown",
   "metadata": {},
   "source": [
    " - O recurso de formatação de moeda da cadeia de caracteres depende da configuração do computador local para `cultura`. \n",
    "    - Nesse contexto, o termo “cultura” refere-se ao país/região e ao idioma do usuário final.\n",
    "- Por exemplo:\n",
    "   - o código de cultura de um falante de inglês nos EUA é `en-US`.\n",
    "   - o código de cultura de um falante de francês na França é `fr-FR`.\n",
    "   - o código de cultura de um falante de francês no Canadá é `fr-CA`.\n"
   ]
  },
  {
   "cell_type": "markdown",
   "metadata": {},
   "source": [
    "> Exemplo US:"
   ]
  },
  {
   "cell_type": "code",
   "execution_count": 93,
   "metadata": {
    "dotnet_interactive": {
     "language": "csharp"
    },
    "polyglot_notebook": {
     "kernelName": "csharp"
    },
    "vscode": {
     "languageId": "polyglot-notebook"
    }
   },
   "outputs": [
    {
     "name": "stdout",
     "output_type": "stream",
     "text": [
      "Preço: $123.45 (Desconto: $50.00)\r\n"
     ]
    }
   ],
   "source": [
    "using System.Globalization;\n",
    "CultureInfo.CurrentCulture = new CultureInfo(\"en-US\");\n",
    "\n",
    "decimal preco = 123.45m;\n",
    "int desconto = 50;\n",
    "\n",
    "Console.WriteLine($\"Preço: {preco:C} (Desconto: {desconto:C})\");"
   ]
  },
  {
   "cell_type": "markdown",
   "metadata": {},
   "source": [
    "> Exemplo FR:"
   ]
  },
  {
   "cell_type": "code",
   "execution_count": 94,
   "metadata": {
    "dotnet_interactive": {
     "language": "csharp"
    },
    "polyglot_notebook": {
     "kernelName": "csharp"
    },
    "vscode": {
     "languageId": "polyglot-notebook"
    }
   },
   "outputs": [
    {
     "name": "stdout",
     "output_type": "stream",
     "text": [
      "Preço: 123,45 € (Desconto: 50,00 €)\r\n"
     ]
    }
   ],
   "source": [
    "using System.Globalization;\n",
    "CultureInfo.CurrentCulture = new CultureInfo(\"fr-FR\");\n",
    "\n",
    "decimal preco = 123.45m;\n",
    "int desconto = 50;\n",
    "\n",
    "Console.WriteLine($\"Preço: {preco:C} (Desconto: {desconto:C})\");"
   ]
  },
  {
   "cell_type": "markdown",
   "metadata": {},
   "source": [
    "> Exemplo CN:"
   ]
  },
  {
   "cell_type": "code",
   "execution_count": 95,
   "metadata": {
    "dotnet_interactive": {
     "language": "csharp"
    },
    "polyglot_notebook": {
     "kernelName": "csharp"
    },
    "vscode": {
     "languageId": "polyglot-notebook"
    }
   },
   "outputs": [
    {
     "name": "stdout",
     "output_type": "stream",
     "text": [
      "Preço: 123,45 CNY (Desconto: 50,00 CNY)\r\n"
     ]
    }
   ],
   "source": [
    "using System.Globalization;\n",
    "CultureInfo.CurrentCulture = new CultureInfo(\"fr-CN\");\n",
    "\n",
    "decimal preco = 123.45m;\n",
    "int desconto = 50;\n",
    "\n",
    "Console.WriteLine($\"Preço: {preco:C} (Desconto: {desconto:C})\");"
   ]
  },
  {
   "cell_type": "markdown",
   "metadata": {},
   "source": [
    "### <font color=hotpink> Formatar números </font>"
   ]
  },
  {
   "cell_type": "markdown",
   "metadata": {},
   "source": [
    "- O especificador de formato numérico N torna os números mais legíveis.\n",
    "    - Separa unidade, dezena, centena e milhar...\n",
    "    - Por padrão, o especificador de formato numérico N exibe apenas dois dígitos após o ponto decimal.\n",
    "    - Se desejar mostrar mais precisão, adicione um número após o especificador."
   ]
  },
  {
   "cell_type": "code",
   "execution_count": 103,
   "metadata": {
    "dotnet_interactive": {
     "language": "csharp"
    },
    "polyglot_notebook": {
     "kernelName": "csharp"
    },
    "vscode": {
     "languageId": "polyglot-notebook"
    }
   },
   "outputs": [
    {
     "name": "stdout",
     "output_type": "stream",
     "text": [
      "Medida sem formatação: \t123456,78912 \n",
      "Medida com formatação: \t123.456,79 \n"
     ]
    }
   ],
   "source": [
    "decimal medida = 123456.78912m;\n",
    "\n",
    "Console.WriteLine($\"Medida sem formatação: \\t{medida} \");\n",
    "Console.WriteLine($\"Medida com formatação: \\t{medida:N} \")"
   ]
  },
  {
   "cell_type": "code",
   "execution_count": 104,
   "metadata": {
    "dotnet_interactive": {
     "language": "csharp"
    },
    "polyglot_notebook": {
     "kernelName": "csharp"
    },
    "vscode": {
     "languageId": "polyglot-notebook"
    }
   },
   "outputs": [
    {
     "name": "stdout",
     "output_type": "stream",
     "text": [
      "Medida com 4 casas após a virgula: \t123.456,7891\r\n"
     ]
    }
   ],
   "source": [
    "decimal medida = 123456.78912m;\n",
    "Console.WriteLine($\"Medida com 4 casas após a virgula: \\t{medida:N4}\");"
   ]
  },
  {
   "cell_type": "markdown",
   "metadata": {},
   "source": [
    "### <font color=hotpink> csharp </font>"
   ]
  },
  {
   "cell_type": "markdown",
   "metadata": {},
   "source": [
    "### <font color=hotpink> Formatar percentuais </font>"
   ]
  },
  {
   "cell_type": "markdown",
   "metadata": {},
   "source": [
    "- Utiliza-se o especificador de formato `P` para formatar percentuais.\n",
    "- Adiciona-se um número posteriormente para controlar o número de valores exibidos após o ponto decimal. "
   ]
  },
  {
   "cell_type": "code",
   "execution_count": 106,
   "metadata": {
    "dotnet_interactive": {
     "language": "csharp"
    },
    "polyglot_notebook": {
     "kernelName": "csharp"
    },
    "vscode": {
     "languageId": "polyglot-notebook"
    }
   },
   "outputs": [
    {
     "name": "stdout",
     "output_type": "stream",
     "text": [
      "Taxa: \t36,79%\r\n"
     ]
    }
   ],
   "source": [
    "decimal taxa = .36785m;\n",
    "Console.WriteLine($\"Taxa: \\t{taxa:P}\");"
   ]
  },
  {
   "cell_type": "code",
   "execution_count": 108,
   "metadata": {
    "dotnet_interactive": {
     "language": "csharp"
    },
    "polyglot_notebook": {
     "kernelName": "csharp"
    },
    "vscode": {
     "languageId": "polyglot-notebook"
    }
   },
   "outputs": [
    {
     "name": "stdout",
     "output_type": "stream",
     "text": [
      "Taxa: \t36,79%\r\n"
     ]
    }
   ],
   "source": [
    "decimal taxa = .36785m;\n",
    "Console.WriteLine($\"Taxa: \\t{taxa:P2}\");"
   ]
  },
  {
   "cell_type": "code",
   "execution_count": 109,
   "metadata": {
    "dotnet_interactive": {
     "language": "csharp"
    },
    "polyglot_notebook": {
     "kernelName": "csharp"
    },
    "vscode": {
     "languageId": "polyglot-notebook"
    }
   },
   "outputs": [
    {
     "name": "stdout",
     "output_type": "stream",
     "text": [
      "Taxa: \t36,7850%\r\n"
     ]
    }
   ],
   "source": [
    "decimal taxa = .36785m;\n",
    "Console.WriteLine($\"Taxa: \\t{taxa:P4}\");"
   ]
  },
  {
   "cell_type": "markdown",
   "metadata": {},
   "source": [
    "### <font color=hotpink> Combinar abordagens de formatação </font>"
   ]
  },
  {
   "cell_type": "markdown",
   "metadata": {},
   "source": [
    "- Variáveis de cadeia de caracteres podem armazenar as cadeias de caracteres criadas usando técnicas de formatação."
   ]
  },
  {
   "cell_type": "code",
   "execution_count": 117,
   "metadata": {
    "dotnet_interactive": {
     "language": "csharp"
    },
    "polyglot_notebook": {
     "kernelName": "csharp"
    },
    "vscode": {
     "languageId": "polyglot-notebook"
    }
   },
   "outputs": [
    {
     "name": "stdout",
     "output_type": "stream",
     "text": [
      "Você economizou na promoção R$ 7,56 do valor original R$ 67,55.\r\n"
     ]
    }
   ],
   "source": [
    "decimal preco = 67.55m;\n",
    "decimal precoNaPromocao = 59.99m;\n",
    "\n",
    "string desconto = String.Format(\"Você economizou na promoção {0:C2} do valor original {1:C2}.\", (preco - precoNaPromocao), preco);\n",
    "\n",
    "Console.WriteLine(desconto);"
   ]
  },
  {
   "cell_type": "code",
   "execution_count": 123,
   "metadata": {
    "dotnet_interactive": {
     "language": "csharp"
    },
    "polyglot_notebook": {
     "kernelName": "csharp"
    },
    "vscode": {
     "languageId": "polyglot-notebook"
    }
   },
   "outputs": [
    {
     "name": "stdout",
     "output_type": "stream",
     "text": [
      "Você economizou na promoção R$ 7,56 do valor original R$ 67,55. Um desconto de 11,19%!\r\n"
     ]
    }
   ],
   "source": [
    "decimal preco = 67.55m;\n",
    "decimal precoNaPromocao = 59.99m;\n",
    "\n",
    "string desconto = String.Format(\"Você economizou na promoção {0:C2} do valor original {1:C2}.\", (preco - precoNaPromocao), preco);\n",
    "\n",
    "\n",
    "desconto += $\" Um desconto de {(preco - precoNaPromocao)/preco:P}!\";\n",
    "Console.WriteLine(desconto)"
   ]
  },
  {
   "cell_type": "markdown",
   "metadata": {},
   "source": [
    "## <font color=mediumorchid> Interpolação de cadeia de caracteres\n",
    "___\n",
    "</font>"
   ]
  },
  {
   "cell_type": "markdown",
   "metadata": {},
   "source": [
    "Exemplo: Você precisa criar o código para imprimir um recibo para o cliente que compra ações de um produto de investimento. As ações são compradas automaticamente no final do ano com base em uma série de deduções de folha de pagamento, de modo que o número de ações compradas geralmente contém um valor decimal. Para imprimir o recibo, você provavelmente precisará combinar de maneira precisa dados de diferentes tipos, incluindo valores fracionários, moeda e porcentagens."
   ]
  },
  {
   "cell_type": "markdown",
   "metadata": {},
   "source": [
    " \n",
    ">___\n",
    ">\n",
    "> - <font color=hotpink>Exibir o número da fatura usando interpolação de cadeia de caracteres: </font>\n",
    ">\n",
    ">___"
   ]
  },
  {
   "cell_type": "code",
   "execution_count": 133,
   "metadata": {
    "dotnet_interactive": {
     "language": "csharp"
    },
    "polyglot_notebook": {
     "kernelName": "csharp"
    },
    "vscode": {
     "languageId": "polyglot-notebook"
    }
   },
   "outputs": [
    {
     "name": "stdout",
     "output_type": "stream",
     "text": [
      "Número da Nota: 1201\r\n"
     ]
    }
   ],
   "source": [
    "int numeroDaNota = 1201;\n",
    "decimal acoesDoProduto = 25.4567m;\n",
    "decimal valorSubtotal = 2750.00m;\n",
    "decimal percentualDeImposto = 0.15825m;\n",
    "decimal valorTotal = 3185.19m;\n",
    "\n",
    "Console.WriteLine($\"Número da Nota: {numeroDaNota}\");"
   ]
  },
  {
   "cell_type": "markdown",
   "metadata": {},
   "source": [
    " \n",
    ">___\n",
    ">\n",
    "> - <font color=hotpink> Exibir as ações de produto com precisão de um milésimo (0,001): </font>\n",
    ">\n",
    ">___"
   ]
  },
  {
   "cell_type": "code",
   "execution_count": 135,
   "metadata": {
    "dotnet_interactive": {
     "language": "csharp"
    },
    "polyglot_notebook": {
     "kernelName": "csharp"
    },
    "vscode": {
     "languageId": "polyglot-notebook"
    }
   },
   "outputs": [
    {
     "name": "stdout",
     "output_type": "stream",
     "text": [
      "Número da Nota: 1201\n",
      " Ações: 25,457 Do Produto\n"
     ]
    }
   ],
   "source": [
    "int numeroDaNota = 1201;\n",
    "decimal acoesDoProduto = 25.4567m;\n",
    "decimal valorSubtotal = 2750.00m;\n",
    "decimal percentualDeImposto = 0.15825m;\n",
    "decimal valorTotal = 3185.19m;\n",
    "\n",
    "Console.WriteLine($\"Número da Nota: {numeroDaNota}\");\n",
    "Console.WriteLine($\" Ações: {acoesDoProduto:N3} Do Produto\");"
   ]
  },
  {
   "cell_type": "markdown",
   "metadata": {},
   "source": [
    " \n",
    ">___\n",
    ">\n",
    "> - <font color=hotpink> Exibir o subtotal que você vai cobrar do cliente, formatado como moeda: </font>\n",
    ">\n",
    ">___"
   ]
  },
  {
   "cell_type": "code",
   "execution_count": 138,
   "metadata": {
    "dotnet_interactive": {
     "language": "csharp"
    },
    "polyglot_notebook": {
     "kernelName": "csharp"
    },
    "vscode": {
     "languageId": "polyglot-notebook"
    }
   },
   "outputs": [
    {
     "name": "stdout",
     "output_type": "stream",
     "text": [
      "Número da Nota: 1201\n",
      " Ações: 25,457 Do Produto\n",
      "\t Subtotal: \tR$ 2.750,00\n"
     ]
    }
   ],
   "source": [
    "int numeroDaNota = 1201;\n",
    "decimal acoesDoProduto = 25.4567m;\n",
    "decimal valorSubtotal = 2750.00m;\n",
    "decimal percentualDeImposto = 0.15825m;\n",
    "decimal valorTotal = 3185.19m;\n",
    "\n",
    "Console.WriteLine($\"Número da Nota: {numeroDaNota}\");\n",
    "Console.WriteLine($\" Ações: {acoesDoProduto:N3} Do Produto\");\n",
    "Console.WriteLine($\"\\t Subtotal: \\t{valorSubtotal:C}\");"
   ]
  },
  {
   "cell_type": "markdown",
   "metadata": {},
   "source": [
    " \n",
    ">___\n",
    ">\n",
    "> - <font color=hotpink> Exibir o imposto cobrado na venda, formatado como percentual: </font>\n",
    ">\n",
    ">___"
   ]
  },
  {
   "cell_type": "code",
   "execution_count": 144,
   "metadata": {
    "dotnet_interactive": {
     "language": "csharp"
    },
    "polyglot_notebook": {
     "kernelName": "csharp"
    },
    "vscode": {
     "languageId": "polyglot-notebook"
    }
   },
   "outputs": [
    {
     "name": "stdout",
     "output_type": "stream",
     "text": [
      "Número da Nota: 1201\n",
      " Ações: 25,457 Do Produto\n",
      "\t Subtotal: \tR$ 2.750,00\n",
      "\t  Imposto: \t15,83%\n"
     ]
    }
   ],
   "source": [
    "int numeroDaNota = 1201;\n",
    "decimal acoesDoProduto = 25.4567m;\n",
    "decimal valorSubtotal = 2750.00m;\n",
    "decimal percentualDeImposto = 0.15825m;\n",
    "decimal valorTotal = 3185.19m;\n",
    "\n",
    "Console.WriteLine($\"Número da Nota: {numeroDaNota}\");\n",
    "Console.WriteLine($\" Ações: {acoesDoProduto:N3} Do Produto\");\n",
    "Console.WriteLine($\"\\t Subtotal: \\t{valorSubtotal:C}\");\n",
    "Console.WriteLine($\"\\t  Imposto: \\t{percentualDeImposto:P}\");"
   ]
  },
  {
   "cell_type": "markdown",
   "metadata": {},
   "source": [
    " \n",
    ">___\n",
    ">\n",
    "> - <font color=hotpink> Finalizar o recibo com o valor total devido, formatado como moeda: </font>\n",
    ">\n",
    ">___"
   ]
  },
  {
   "cell_type": "code",
   "execution_count": 146,
   "metadata": {
    "dotnet_interactive": {
     "language": "csharp"
    },
    "polyglot_notebook": {
     "kernelName": "csharp"
    },
    "vscode": {
     "languageId": "polyglot-notebook"
    }
   },
   "outputs": [
    {
     "name": "stdout",
     "output_type": "stream",
     "text": [
      "Número da Nota: 1201\n",
      "Ações: 25,457 Do Produto\n",
      "\t Subtotal: \tR$ 2.750,00\n",
      "\t  Imposto: \t15,83%\n",
      "\t    Total: \tR$ 3.185,19\n"
     ]
    }
   ],
   "source": [
    "int numeroDaNota = 1201;\n",
    "decimal acoesDoProduto = 25.4567m;\n",
    "decimal valorSubtotal = 2750.00m;\n",
    "decimal percentualDeImposto = 0.15825m;\n",
    "decimal valorTotal = 3185.19m;\n",
    "\n",
    "Console.WriteLine($\"Número da Nota: {numeroDaNota}\");\n",
    "Console.WriteLine($\"Ações: {acoesDoProduto:N3} Do Produto\");\n",
    "Console.WriteLine($\"\\t Subtotal: \\t{valorSubtotal:C}\");\n",
    "Console.WriteLine($\"\\t  Imposto: \\t{percentualDeImposto:P}\");\n",
    "Console.WriteLine($\"\\t    Total: \\t{valorTotal:C}\");"
   ]
  },
  {
   "cell_type": "markdown",
   "metadata": {},
   "source": [
    "## <font color=mediumorchid> Preenchimento e alinhamento\n",
    "___\n",
    "</font>"
   ]
  },
  {
   "cell_type": "markdown",
   "metadata": {},
   "source": [
    "### <font color=hotpink> Métodos internos </font>"
   ]
  },
  {
   "cell_type": "markdown",
   "metadata": {},
   "source": [
    "O método string.Format() é usado para executar a formatação composta, como no exemplo:"
   ]
  },
  {
   "cell_type": "code",
   "execution_count": 147,
   "metadata": {
    "dotnet_interactive": {
     "language": "csharp"
    },
    "polyglot_notebook": {
     "kernelName": "csharp"
    },
    "vscode": {
     "languageId": "polyglot-notebook"
    }
   },
   "outputs": [
    {
     "name": "stdout",
     "output_type": "stream",
     "text": [
      "Hello World!\r\n"
     ]
    }
   ],
   "source": [
    "string first = \"Hello\";\n",
    "string second = \"World\";\n",
    "string result = string.Format(\"{0} {1}!\", first, second);\n",
    "Console.WriteLine(result);"
   ]
  },
  {
   "cell_type": "markdown",
   "metadata": {},
   "source": [
    "- uma palavra-chave que representa um tipo de dados tenha métodos que você pode chamar da mesma maneira como você faz na classe Console. \n",
    "- Lista de categorias desses métodos internos:\n",
    "    - Métodos que adicionam espaços em branco para fins de formatação (`PadLeft()`, `PadRight()`);\n",
    "    - Métodos que comparam duas cadeias de caracteres ou facilitam a comparação (`Trim()`, `TrimStart()`, `TrimEnd()`, `GetHashcode()`, a propriedade `Length`);\n",
    "    - Métodos que ajudam a determinar o que há dentro de uma cadeia de caracteres ou até mesmo recuperar apenas uma parte da cadeia de caracteres (`Contains()`, `StartsWith()`, `EndsWith()`, `Substring()`);\n",
    "    - Métodos que alteram o conteúdo da cadeia de caracteres substituindo, inserindo ou removendo partes (`Replace()`, `Insert()`, `Remove()`);\n",
    "    - Métodos que transformam uma cadeia de caracteres em uma matriz de cadeias de caracteres ou de caracteres (`Split()`, `ToCharArray()`)."
   ]
  },
  {
   "cell_type": "markdown",
   "metadata": {},
   "source": [
    "### <font color=hotpink> Formatar cadeias de caracteres adicionando um espaço em branco antes ou depois </font>"
   ]
  },
  {
   "cell_type": "markdown",
   "metadata": {},
   "source": [
    "- O método `PadLeft()` adiciona espaços em branco ao lado esquerdo da cadeia de caracteres"
   ]
  },
  {
   "cell_type": "code",
   "execution_count": 148,
   "metadata": {
    "dotnet_interactive": {
     "language": "csharp"
    },
    "polyglot_notebook": {
     "kernelName": "csharp"
    },
    "vscode": {
     "languageId": "polyglot-notebook"
    }
   },
   "outputs": [
    {
     "name": "stdout",
     "output_type": "stream",
     "text": [
      "    Pad this\r\n"
     ]
    }
   ],
   "source": [
    "string entrada = \"Pad this\";\n",
    "Console.WriteLine(entrada.PadLeft(12));"
   ]
  },
  {
   "cell_type": "markdown",
   "metadata": {},
   "source": [
    "- Para adicionar espaço ou caracteres ao lado direito da cadeia de caracteres, use o método `PadRight()`."
   ]
  },
  {
   "cell_type": "code",
   "execution_count": null,
   "metadata": {
    "dotnet_interactive": {
     "language": "csharp"
    },
    "polyglot_notebook": {
     "kernelName": "csharp"
    },
    "vscode": {
     "languageId": "polyglot-notebook"
    }
   },
   "outputs": [
    {
     "name": "stdout",
     "output_type": "stream",
     "text": [
      "Pad this    FIM\r\n"
     ]
    }
   ],
   "source": [
    "string entrada = \"Pad this\";\n",
    "Console.WriteLine(entrada.PadRight(12) + \"FIM\");"
   ]
  },
  {
   "cell_type": "markdown",
   "metadata": {},
   "source": [
    "### <font color=hotpink> Sobrecarga do Pad() </font>"
   ]
  },
  {
   "cell_type": "markdown",
   "metadata": {},
   "source": [
    "- Passar qualquer caractere como parâmetro;"
   ]
  },
  {
   "cell_type": "code",
   "execution_count": 150,
   "metadata": {
    "dotnet_interactive": {
     "language": "csharp"
    },
    "polyglot_notebook": {
     "kernelName": "csharp"
    },
    "vscode": {
     "languageId": "polyglot-notebook"
    }
   },
   "outputs": [
    {
     "name": "stdout",
     "output_type": "stream",
     "text": [
      "----Pad this\n",
      "Pad this----\n"
     ]
    }
   ],
   "source": [
    "string input = \"Pad this\";\n",
    "\n",
    "Console.WriteLine(input.PadLeft(12, '-'));\n",
    "\n",
    "Console.WriteLine(input.PadRight(12, '-'));"
   ]
  },
  {
   "cell_type": "markdown",
   "metadata": {},
   "source": [
    "### <font color=hotpink> Trabalhar com cadeias de caracteres preenchidas </font>"
   ]
  },
  {
   "cell_type": "markdown",
   "metadata": {},
   "source": [
    "- Vamos supor que você trabalha para uma empresa de processamento de pagamentos que ainda dá suporte a sistemas de mainframe herdados. Geralmente, esses sistemas exigem que os dados sejam inseridos em colunas específicas. Por exemplo, armazene a ID do pagamento nas colunas 1 a 6, o nome do favorecido nas colunas 7 a 30 e o valor do pagamento nas colunas 31 a 40. Além disso, é importante que o Valor do Pagamento esteja alinhado à direita.\n",
    "\n",
    "- Foi solicitado que você compilasse um aplicativo que converterá dados do RDBMS no formato de arquivo herdado. Para que a integração funcione corretamente, a primeira etapa é confirmar o formato de arquivo fornecendo aos mantenedores do sistema herdado um exemplo da saída. Posteriormente, você vai criar esse trabalho para enviar centenas ou milhares de pagamentos a serem processados por meio de um arquivo de texto ASCII."
   ]
  },
  {
   "cell_type": "markdown",
   "metadata": {},
   "source": [
    ">___\n",
    ">\n",
    "> <font color=hotpink> ***Adicionar a ID de Pagamento à saída:*** </font>\n",
    ">\n",
    ">___"
   ]
  },
  {
   "cell_type": "code",
   "execution_count": 151,
   "metadata": {
    "dotnet_interactive": {
     "language": "csharp"
    },
    "polyglot_notebook": {
     "kernelName": "csharp"
    },
    "vscode": {
     "languageId": "polyglot-notebook"
    }
   },
   "outputs": [
    {
     "name": "stdout",
     "output_type": "stream",
     "text": [
      "769C  \r\n"
     ]
    }
   ],
   "source": [
    "string pagamentoId = \"769C\";\n",
    "var linhaFormatada = pagamentoId.PadRight(6);\n",
    "\n",
    "Console.WriteLine(linhaFormatada);"
   ]
  },
  {
   "cell_type": "code",
   "execution_count": 152,
   "metadata": {
    "dotnet_interactive": {
     "language": "csharp"
    },
    "polyglot_notebook": {
     "kernelName": "csharp"
    },
    "vscode": {
     "languageId": "polyglot-notebook"
    }
   },
   "outputs": [
    {
     "name": "stdout",
     "output_type": "stream",
     "text": [
      "769C  Mr. Stephen Ortega      \r\n"
     ]
    }
   ],
   "source": [
    "string pagamentoId = \"769C\";\n",
    "string nomeCliente = \"Mr. Stephen Ortega\";\n",
    "\n",
    "var linhaFormatada = pagamentoId.PadRight(6);\n",
    "linhaFormatada += nomeCliente.PadRight(24);\n",
    "\n",
    "Console.WriteLine(linhaFormatada);"
   ]
  },
  {
   "cell_type": "markdown",
   "metadata": {},
   "source": [
    ">___\n",
    ">\n",
    "> <font color=hotpink> ***Adicionar o nome do favorecido à saída:*** </font>\n",
    ">\n",
    ">___"
   ]
  },
  {
   "cell_type": "code",
   "execution_count": null,
   "metadata": {
    "dotnet_interactive": {
     "language": "csharp"
    },
    "polyglot_notebook": {
     "kernelName": "csharp"
    },
    "vscode": {
     "languageId": "polyglot-notebook"
    }
   },
   "outputs": [
    {
     "name": "stdout",
     "output_type": "stream",
     "text": [
      "769C  Mr. Stephen Ortega      \r\n"
     ]
    }
   ],
   "source": [
    "string pagamentoId = \"769C\";\n",
    "string nomeCliente = \"Mr. Stephen Ortega\";\n",
    "\n",
    "var linhaFormatada = pagamentoId.PadRight(6);\n",
    "linhaFormatada += nomeCliente.PadRight(24);\n",
    "\n",
    "Console.WriteLine(linhaFormatada);"
   ]
  },
  {
   "cell_type": "markdown",
   "metadata": {},
   "source": [
    ">___\n",
    ">\n",
    "> <font color=hotpink> ***Adicionar o valor do pagamento à saída:*** </font>\n",
    ">\n",
    ">___"
   ]
  },
  {
   "cell_type": "code",
   "execution_count": 153,
   "metadata": {
    "dotnet_interactive": {
     "language": "csharp"
    },
    "polyglot_notebook": {
     "kernelName": "csharp"
    },
    "vscode": {
     "languageId": "polyglot-notebook"
    }
   },
   "outputs": [
    {
     "name": "stdout",
     "output_type": "stream",
     "text": [
      "769C  Mr. Stephen Ortega       $5,000.00\r\n"
     ]
    }
   ],
   "source": [
    "string pagamentoId = \"769C\";\n",
    "string nomeCliente = \"Mr. Stephen Ortega\";\n",
    "string valorPagamento  = \"$5,000.00\";\n",
    "\n",
    "\n",
    "var linhaFormatada = pagamentoId.PadRight(6);\n",
    "linhaFormatada += nomeCliente.PadRight(24);\n",
    "linhaFormatada += valorPagamento.PadLeft(10);\n",
    "\n",
    "Console.WriteLine(linhaFormatada);"
   ]
  },
  {
   "cell_type": "code",
   "execution_count": 155,
   "metadata": {
    "dotnet_interactive": {
     "language": "csharp"
    },
    "polyglot_notebook": {
     "kernelName": "csharp"
    },
    "vscode": {
     "languageId": "polyglot-notebook"
    }
   },
   "outputs": [
    {
     "name": "stdout",
     "output_type": "stream",
     "text": [
      "1234567890123456789012345678901234567890\n",
      "769C  Mr. Stephen Ortega       $5,000.00\n"
     ]
    }
   ],
   "source": [
    "string pagamentoId = \"769C\";\n",
    "string nomeCliente = \"Mr. Stephen Ortega\";\n",
    "string valorPagamento  = \"$5,000.00\";\n",
    "\n",
    "\n",
    "var linhaFormatada = pagamentoId.PadRight(6);\n",
    "linhaFormatada += nomeCliente.PadRight(24);\n",
    "linhaFormatada += valorPagamento.PadLeft(10);\n",
    "Console.WriteLine(\"1234567890123456789012345678901234567890\");\n",
    "Console.WriteLine(linhaFormatada);"
   ]
  },
  {
   "cell_type": "markdown",
   "metadata": {},
   "source": [
    "# <font color=turquoise> Modificar o conteúdo de cadeias de caracteres usando métodos internos de tipo de dados em C#\n",
    "___\n"
   ]
  },
  {
   "cell_type": "markdown",
   "metadata": {},
   "source": [
    "## <font color=mediumorchid> Métodos auxiliares IndexOf() e Substring() da cadeia de caracteres\n",
    "___\n",
    "</font>"
   ]
  },
  {
   "cell_type": "markdown",
   "metadata": {},
   "source": [
    "### <font color=hotpink> IndexOf() e Substring() </font>"
   ]
  },
  {
   "cell_type": "markdown",
   "metadata": {},
   "source": [
    "- Use o método `IndexOf()` e para localizar a posição de um ou mais caracteres ou uma cadeia de caracteres dentro de uma cadeia de caracteres maior.\n",
    "\n",
    "- Use o método `Substring()` para retornar a parte da cadeia de caracteres maior que segue as posições de caractere especificadas."
   ]
  },
  {
   "cell_type": "markdown",
   "metadata": {},
   "source": [
    "### <font color=hotpink> Escreva um código para encontrar pares de parênteses inseridas em uma cadeia de caracteres </font>"
   ]
  },
  {
   "cell_type": "code",
   "execution_count": 159,
   "metadata": {
    "dotnet_interactive": {
     "language": "csharp"
    },
    "polyglot_notebook": {
     "kernelName": "csharp"
    },
    "vscode": {
     "languageId": "polyglot-notebook"
    }
   },
   "outputs": [
    {
     "name": "stdout",
     "output_type": "stream",
     "text": [
      "Find what is (inside the parentheses)\n",
      "13\n",
      "36\n"
     ]
    }
   ],
   "source": [
    "string mensagem  = \"Find what is (inside the parentheses)\";\n",
    "Console.WriteLine(mensagem);\n",
    "\n",
    "int indiceAbertura = mensagem.IndexOf('(');\n",
    "int indiceFechamento = mensagem.IndexOf(')');\n",
    "\n",
    "Console.WriteLine(indiceAbertura);\n",
    "Console.WriteLine(indiceFechamento);"
   ]
  },
  {
   "cell_type": "markdown",
   "metadata": {},
   "source": [
    "## <font color=mediumorchid> \n",
    "___\n",
    "</font>"
   ]
  },
  {
   "cell_type": "markdown",
   "metadata": {},
   "source": [
    "### <font color=hotpink> Recuperar o valor entre parênteses </font>"
   ]
  },
  {
   "cell_type": "code",
   "execution_count": 163,
   "metadata": {
    "dotnet_interactive": {
     "language": "csharp"
    },
    "polyglot_notebook": {
     "kernelName": "csharp"
    },
    "vscode": {
     "languageId": "polyglot-notebook"
    }
   },
   "outputs": [
    {
     "name": "stdout",
     "output_type": "stream",
     "text": [
      "22\n",
      "(inside the parentheses\n"
     ]
    }
   ],
   "source": [
    "string mensagem  = \"Find what is (inside the parentheses)\";\n",
    "\n",
    "\n",
    "int indiceAbertura = mensagem.IndexOf('(');\n",
    "int indiceFechamento = mensagem.IndexOf(')');\n",
    "\n",
    "int tamanhoTextoParenteses = indiceFechamento - indiceAbertura;\n",
    "Console.WriteLine(tamanhoTextoPatenteses);\n",
    "\n",
    "\n",
    "string textoParenteses = mensagem.Substring(indiceAbertura, tamanhoTextoParenteses);\n",
    "\n",
    "Console.WriteLine(textoParenteses);"
   ]
  },
  {
   "cell_type": "markdown",
   "metadata": {},
   "source": [
    "- ***O método `Substring()` precisa da posição inicial e do número de caracteres, ou comprimento, para recuperar.***"
   ]
  },
  {
   "cell_type": "markdown",
   "metadata": {},
   "source": [
    "### <font color=hotpink> Modificar a posição inicial da subcadeia de caracteres </font>"
   ]
  },
  {
   "cell_type": "code",
   "execution_count": 164,
   "metadata": {
    "dotnet_interactive": {
     "language": "csharp"
    },
    "polyglot_notebook": {
     "kernelName": "csharp"
    },
    "vscode": {
     "languageId": "polyglot-notebook"
    }
   },
   "outputs": [
    {
     "name": "stdout",
     "output_type": "stream",
     "text": [
      "inside the parentheses\r\n"
     ]
    }
   ],
   "source": [
    "string mensagem  = \"Find what is (inside the parentheses)\";\n",
    "\n",
    "\n",
    "int indiceAbertura = mensagem.IndexOf('(');\n",
    "int indiceFechamento = mensagem.IndexOf(')');\n",
    "\n",
    "indiceAbertura++;\n",
    "\n",
    "int tamanhoTextoParenteses = indiceFechamento - indiceAbertura;\n",
    "\n",
    "string textoParenteses = mensagem.Substring(indiceAbertura, tamanhoTextoParenteses);\n",
    "\n",
    "Console.WriteLine(textoParenteses);"
   ]
  },
  {
   "cell_type": "code",
   "execution_count": 172,
   "metadata": {
    "dotnet_interactive": {
     "language": "csharp"
    },
    "polyglot_notebook": {
     "kernelName": "csharp"
    },
    "vscode": {
     "languageId": "polyglot-notebook"
    }
   },
   "outputs": [
    {
     "name": "stdout",
     "output_type": "stream",
     "text": [
      "between the tags\r\n"
     ]
    }
   ],
   "source": [
    "string mensagem  = \"What is the value <span>between the tags</span>?\";\n",
    "\n",
    "\n",
    "int indiceAbertura = mensagem.IndexOf(\"<span>\");\n",
    "int indiceFechamento = mensagem.IndexOf(\"</span>\");\n",
    "\n",
    "indiceAbertura += 6;\n",
    "\n",
    "int tamanhoTextoParenteses = indiceFechamento - indiceAbertura;\n",
    "\n",
    "string textoParenteses = mensagem.Substring(indiceAbertura, tamanhoTextoParenteses);\n",
    "\n",
    "Console.WriteLine(textoParenteses);"
   ]
  },
  {
   "cell_type": "markdown",
   "metadata": {},
   "source": [
    "### <font color=hotpink> Evitar valores mágicos </font>"
   ]
  },
  {
   "cell_type": "markdown",
   "metadata": {},
   "source": [
    "- As cadeias de caracteres embutidas em código como \"<span>\" na lista de códigos anterior são conhecidas como \"cadeias de caracteres mágicas\", e os valores numéricos embutidos em código como 6 são conhecidos como \"números mágicos\". Esses valores \"Mágicos\" não são recomendados por muitos motivos e devem ser evitados sempre que possível."
   ]
  },
  {
   "cell_type": "markdown",
   "metadata": {},
   "source": [
    "- o código poderá ser desfeito se você embutir a cadeia de caracteres `\"<span>\"` várias vezes, no código, mas tiver escrito uma instância dela incorretamente como `\"<sapn>\"`.\n",
    "\n",
    "- O compilador não detectará `\"<sapn>\"` em tempo de compilação porque o valor está em uma cadeia de caracteres. O erro de ortografia provavelmente causará problemas em tempo de execução e, dependendo da complexidade do seu código, poderá ser difícil de rastrear.\n",
    "\n",
    "- Além disso, se você alterar a cadeia de caracteres `\"<span>\"` para `\"<div>\"`, mas esquecer de alterar o número 6, o código produzirá resultados indesejáveis."
   ]
  },
  {
   "cell_type": "code",
   "execution_count": 173,
   "metadata": {
    "dotnet_interactive": {
     "language": "csharp"
    },
    "polyglot_notebook": {
     "kernelName": "csharp"
    },
    "vscode": {
     "languageId": "polyglot-notebook"
    }
   },
   "outputs": [
    {
     "name": "stdout",
     "output_type": "stream",
     "text": [
      "between the tags\r\n"
     ]
    }
   ],
   "source": [
    "string message = \"What is the value <span>between the tags</span>?\";\n",
    "\n",
    "const string openSpan = \"<span>\";\n",
    "const string closeSpan = \"</span>\";\n",
    "\n",
    "int openingPosition = message.IndexOf(openSpan);\n",
    "int closingPosition = message.IndexOf(closeSpan);\n",
    "\n",
    "openingPosition += openSpan.Length;\n",
    "int length = closingPosition - openingPosition;\n",
    "Console.WriteLine(message.Substring(openingPosition, length));"
   ]
  },
  {
   "cell_type": "markdown",
   "metadata": {},
   "source": [
    "*O código usa uma constante com a palavra-chave `const`. Uma constante permite definir e inicializar uma variável cujo valor nunca pode ser alterado. Em seguida, use essa constante no restante do código sempre que precisar desse valor. Isso garante que o valor seja definido apenas uma vez e que a digitação incorreta da variável const seja detectada pelo compilador.*"
   ]
  },
  {
   "cell_type": "markdown",
   "metadata": {},
   "source": [
    "## <font color=mediumorchid> Métodos auxiliares IndexOfAny() e LastIndexOf() \n",
    "___\n",
    "</font>"
   ]
  },
  {
   "cell_type": "markdown",
   "metadata": {},
   "source": [
    "- usa-se o método `IndexOfAny()` para encontrar a primeira localização de qualquer um dos string da matriz selecionada. \n",
    "- usa-se `LastIndexOf()` para encontrar o local final de uma cadeia de caracteres dentro de outra cadeia de caracteres."
   ]
  },
  {
   "cell_type": "markdown",
   "metadata": {},
   "source": [
    "### <font color=hotpink> Recuperar a última ocorrência de uma subcadeia de caracteres </font>"
   ]
  },
  {
   "cell_type": "code",
   "execution_count": 179,
   "metadata": {
    "dotnet_interactive": {
     "language": "csharp"
    },
    "polyglot_notebook": {
     "kernelName": "csharp"
    },
    "vscode": {
     "languageId": "polyglot-notebook"
    }
   },
   "outputs": [
    {
     "name": "stdout",
     "output_type": "stream",
     "text": [
      "set of parentheses\r\n"
     ]
    }
   ],
   "source": [
    "string mensagem = \"(What if) I am (only interested) in the last (set of parentheses)?\";\n",
    "\n",
    "int posicaoAbertura = mensagem.LastIndexOf('(');\n",
    "posicaoAbertura += 1;\n",
    "\n",
    "int posicaoFechamento = mensagem.LastIndexOf(')');\n",
    "int tamanho = posicaoFechamento - posicaoAbertura;\n",
    "Console.WriteLine(mensagem.Substring(posicaoAbertura, tamanho));"
   ]
  },
  {
   "cell_type": "markdown",
   "metadata": {},
   "source": [
    "### <font color=hotpink> Recuperar todas as instâncias de subcadeias de caracteres dentro de parênteses </font>"
   ]
  },
  {
   "cell_type": "code",
   "execution_count": 1,
   "metadata": {
    "dotnet_interactive": {
     "language": "csharp"
    },
    "polyglot_notebook": {
     "kernelName": "csharp"
    },
    "vscode": {
     "languageId": "polyglot-notebook"
    }
   },
   "outputs": [
    {
     "name": "stdout",
     "output_type": "stream",
     "text": [
      "What if\n",
      "only interested\n",
      "set of parentheses\n"
     ]
    }
   ],
   "source": [
    "string mensagem = \"(What if) I am (only interested) in the last (set of parentheses)?\";\n",
    "\n",
    "while (true) \n",
    "{\n",
    "\n",
    "    int posicaoAbertura = mensagem.IndexOf('(');\n",
    "\n",
    "    if (posicaoAbertura == -1)  break;\n",
    "\n",
    "    posicaoAbertura++;\n",
    "    int posicaoFechamento = mensagem.IndexOf(')');\n",
    "    int tamanho = posicaoFechamento - posicaoAbertura;\n",
    "    \n",
    "    Console.WriteLine(mensagem.Substring(posicaoAbertura, tamanho));\n",
    "\n",
    "    mensagem = mensagem.Substring(posicaoFechamento + 1);\n",
    "}"
   ]
  },
  {
   "cell_type": "markdown",
   "metadata": {},
   "source": [
    "- Quando você usa Substring() sem especificar um parâmetro de entrada de comprimento, ele retornará todos os caracteres após a posição inicial especificada."
   ]
  },
  {
   "cell_type": "markdown",
   "metadata": {},
   "source": [
    "### <font color=hotpink> Trabalhar com diferentes tipos de conjuntos de símbolos </font>"
   ]
  },
  {
   "cell_type": "markdown",
   "metadata": {},
   "source": [
    "- Você atualiza a cadeia de caracteres `message` adicionando tipos diferentes de símbolos, como `[]` colchetes e chaves `{}`. Para pesquisar vários símbolos simultaneamente, use em `.IndexOfAny()`. Pesquise com `.IndexOfAny()` para retornar o índice do primeiro símbolo da matriz `openSymbols` encontrada na cadeia de caracteres `message`."
   ]
  },
  {
   "cell_type": "code",
   "execution_count": 5,
   "metadata": {
    "dotnet_interactive": {
     "language": "csharp"
    },
    "polyglot_notebook": {
     "kernelName": "csharp"
    },
    "vscode": {
     "languageId": "polyglot-notebook"
    }
   },
   "outputs": [
    {
     "name": "stdout",
     "output_type": "stream",
     "text": [
      "Procurando a mensagem: Help (find) the {opening symbols}\n",
      "Encontrado sem utlilizar a posição inicial: (find) the {opening symbols}\n",
      "Encontrado utlilizando a posição inicial 6: {opening symbols}\n"
     ]
    }
   ],
   "source": [
    "string mensagem = \"Help (find) the {opening symbols}\";\n",
    "Console.WriteLine($\"Procurando a mensagem: {mensagem}\");\n",
    "\n",
    "char[] openSymbols = {'[', '(', '{' };\n",
    "\n",
    "int startPosition = 6;\n",
    "int openingPosition = mensagem.IndexOfAny(openSymbols);\n",
    "\n",
    "Console.WriteLine($\"Encontrado sem utlilizar a posição inicial: {mensagem.Substring(openingPosition)}\");\n",
    "\n",
    "openingPosition = mensagem.IndexOfAny(openSymbols, startPosition);\n",
    "Console.WriteLine($\"Encontrado utlilizando a posição inicial {startPosition}: {mensagem.Substring(openingPosition)}\");\n"
   ]
  },
  {
   "cell_type": "code",
   "execution_count": 6,
   "metadata": {
    "dotnet_interactive": {
     "language": "csharp"
    },
    "polyglot_notebook": {
     "kernelName": "csharp"
    },
    "vscode": {
     "languageId": "polyglot-notebook"
    }
   },
   "outputs": [
    {
     "name": "stdout",
     "output_type": "stream",
     "text": [
      "What if\n",
      "different symbols\n",
      "open symbol\n",
      "matching closing symbol\n"
     ]
    }
   ],
   "source": [
    "string message = \"(What if) I have [different symbols] but every {open symbol} needs a [matching closing symbol]?\";\n",
    "\n",
    "// The IndexOfAny() helper method requires a char array of characters. \n",
    "// You want to look for:\n",
    "\n",
    "char[] openSymbols = { '[', '{', '(' };\n",
    "\n",
    "// You'll use a slightly different technique for iterating through \n",
    "// the characters in the string. This time, use the closing \n",
    "// position of the previous iteration as the starting index for the \n",
    "//next open symbol. So, you need to initialize the closingPosition \n",
    "// variable to zero:\n",
    "\n",
    "int closingPosition = 0;\n",
    "\n",
    "while (true)\n",
    "{\n",
    "    int openingPosition = message.IndexOfAny(openSymbols, closingPosition);\n",
    "\n",
    "    if (openingPosition == -1) break;\n",
    "\n",
    "    string currentSymbol = message.Substring(openingPosition, 1);\n",
    "\n",
    "    // Now  find the matching closing symbol\n",
    "    char matchingSymbol = ' ';\n",
    "\n",
    "    switch (currentSymbol)\n",
    "    {\n",
    "        case \"[\":\n",
    "            matchingSymbol = ']';\n",
    "            break;\n",
    "        case \"{\":\n",
    "            matchingSymbol = '}';\n",
    "            break;\n",
    "        case \"(\":\n",
    "            matchingSymbol = ')';\n",
    "            break;\n",
    "    }\n",
    "\n",
    "    // To find the closingPosition, use an overload of the IndexOf method to specify \n",
    "    // that the search for the matchingSymbol should start at the openingPosition in the string. \n",
    "\n",
    "    openingPosition += 1;\n",
    "    closingPosition = message.IndexOf(matchingSymbol, openingPosition);\n",
    "\n",
    "    // Finally, use the techniques you've already learned to display the sub-string:\n",
    "\n",
    "    int length = closingPosition - openingPosition;\n",
    "    Console.WriteLine(message.Substring(openingPosition, length));\n",
    "}"
   ]
  },
  {
   "cell_type": "markdown",
   "metadata": {},
   "source": [
    "## <font color=mediumorchid> Usar os métodos Remove() e Replace()\n",
    "___\n",
    "</font>\n"
   ]
  },
  {
   "cell_type": "markdown",
   "metadata": {},
   "source": [
    "### <font color=hotpink> Usar o método Remove() </font>"
   ]
  },
  {
   "cell_type": "markdown",
   "metadata": {},
   "source": [
    "\n",
    ">___\n",
    ">\n",
    "> <font color=orchid> ***Exemplo: Remover caracteres em locais específicos de uma cadeia de caracteres*** </font>\n",
    ">\n",
    ">___"
   ]
  },
  {
   "cell_type": "code",
   "execution_count": 7,
   "metadata": {
    "dotnet_interactive": {
     "language": "csharp"
    },
    "polyglot_notebook": {
     "kernelName": "csharp"
    },
    "vscode": {
     "languageId": "polyglot-notebook"
    }
   },
   "outputs": [
    {
     "name": "stdout",
     "output_type": "stream",
     "text": [
      "123455000  3  \r\n"
     ]
    }
   ],
   "source": [
    "string data = \"12345John Smith          5000  3  \";\n",
    "string updatedData = data.Remove(5, 20);\n",
    "Console.WriteLine(updatedData);"
   ]
  },
  {
   "cell_type": "markdown",
   "metadata": {},
   "source": [
    "- O método Remove() funciona de forma semelhante ao método Substring(). Defina uma posição inicial e o comprimento para remover esses caracteres da cadeia de caracteres."
   ]
  },
  {
   "cell_type": "markdown",
   "metadata": {},
   "source": [
    "### <font color=hotpink> Usar o método Replace() </font>"
   ]
  },
  {
   "cell_type": "markdown",
   "metadata": {},
   "source": [
    "- Use o método Replace() quando precisar substituir um ou mais caracteres por um caractere diferente (ou nenhum caractere). "
   ]
  },
  {
   "cell_type": "markdown",
   "metadata": {},
   "source": [
    ">___\n",
    ">\n",
    "> <font color=orchid> ***Exemplo: Remover caracteres, independentemente de onde eles aparecem em uma cadeia de caracteres*** </font>\n",
    ">\n",
    ">___"
   ]
  },
  {
   "cell_type": "code",
   "execution_count": 1,
   "metadata": {
    "dotnet_interactive": {
     "language": "csharp"
    },
    "polyglot_notebook": {
     "kernelName": "csharp"
    },
    "vscode": {
     "languageId": "polyglot-notebook"
    }
   },
   "outputs": [
    {
     "name": "stdout",
     "output_type": "stream",
     "text": [
      "This is ex-amp-le da-ta\n",
      "\n",
      "This is example data\n"
     ]
    }
   ],
   "source": [
    "string mensagem = \"This--is--ex-amp-le--da-ta\";\n",
    "mensagem = mensagem.Replace(\"--\", \" \");\n",
    "Console.WriteLine(mensagem);\n",
    "Console.WriteLine(\"\");\n",
    "mensagem = mensagem.Replace(\"-\", \"\");\n",
    "Console.WriteLine(mensagem);"
   ]
  },
  {
   "cell_type": "markdown",
   "metadata": {},
   "source": [
    "### <font color=hotpink> Exemplo </font>"
   ]
  },
  {
   "cell_type": "code",
   "execution_count": 2,
   "metadata": {
    "dotnet_interactive": {
     "language": "csharp"
    },
    "polyglot_notebook": {
     "kernelName": "csharp"
    },
    "vscode": {
     "languageId": "polyglot-notebook"
    }
   },
   "outputs": [
    {
     "name": "stdout",
     "output_type": "stream",
     "text": [
      "Quantity: 5000\n",
      "Output: <h2>Widgets &reg;</h2><span>5000</span>\n"
     ]
    }
   ],
   "source": [
    "const string input = \"<div><h2>Widgets &trade;</h2><span>5000</span></div>\";\n",
    "\n",
    "string quantity = \"\";\n",
    "string output = \"\";\n",
    "\n",
    "// Your work here\n",
    "\n",
    "// Extract the \"quantity\"\n",
    "const string openSpan = \"<span>\";\n",
    "const string closeSpan = \"</span>\";\n",
    "\n",
    "int quantityStart = input.IndexOf(openSpan) + openSpan.Length; // + length of <span> so index at end of <span> tag\n",
    "int quantityEnd= input.IndexOf(closeSpan);\n",
    "int quantityLength = quantityEnd - quantityStart;\n",
    "quantity = input.Substring(quantityStart, quantityLength);\n",
    "quantity = $\"Quantity: {quantity}\";\n",
    "\n",
    "// Set output to input, replacing the trademark symbol with the registered trademark symbol\n",
    "const string tradeSymbol = \"&trade;\";\n",
    "const string regSymbol = \"&reg;\";\n",
    "output = input.Replace(tradeSymbol, regSymbol);\n",
    "\n",
    "// Remove the opening <div> tag\n",
    "const string openDiv = \"<div>\";\n",
    "int divStart = output.IndexOf(openDiv);\n",
    "output = output.Remove(divStart, openDiv.Length);\n",
    "\n",
    "// Remove the closing </div> tag and add \"Output:\" to the beginning\n",
    "const string closeDiv = \"</div>\";\n",
    "int divCloseStart = output.IndexOf(closeDiv);\n",
    "output = \"Output: \" + output.Remove(divCloseStart, closeDiv.Length);\n",
    "\n",
    "Console.WriteLine(quantity);\n",
    "Console.WriteLine(output);"
   ]
  },
  {
   "cell_type": "markdown",
   "metadata": {},
   "source": [
    "### <font color=hotpink> csharp </font>"
   ]
  }
 ],
 "metadata": {
  "language_info": {
   "name": "python"
  }
 },
 "nbformat": 4,
 "nbformat_minor": 2
}
