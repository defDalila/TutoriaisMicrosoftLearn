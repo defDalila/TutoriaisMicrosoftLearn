{
 "cells": [
  {
   "cell_type": "markdown",
   "metadata": {},
   "source": [
    "# <font color=turquoise> Criar métodos em aplicativos de console C# \n",
    "___\n"
   ]
  },
  {
   "cell_type": "markdown",
   "metadata": {},
   "source": [
    "## <font color=mediumorchid> Fundamentos \n",
    "___\n",
    "</font>"
   ]
  },
  {
   "cell_type": "markdown",
   "metadata": {},
   "source": [
    "### <font color=hotpink> Entender a sintaxe dos métodos </font>"
   ]
  },
  {
   "cell_type": "markdown",
   "metadata": {},
   "source": [
    "- O processo de desenvolvimento do método começa com a criação da assinatura do método.\n",
    "    - A assinatura do método declara os parâmetros de entrada, nome e tipo de retorno do método. \n",
    "    - No exemplo abaixo:\n",
    "        - O nome do método é `SayHello`. \n",
    "        - O tipo de retorno é `void`, o que significa que o método não retorna dados. \n",
    "- Antes de executar o método, você precisa adicionar uma definição.\n",
    "    - A definição de método usa colchetes `{}` para conter o código que é executado quando o método é chamado.    \n"
   ]
  },
  {
   "cell_type": "code",
   "execution_count": 1,
   "metadata": {
    "dotnet_interactive": {
     "language": "csharp"
    },
    "polyglot_notebook": {
     "kernelName": "csharp"
    },
    "vscode": {
     "languageId": "polyglot-notebook"
    }
   },
   "outputs": [],
   "source": [
    "void SayHello()\n",
    "{\n",
    "    Console.WriteLine(\"Hello World!\");\n",
    "}"
   ]
  },
  {
   "cell_type": "markdown",
   "metadata": {},
   "source": [
    "- O método é chamado usando seu nome e incluindo todos os argumentos necessários. Considere o seguinte:"
   ]
  },
  {
   "cell_type": "code",
   "execution_count": 2,
   "metadata": {
    "dotnet_interactive": {
     "language": "csharp"
    },
    "polyglot_notebook": {
     "kernelName": "csharp"
    },
    "vscode": {
     "languageId": "polyglot-notebook"
    }
   },
   "outputs": [
    {
     "name": "stdout",
     "output_type": "stream",
     "text": [
      "Input\r\n"
     ]
    }
   ],
   "source": [
    "Console.Write(\"Input\");"
   ]
  },
  {
   "cell_type": "markdown",
   "metadata": {},
   "source": [
    "- A cadeia de caracteres `\"Input!\"` é o argumento fornecido ao método `Write`.\n",
    "\n",
    "- O método pode ser chamado antes ou depois de sua definição. "
   ]
  },
  {
   "cell_type": "code",
   "execution_count": 1,
   "metadata": {
    "dotnet_interactive": {
     "language": "csharp"
    },
    "polyglot_notebook": {
     "kernelName": "csharp"
    },
    "vscode": {
     "languageId": "polyglot-notebook"
    }
   },
   "outputs": [
    {
     "name": "stdout",
     "output_type": "stream",
     "text": [
      "Hello World!\r\n"
     ]
    }
   ],
   "source": [
    "SayHello();\n",
    "\n",
    "void SayHello() \n",
    "{\n",
    "    Console.WriteLine(\"Hello World!\");\n",
    "}"
   ]
  },
  {
   "cell_type": "code",
   "execution_count": 2,
   "metadata": {
    "dotnet_interactive": {
     "language": "csharp"
    },
    "polyglot_notebook": {
     "kernelName": "csharp"
    },
    "vscode": {
     "languageId": "polyglot-notebook"
    }
   },
   "outputs": [
    {
     "name": "stdout",
     "output_type": "stream",
     "text": [
      "Contents of Array:\n",
      "1 2 3 4 5 \n"
     ]
    }
   ],
   "source": [
    "int[] a = {1,2,3,4,5};\n",
    "\n",
    "Console.WriteLine(\"Contents of Array:\");\n",
    "PrintArray();\n",
    "\n",
    "void PrintArray()\n",
    "{\n",
    "    foreach (int x in a)\n",
    "    {\n",
    "        Console.Write($\"{x} \");\n",
    "    }\n",
    "    Console.WriteLine();\n",
    "}"
   ]
  },
  {
   "cell_type": "markdown",
   "metadata": {},
   "source": [
    "- Ao chamar o método, o código no corpo do método será executado.\n",
    "    - Isso significa que o controle de execução é passado do chamador de método para o método.\n",
    "    - O controle é retornado ao chamador depois que o método concluir a execução."
   ]
  },
  {
   "cell_type": "code",
   "execution_count": 3,
   "metadata": {
    "dotnet_interactive": {
     "language": "csharp"
    },
    "polyglot_notebook": {
     "kernelName": "csharp"
    },
    "vscode": {
     "languageId": "polyglot-notebook"
    }
   },
   "outputs": [
    {
     "name": "stdout",
     "output_type": "stream",
     "text": [
      "Before calling a method\n",
      "Hello World!\n",
      "After calling a method\n"
     ]
    }
   ],
   "source": [
    "Console.WriteLine(\"Before calling a method\");\n",
    "SayHello();\n",
    "Console.WriteLine(\"After calling a method\");\n",
    "\n",
    "void SayHello() \n",
    "{\n",
    "    Console.WriteLine(\"Hello World!\");\n",
    "}"
   ]
  },
  {
   "cell_type": "markdown",
   "metadata": {},
   "source": [
    "### <font color=hotpink> Práticas Recomendadas </font>"
   ]
  },
  {
   "cell_type": "markdown",
   "metadata": {},
   "source": [
    ">___\n",
    ">\n",
    "> - Ao escolher o nome de método, é importante mantê-lo conciso e deixar claro qual tarefa o método executa.\n",
    "> - s nomes de métodos devem iniciar as palavras sempre com a primeira letra maiúscula e o restante minúsculas no estilo Pascal e geralmente não devem começar com dígitos.\n",
    "> - Os nomes dos parâmetros devem descrever o tipo de informação que o parâmetro representa.\n",
    ">\n",
    ">___"
   ]
  },
  {
   "cell_type": "markdown",
   "metadata": {},
   "source": [
    "- Considere as seguintes assinaturas de método:\n",
    "\n",
    "\n",
    "```csharp\n",
    "    void ShowData(string a, int b, int c);\n",
    "    void DisplayDate(string month, int day, int year);\n",
    "```"
   ]
  },
  {
   "cell_type": "markdown",
   "metadata": {},
   "source": [
    "- *O segundo método descreve quais tipos de dados são exibidos e fornece nomes descritivos para os parâmetros.*"
   ]
  },
  {
   "cell_type": "markdown",
   "metadata": {},
   "source": [
    "### <font color=hotpink> Criar um método </font>"
   ]
  },
  {
   "cell_type": "markdown",
   "metadata": {},
   "source": [
    "- Criar um método para exibir números aleatórios;\n",
    "    - Para criar um método, primeiro crie uma assinatura de método e adicione o corpo do método. \n",
    "    - Para criar a assinatura do método, você declara o tipo de retorno, o nome do método e os parâmetros. \n",
    "    - Crie o corpo do método usando colchetes `{}` que contêm o código."
   ]
  },
  {
   "cell_type": "markdown",
   "metadata": {},
   "source": [
    "> <font color=orchid> ***Exemplo:*** </font> Exibir 6 inteiros aleatórios entre 1 e 60"
   ]
  },
  {
   "cell_type": "code",
   "execution_count": 7,
   "metadata": {
    "dotnet_interactive": {
     "language": "csharp"
    },
    "polyglot_notebook": {
     "kernelName": "csharp"
    },
    "vscode": {
     "languageId": "polyglot-notebook"
    }
   },
   "outputs": [
    {
     "name": "stdout",
     "output_type": "stream",
     "text": [
      "\n",
      "Gerando números Aleatórios: \n",
      "5 1 46 48 12 11 "
     ]
    }
   ],
   "source": [
    "void ExibirNumerosAleatorios()\n",
    "{\n",
    "    Random random = new Random();\n",
    "\n",
    "    for (int i = 0; i < 6; i++)\n",
    "    {\n",
    "        Console.Write($\"{random.Next(1, 61)} \");\n",
    "    }\n",
    "}\n",
    "Console.WriteLine(\"\\nGerando números Aleatórios: \");\n",
    "ExibirNumerosAleatorios();"
   ]
  },
  {
   "cell_type": "markdown",
   "metadata": {},
   "source": [
    "### <font color=hotpink> Criar métodos reutilizáveis </font>"
   ]
  },
  {
   "cell_type": "markdown",
   "metadata": {},
   "source": [
    "> <font color=orchid> ***Exemplo:*** </font> Identificar código duplicado\n",
    "\n",
    "Nesta tarefa, você examinará um aplicativo que acompanha os tempos de medicação em diferentes fusos horários. O usuário insere o fuso horário atual e o fuso horário de destino. Sua programação de medicamentos é exibida e, em seguida, ajustada para o novo fuso horário."
   ]
  },
  {
   "cell_type": "markdown",
   "metadata": {},
   "source": [
    "```csharp\n",
    "        using System;\n",
    "\n",
    "        int[] times = {800, 1200, 1600, 2000};\n",
    "        int diff = 0;\n",
    "\n",
    "        Console.WriteLine(\"Enter current GMT\");\n",
    "        int currentGMT = Convert.ToInt32(Console.ReadLine());\n",
    "\n",
    "        Console.WriteLine(\"Current Medicine Schedule:\");\n",
    "\n",
    "        /* Format and display medicine times */\n",
    "        foreach (int val in times)\n",
    "        {\n",
    "            string time = val.ToString();\n",
    "            int len = time.Length;\n",
    "\n",
    "            if (len >= 3)\n",
    "            {\n",
    "                time = time.Insert(len - 2, \":\");\n",
    "            }\n",
    "            else if (len == 2)\n",
    "            {\n",
    "                time = time.Insert(0, \"0:\");\n",
    "            }\n",
    "            else\n",
    "            {\n",
    "                time = time.Insert(0, \"0:0\");\n",
    "            }\n",
    "\n",
    "            Console.Write($\"{time} \");\n",
    "        }\n",
    "\n",
    "        Console.WriteLine();\n",
    "\n",
    "        Console.WriteLine(\"Enter new GMT\");\n",
    "        int newGMT = Convert.ToInt32(Console.ReadLine());\n",
    "\n",
    "        if (Math.Abs(newGMT) > 12 || Math.Abs(currentGMT) > 12)\n",
    "        {\n",
    "            Console.WriteLine(\"Invalid GMT\");\n",
    "        }\n",
    "        else if (newGMT <= 0 && currentGMT <= 0 || newGMT >= 0 && currentGMT >= 0) \n",
    "        {\n",
    "            diff = 100 * (Math.Abs(newGMT) - Math.Abs(currentGMT));\n",
    "\n",
    "            /* Adjust the times by adding the difference, keeping the value within 24 hours */\n",
    "            for (int i = 0; i < times.Length; i++) \n",
    "            {\n",
    "                times[i] = ((times[i] + diff)) % 2400;\n",
    "            }\n",
    "        } \n",
    "        else \n",
    "        {\n",
    "            diff = 100 * (Math.Abs(newGMT) + Math.Abs(currentGMT));\n",
    "\n",
    "            /* Adjust the times by adding the difference, keeping the value within 24 hours */\n",
    "            for (int i = 0; i < times.Length; i++) \n",
    "            {\n",
    "                times[i] = ((times[i] + diff)) % 2400;\n",
    "            }\n",
    "        }\n",
    "\n",
    "        Console.WriteLine(\"New Medicine Schedule:\");\n",
    "\n",
    "        /* Format and display medicine times */\n",
    "        foreach (int val in times)\n",
    "        {\n",
    "            string time = val.ToString();\n",
    "            int len = time.Length;\n",
    "\n",
    "            if (len >= 3)\n",
    "            {\n",
    "                time = time.Insert(len - 2, \":\");\n",
    "            }\n",
    "            else if (len == 2)\n",
    "            {\n",
    "                time = time.Insert(0, \"0:\");\n",
    "            }\n",
    "            else\n",
    "            {\n",
    "                time = time.Insert(0, \"0:0\");\n",
    "            }\n",
    "\n",
    "            Console.Write($\"{time} \");\n",
    "        }\n",
    "\n",
    "        Console.WriteLine();\n",
    "```"
   ]
  },
  {
   "cell_type": "markdown",
   "metadata": {},
   "source": [
    "### <font color=hotpink> Usar métodos para estruturar código </font>"
   ]
  },
  {
   "cell_type": "markdown",
   "metadata": {},
   "source": [
    "Vamos supor que você seja um candidato em uma entrevista de codificação. O entrevistador deseja que você escreva um programa que verifique se um endereço IPv4 é válido ou inválido. Você recebe as seguintes regras:\n",
    "\n",
    "- Um endereço IPv4 válido consiste em quatro números separados por ponto\n",
    "- Cada número não deve conter zeros à esquerda\n",
    "- Cada número deve variar de 0 a 255\n",
    "\n",
    "1.1.1.1 e 255.255.255.255 são exemplos de endereços IP válidos."
   ]
  },
  {
   "cell_type": "markdown",
   "metadata": {},
   "source": [
    "```csharp\n",
    "// TODO : Verificar se o endereço de IP Tem 4 números;\n",
    "\n",
    "// TODO : Verificar Se Os números não possuem zero à esquerda\n",
    "\n",
    "// TODO : Verificar se os números estão entre 0 e 255\n",
    "```"
   ]
  },
  {
   "cell_type": "code",
   "execution_count": 22,
   "metadata": {
    "dotnet_interactive": {
     "language": "csharp"
    },
    "polyglot_notebook": {
     "kernelName": "csharp"
    },
    "vscode": {
     "languageId": "polyglot-notebook"
    }
   },
   "outputs": [
    {
     "name": "stdout",
     "output_type": "stream",
     "text": [
      "107.31.1.5 é um endereco de IPv4 válido\n",
      "255.0.0.255 é um endereco de IPv4 válido\n",
      "555..0.555 é inválido\n",
      "255...255 é inválido\n"
     ]
    }
   ],
   "source": [
    "bool tamanhoValido = false;\n",
    "bool zeroValido = false;\n",
    "bool intervaloValido = false;\n",
    "\n",
    "string[] ipv4Input = { \"107.31.1.5\", \"255.0.0.255\", \"555..0.555\", \"255...255\" };\n",
    "string[] ipAdress;\n",
    "\n",
    "foreach (var ip in ipv4Input)\n",
    "{\n",
    "\tipAdress = ip.Split(\".\", StringSplitOptions.RemoveEmptyEntries);\n",
    "\tValidarIp();\n",
    "\n",
    "\tif (tamanhoValido && zeroValido && intervaloValido)\n",
    "\t\tConsole.WriteLine($\"{ip} é um endereco de IPv4 válido\");\n",
    "\telse\n",
    "\t\tConsole.WriteLine($\"{ip} é inválido\");\n",
    "}\n",
    "\n",
    "\n",
    "void ValidarIp()\n",
    "{\n",
    "\n",
    "\ttamanhoValido = ipAdress.Length == 4;\n",
    "\n",
    "\tforeach (string num in ipAdress)\n",
    "\t{\n",
    "\t\tint valor = int.Parse(num);\n",
    "\t\tintervaloValido = true;\n",
    "\t\tzeroValido = true;\n",
    "\t\tif (num.Length > 1 && num.StartsWith(\"0\"))\n",
    "\t\t{\n",
    "\t\t\tzeroValido = false;\n",
    "\t\t\treturn;\n",
    "\t\t}\n",
    "\t\tif (valor < 0 || valor > 255)\n",
    "\t\t{\n",
    "\t\t\tintervaloValido = false;\n",
    "\t\t\treturn;\n",
    "\t\t}\n",
    "\n",
    "\t}\n",
    "}"
   ]
  },
  {
   "cell_type": "markdown",
   "metadata": {},
   "source": [
    "## <font color=mediumorchid>  Criar métodos C# com parâmetros\n",
    "___\n",
    "</font>"
   ]
  },
  {
   "cell_type": "markdown",
   "metadata": {},
   "source": [
    "### <font color=hotpink> Usar parâmetros em métodos </font>"
   ]
  },
  {
   "cell_type": "markdown",
   "metadata": {},
   "source": [
    "- Os termos '`parâmetro`' e '`argumento`' são frequentemente usados de forma intercambiável. No entanto,\n",
    "    - '`parameter`' refere-se à variável na assinatura do método, e\n",
    "    - '`argumento`' é o valor passado quando o método é chamado."
   ]
  },
  {
   "cell_type": "markdown",
   "metadata": {},
   "source": [
    "- Um parâmetro é definido especificando o tipo de dados seguido pelo nome do parâmetro."
   ]
  },
  {
   "cell_type": "code",
   "execution_count": 26,
   "metadata": {
    "dotnet_interactive": {
     "language": "csharp"
    },
    "polyglot_notebook": {
     "kernelName": "csharp"
    },
    "vscode": {
     "languageId": "polyglot-notebook"
    }
   },
   "outputs": [
    {
     "name": "stdout",
     "output_type": "stream",
     "text": [
      "$0  $1  $2  $3  $4  $5  "
     ]
    }
   ],
   "source": [
    "CountTo(5);\n",
    "\n",
    "void CountTo(int valorMaximo)\n",
    "{\n",
    "    for (int i = 0; i <= valorMaximo; i++)\n",
    "        Console.Write($\"${i}  \");\n",
    "}"
   ]
  },
  {
   "cell_type": "markdown",
   "metadata": {},
   "source": [
    ">___\n",
    ">\n",
    "> <font color=orchid> ***Exemplo:*** criar um método que ajusta horários agendados para um fuso horário GMT diferente. O método deve aceitar uma lista de horários, o fuso horário atual e o novo fuso horário.</font>\n",
    ">\n",
    ">___"
   ]
  },
  {
   "cell_type": "code",
   "execution_count": 29,
   "metadata": {
    "dotnet_interactive": {
     "language": "csharp"
    },
    "polyglot_notebook": {
     "kernelName": "csharp"
    },
    "vscode": {
     "languageId": "polyglot-notebook"
    }
   },
   "outputs": [
    {
     "name": "stdout",
     "output_type": "stream",
     "text": [
      "800 -> 2000\n",
      "1200 -> 0\n",
      "1600 -> 400\n",
      "2000 -> 800\n"
     ]
    }
   ],
   "source": [
    "int[] horariosAgendados = { 800, 1200, 1600, 2000 };\n",
    "\n",
    "ExibirHorariosAjustados(horariosAgendados, 6, -6 );\n",
    "\n",
    "void ExibirHorariosAjustados(int[] horarios, int atualGmt, int novoGmt)\n",
    "{\n",
    "\tint diff = 0;\n",
    "\n",
    "\tif (Math.Abs(novoGmt) > 12 || Math.Abs(atualGmt) > 12)\n",
    "\t{\n",
    "\t\tConsole.WriteLine(\"GMT inválido\");\n",
    "\t}\n",
    "\n",
    "\telse if (novoGmt <= 0 && atualGmt <= 0 || novoGmt > 0 && atualGmt > 0)\n",
    "\t{\n",
    "\t\tdiff = 100 * (Math.Abs(novoGmt) - Math.Abs(atualGmt));\n",
    "\t}\n",
    "\telse\n",
    "\t{\n",
    "\t\tdiff = 100 * (Math.Abs(novoGmt) + Math.Abs(atualGmt));\n",
    "\t}\n",
    "\n",
    "\tfor (int i = 0; i < horarios.Length; i++)\n",
    "\t{\n",
    "\t\tint novoHorario = (horarios[i] + diff) % 2400;\n",
    "\t\tConsole.WriteLine($\"{horarios[i]} -> {novoHorario}\");\n",
    "\n",
    "\t}\n",
    "}"
   ]
  },
  {
   "cell_type": "markdown",
   "metadata": {},
   "source": [
    "- *Neste código, você verifica se precisa adicionar ou subtrair os valores absolutos dos fusos horários GMT para obter a diferença em horas. Se os valores GMT compartilharem o mesmo sinal (positivo ou ambos negativos), a diferença de horas será igual à diferença entre os dois números. Se os valores GMT tiverem sinais opostos, a diferença será igual à soma dos dois números. Como as horas são representadas em centenas, você multiplica o resultado por 100.*"
   ]
  },
  {
   "cell_type": "markdown",
   "metadata": {},
   "source": [
    "### <font color=hotpink> Entender o escopo do método </font>"
   ]
  },
  {
   "cell_type": "markdown",
   "metadata": {},
   "source": [
    "- ***Escopo*** é a região do programa em que determinados dados são acessíveis. \n",
    "- As instruções declaradas fora de qualquer bloco de código são chamadas de ***instruções de nível superior***. \n",
    "- As variáveis declaradas em instruções de nível superior são chamadas de ***\"variáveis globais\"***. "
   ]
  },
  {
   "cell_type": "code",
   "execution_count": 30,
   "metadata": {
    "dotnet_interactive": {
     "language": "csharp"
    },
    "polyglot_notebook": {
     "kernelName": "csharp"
    },
    "vscode": {
     "languageId": "polyglot-notebook"
    }
   },
   "outputs": [
    {
     "name": "stdout",
     "output_type": "stream",
     "text": [
      "Jenna, Ayesha, Carlos, Viktor, \n",
      "Robert, Vanya, \n"
     ]
    }
   ],
   "source": [
    "string[] students = {\"Jenna\", \"Ayesha\", \"Carlos\", \"Viktor\"};\n",
    "\n",
    "DisplayStudents(students);\n",
    "DisplayStudents(new string[] {\"Robert\",\"Vanya\"});\n",
    "\n",
    "void DisplayStudents(string[] students) \n",
    "{\n",
    "    foreach (string student in students) \n",
    "    {\n",
    "        Console.Write($\"{student}, \");\n",
    "    }\n",
    "    Console.WriteLine();\n",
    "}"
   ]
  },
  {
   "cell_type": "markdown",
   "metadata": {},
   "source": [
    "- *Nesse código, você cria a matriz global `students` e o método `DisplayStudents` que aceita um parâmetro com o mesmo nome.*\n",
    "- *Observe que o `parâmetro do método student` tem precedência sobre a `matriz global student`. É importante ponderar quais variáveis globais você deseja que seus métodos usem.*"
   ]
  },
  {
   "cell_type": "code",
   "execution_count": 1,
   "metadata": {
    "dotnet_interactive": {
     "language": "csharp"
    },
    "polyglot_notebook": {
     "kernelName": "csharp"
    },
    "vscode": {
     "languageId": "polyglot-notebook"
    }
   },
   "outputs": [
    {
     "name": "stdout",
     "output_type": "stream",
     "text": [
      "Área do Circulo = 452,3893421169302\n",
      "Circunferencia: 75,39822368615503\n"
     ]
    }
   ],
   "source": [
    "ImprimirAreaDoCirculo(12);\n",
    "ImprimirCircunferencia(12);\n",
    "\n",
    "void ImprimirAreaDoCirculo(int raio)\n",
    "{\n",
    "    double area = Math.PI * (raio * raio);\n",
    "    Console.WriteLine($\"Área do Circulo = {area}\");\n",
    "}\n",
    "\n",
    "void ImprimirCircunferencia(int raio)\n",
    "{\n",
    "    double circunferencia = 2 * Math.PI * raio;\n",
    "    Console.WriteLine($\"Circunferencia: {circunferencia}\");\n",
    "}"
   ]
  },
  {
   "cell_type": "markdown",
   "metadata": {},
   "source": [
    "```csharp\n",
    "double pi = 3.14159;\n",
    "\n",
    "void PrintCircleArea(int radius)\n",
    "{\n",
    "    double area = pi * (radius * radius);\n",
    "    Console.WriteLine($\"Area = {area}\");\n",
    "}\n",
    "\n",
    "void PrintCircleCircumference(int radius)\n",
    "{\n",
    "    double circumference = 2 * pi * radius;\n",
    "    Console.WriteLine($\"Circumference = {circumference}\");\n",
    "}\n",
    "\n",
    "// ambos os métodos podem referenciar o mesmo valor de pi sem a necessidade de defini-lo.\n",
    "```"
   ]
  },
  {
   "cell_type": "markdown",
   "metadata": {},
   "source": [
    "- os métodos podem chamar outros métodos."
   ]
  },
  {
   "cell_type": "code",
   "execution_count": 3,
   "metadata": {
    "dotnet_interactive": {
     "language": "csharp"
    },
    "polyglot_notebook": {
     "kernelName": "csharp"
    },
    "vscode": {
     "languageId": "polyglot-notebook"
    }
   },
   "outputs": [
    {
     "name": "stdout",
     "output_type": "stream",
     "text": [
      "Circulo de raio 12: \n",
      "Área do Circulo = 452,3893421169302\n",
      "Circunferencia: 75,39822368615503\n",
      "\n",
      "Circulo de raio 24: \n",
      "Área do Circulo = 1809,5573684677208\n",
      "Circunferencia: 150,79644737231007\n",
      "\n"
     ]
    }
   ],
   "source": [
    "ImprimirCirculoInfo(12);\n",
    "ImprimirCirculoInfo(24);\n",
    "\n",
    "\n",
    "\n",
    "\n",
    "void ImprimirCirculoInfo(int raio)\n",
    "{   \n",
    "    Console.WriteLine($\"Circulo de raio {raio}: \");\n",
    "    ImprimirAreaDoCirculo(raio);\n",
    "    ImprimirCircunferencia(raio);\n",
    "    Console.WriteLine();\n",
    "}\n",
    "\n",
    "\n",
    "void ImprimirAreaDoCirculo(int raio)\n",
    "{\n",
    "    double area = Math.PI * (raio * raio);\n",
    "    Console.WriteLine($\"Área do Circulo = {area}\");\n",
    "}\n",
    "\n",
    "void ImprimirCircunferencia(int raio)\n",
    "{\n",
    "    double circunferencia = 2 * Math.PI * raio;\n",
    "    Console.WriteLine($\"Circunferencia: {circunferencia}\");\n",
    "}"
   ]
  },
  {
   "cell_type": "markdown",
   "metadata": {},
   "source": [
    "### <font color=hotpink> Usar parâmetros de tipo de referência e de valor </font>"
   ]
  },
  {
   "cell_type": "markdown",
   "metadata": {},
   "source": [
    "- Tipos de valor como `int`, `bool`, `float`, `double` e `char` contêm valores diretamente.\n",
    "- Tipos de referência, como `string`, `array` e objetos (como instâncias de `Random`) não armazenam seus valores diretamente. \n",
    "    - Em vez disso, os tipos de referência armazenam um endereço onde seu valor está sendo armazenado.\n",
    "\n"
   ]
  },
  {
   "cell_type": "markdown",
   "metadata": {},
   "source": [
    "- Quando um argumento é passado para um método, as variáveis de tipo de valor têm seus valores copiados para o método.\n",
    "- Com tipos de referência, o endereço do valor é passado para o método. A variável fornecida ao método faz referência ao valor naquele endereço, portanto, as operações nessa variável afetam o valor referenciado pela outra."
   ]
  },
  {
   "cell_type": "markdown",
   "metadata": {},
   "source": [
    ">___\n",
    ">\n",
    "> <font color=orchid> ***Exemplo:*** Testar Passagem por valor </font>\n",
    ">\n",
    ">___"
   ]
  },
  {
   "cell_type": "code",
   "execution_count": 5,
   "metadata": {
    "dotnet_interactive": {
     "language": "csharp"
    },
    "polyglot_notebook": {
     "kernelName": "csharp"
    },
    "vscode": {
     "languageId": "polyglot-notebook"
    }
   },
   "outputs": [
    {
     "name": "stdout",
     "output_type": "stream",
     "text": [
      "Declaração Local: 3 x 4 = 12\n",
      "Declaração Global: 3 x 4 = 0\n"
     ]
    }
   ],
   "source": [
    "int a = 3;\n",
    "int b = 4;\n",
    "int c = 0;\n",
    "\n",
    "Multiplicar(a, b, c);\n",
    "\n",
    "Console.WriteLine($\"Declaração Global: {a} x {b} = {c}\");\n",
    "\n",
    "\n",
    "void Multiplicar(int a, int b, int c)\n",
    "{\n",
    "    c = a * b;\n",
    "    Console.WriteLine($\"Declaração Local: {a} x {b} = {c}\");\n",
    "}\n"
   ]
  },
  {
   "cell_type": "markdown",
   "metadata": {},
   "source": [
    "- *As variáveis a, b e c são passadas para o método Multiply. Os valores das variáveis são impressos durante a execução do método e impressos novamente após a conclusão do método.*\n",
    "- *Observe que o valor de c só é alterado dentro do método Multiply. Fora do método, c mantém seu valor original.*"
   ]
  },
  {
   "cell_type": "markdown",
   "metadata": {},
   "source": [
    ">___\n",
    ">\n",
    "> <font color=orchid> ***Exemplo:*** Testar Passagem por referência </font>\n",
    ">\n",
    ">___"
   ]
  },
  {
   "cell_type": "code",
   "execution_count": 7,
   "metadata": {
    "dotnet_interactive": {
     "language": "csharp"
    },
    "polyglot_notebook": {
     "kernelName": "csharp"
    },
    "vscode": {
     "languageId": "polyglot-notebook"
    }
   },
   "outputs": [
    {
     "name": "stdout",
     "output_type": "stream",
     "text": [
      "[ 1 2 3 4 5 ]\n",
      "[ 0 0 0 0 0 ]\n"
     ]
    }
   ],
   "source": [
    "int[] array = { 1, 2, 3 ,4 ,5 };\n",
    "\n",
    "PrintArray(array);\n",
    "\n",
    "Clear(array);\n",
    "\n",
    "PrintArray(array);\n",
    "\n",
    "void PrintArray(int[] array)\n",
    "{   \n",
    "    Console.Write(\"[ \");\n",
    "    foreach (int a in array)\n",
    "    {\n",
    "        Console.Write($\"{a} \");\n",
    "    }\n",
    "    Console.WriteLine(\"]\");\n",
    "}\n",
    "\n",
    "void Clear(int[] array)\n",
    "{\n",
    "    for (int i = 0; i < array.Length; i++)\n",
    "    {\n",
    "        array[i] = 0;\n",
    "    }\n",
    "}\n"
   ]
  },
  {
   "cell_type": "markdown",
   "metadata": {},
   "source": [
    "- *Observe que a matriz permanece alterada fora do escopo do método Clear. Isso acontece porque o método Clear atualizou os valores armazenados em cada endereço.*"
   ]
  },
  {
   "cell_type": "markdown",
   "metadata": {},
   "source": [
    ">___\n",
    ">\n",
    "> <font color=orchid> ***Exemplo:*** Testar Cadeias de Caracteres</font>\n",
    ">\n",
    ">___"
   ]
  },
  {
   "cell_type": "markdown",
   "metadata": {},
   "source": [
    "- Embora uma cadeia de caracteres seja um tipo de valor de referência, ao contrário de uma matriz, seu valor não pode ser alterado depois de atribuído."
   ]
  },
  {
   "cell_type": "code",
   "execution_count": 8,
   "metadata": {
    "dotnet_interactive": {
     "language": "csharp"
    },
    "polyglot_notebook": {
     "kernelName": "csharp"
    },
    "vscode": {
     "languageId": "polyglot-notebook"
    }
   },
   "outputs": [
    {
     "name": "stdout",
     "output_type": "stream",
     "text": [
      "Inicio: Healthy\n",
      "Meio: Unhealthy\n",
      "Final: Healthy\n"
     ]
    }
   ],
   "source": [
    "string status = \"Healthy\";\n",
    "\n",
    "Console.WriteLine($\"Inicio: {status}\");\n",
    "\n",
    "SetHealth(status, false);\n",
    "Console.WriteLine($\"Final: {status}\");\n",
    "\n",
    "void SetHealth(string status, bool isHealthy)\n",
    "{\n",
    "    status = isHealthy ? \"Healthy\" : \"Unhealthy\";\n",
    "    Console.WriteLine($\"Meio: {status}\");\n",
    "}"
   ]
  },
  {
   "cell_type": "markdown",
   "metadata": {},
   "source": [
    "*Se o método SetHealth não gerou o status, você pode ter presumido que o método não foi executado corretamente. Em vez disso, uma nova cadeia de caracteres com o valor \"Não Íntegro\" foi criada e perdida no escopo do método.*\n",
    "\n",
    "- Para corrigir esse problema, você pode alterar SetHealth para usar a variável de status global."
   ]
  },
  {
   "cell_type": "code",
   "execution_count": 9,
   "metadata": {
    "dotnet_interactive": {
     "language": "csharp"
    },
    "polyglot_notebook": {
     "kernelName": "csharp"
    },
    "vscode": {
     "languageId": "polyglot-notebook"
    }
   },
   "outputs": [
    {
     "name": "stdout",
     "output_type": "stream",
     "text": [
      "Inicio: Healthy\n",
      "Meio: Unhealthy\n",
      "Final: Unhealthy\n"
     ]
    }
   ],
   "source": [
    "string status = \"Healthy\";\n",
    "\n",
    "Console.WriteLine($\"Inicio: {status}\");\n",
    "\n",
    "SetHealth(false);\n",
    "Console.WriteLine($\"Final: {status}\");\n",
    "\n",
    "void SetHealth(bool isHealthy)\n",
    "{\n",
    "    status = isHealthy ? \"Healthy\" : \"Unhealthy\";\n",
    "    Console.WriteLine($\"Meio: {status}\");\n",
    "}"
   ]
  },
  {
   "cell_type": "markdown",
   "metadata": {},
   "source": [
    "### <font color=hotpink> Métodos com parâmetros opcionais </font>"
   ]
  },
  {
   "cell_type": "markdown",
   "metadata": {},
   "source": [
    ">___\n",
    ">\n",
    "> <font color=orchid> ***Exemplo:*** Criar um aplicativo RSVP</font>\n",
    ">\n",
    ">___\n",
    "\n",
    "Nesta tarefa, você criará um breve aplicativo para convidados para RSVP a um evento. Os convidados informarão o tamanho da festa e possíveis alergias. Você também adicionará a opção para restringir RSVPs a uma lista restrita de convidados. (RSVP é a abreviatura de Répondez S'il Vous Plaît,)"
   ]
  },
  {
   "cell_type": "code",
   "execution_count": 13,
   "metadata": {
    "dotnet_interactive": {
     "language": "csharp"
    },
    "polyglot_notebook": {
     "kernelName": "csharp"
    },
    "vscode": {
     "languageId": "polyglot-notebook"
    }
   },
   "outputs": [
    {
     "name": "stdout",
     "output_type": "stream",
     "text": [
      "Desculpe, Tony não está na lista de convidados.\n",
      "\n",
      "Total RSVPs: \n",
      "Nome: Rebecca, \tTamanho da Festa: 1, \tAlergias: none,\n",
      "Nome: Nadia, \tTamanho da Festa: 2, \tAlergias: Nuts,\n",
      "Nome: Linh, \tTamanho da Festa: 2, \tAlergias: none,\n",
      "Nome: Tony, \tTamanho da Festa: 1, \tAlergias: Jackfruit,\n",
      "Nome: Noor, \tTamanho da Festa: 4, \tAlergias: none,\n",
      "Nome: Jonte, \tTamanho da Festa: 2, \tAlergias: Stone fruit,\n"
     ]
    }
   ],
   "source": [
    "string[] listaDeConvidados = { \"Rebecca\", \"Nadia\", \"Noor\", \"Jonte\"};\n",
    "string[] rsvps = new string[10];\n",
    "int count = 0;\n",
    "\n",
    "void RSVP(string nome, int tamanhoDaFesta, string alergias, bool inviteOnly)\n",
    "{\n",
    "    if (inviteOnly)\n",
    "    {\n",
    "        // TODO : search guestList before adding rsvp\n",
    "\n",
    "        bool found = false;\n",
    "        foreach (var convidado in listaDeConvidados)\n",
    "        {\n",
    "            if (convidado.Equals(nome))\n",
    "            {\n",
    "                found = true;\n",
    "                break;\n",
    "            }\n",
    "        }\n",
    "\n",
    "        if (!found)\n",
    "        {\n",
    "            Console.WriteLine($\"Desculpe, {nome} não está na lista de convidados.\");\n",
    "        }\n",
    "    }\n",
    "    \n",
    "\n",
    "    rsvps[count] = $\"Nome: {nome}, \\tTamanho da Festa: {tamanhoDaFesta}, \\tAlergias: {alergias},\";\n",
    "    count++;\n",
    "}\n",
    "\n",
    "void ShowRSVPs()\n",
    "{\n",
    "    Console.WriteLine(\"\\nTotal RSVPs: \");\n",
    "    for (int i = 0; i < count; i++)\n",
    "    {\n",
    "        Console.WriteLine(rsvps[i]);\n",
    "    }\n",
    "}\n",
    "\n",
    "RSVP(\"Rebecca\", 1, \"none\", true);\n",
    "RSVP(\"Nadia\", 2, \"Nuts\", true);\n",
    "RSVP(\"Linh\", 2, \"none\", false);\n",
    "RSVP(\"Tony\", 1, \"Jackfruit\", true);\n",
    "RSVP(\"Noor\", 4, \"none\", false);\n",
    "RSVP(\"Jonte\", 2, \"Stone fruit\", false);\n",
    "ShowRSVPs();"
   ]
  },
  {
   "cell_type": "markdown",
   "metadata": {},
   "source": [
    "### <font color=hotpink> Usar argumentos nomeados </font>"
   ]
  },
  {
   "cell_type": "markdown",
   "metadata": {},
   "source": [
    "- Ao chamar um método que aceita muitos parâmetros, pode ser complicado entender o que os argumentos representam. O uso de argumentos nomeados pode melhorar a legibilidade do código."
   ]
  },
  {
   "cell_type": "code",
   "execution_count": 15,
   "metadata": {
    "dotnet_interactive": {
     "language": "csharp"
    },
    "polyglot_notebook": {
     "kernelName": "csharp"
    },
    "vscode": {
     "languageId": "polyglot-notebook"
    }
   },
   "outputs": [
    {
     "name": "stdout",
     "output_type": "stream",
     "text": [
      "\n",
      "Total RSVPs: \n",
      "Nome: Linh, \tTamanho da Festa: 2, \tAlergias: none\n"
     ]
    }
   ],
   "source": [
    "string[] listaDeConvidados = { \"Rebecca\", \"Nadia\", \"Noor\", \"Jonte\"};\n",
    "string[] rsvps = new string[10];\n",
    "int count = 0;\n",
    "\n",
    "void RSVP(string nome, int tamanhoDaFesta, string alergias, bool inviteOnly)\n",
    "{\n",
    "    if (inviteOnly)\n",
    "    {\n",
    "        // TODO : search guestList before adding rsvp\n",
    "\n",
    "        bool found = false;\n",
    "        foreach (var convidado in listaDeConvidados)\n",
    "        {\n",
    "            if (convidado.Equals(nome))\n",
    "            {\n",
    "                found = true;\n",
    "                break;\n",
    "            }\n",
    "        }\n",
    "\n",
    "        if (!found)\n",
    "        {\n",
    "            Console.WriteLine($\"Desculpe, {nome} não está na lista de convidados.\");\n",
    "        }\n",
    "    }\n",
    "    \n",
    "\n",
    "    rsvps[count] = $\"Nome: {nome}, \\tTamanho da Festa: {tamanhoDaFesta}, \\tAlergias: {alergias}\";\n",
    "    count++;\n",
    "}\n",
    "\n",
    "void ShowRSVPs()\n",
    "{\n",
    "    Console.WriteLine(\"\\nTotal RSVPs: \");\n",
    "    for (int i = 0; i < count; i++)\n",
    "    {\n",
    "        Console.WriteLine(rsvps[i]);\n",
    "    }\n",
    "}\n",
    "\n",
    "\n",
    "\n",
    "RSVP(nome: \"Linh\", tamanhoDaFesta: 2, alergias: \"none\", inviteOnly: false);\n",
    "ShowRSVPs();"
   ]
  },
  {
   "cell_type": "markdown",
   "metadata": {},
   "source": [
    "- Observe que você fornece o nome do parâmetro, seguido por dois-pontos e o valor. Essa sintaxe define um argumento nomeado. Não é necessário nomear todos os argumentos. Por exemplo, a seguinte sintaxe também é válida:\n",
    "\n",
    "```csharp\n",
    "        RSVP(\"Linh\", 2, allergies: \"none\", inviteOnly: false); \n",
    "        RSVP(\"Linh\", partySize: 2, \"none\", false);\n",
    "\n",
    "```"
   ]
  },
  {
   "cell_type": "markdown",
   "metadata": {},
   "source": [
    "- Os argumentos nomeados, quando usados com argumentos posicionais, serão válidos se forem usados na posição correta.\n",
    "\n",
    "- Os argumentos nomeados também são válidos, desde que não sejam seguidos por argumentos posicionais. Por exemplo, incluir \"Linh\" e 2 no final seria inválido:\n",
    "\n",
    "```csharp\n",
    "        RSVP(allergies: \"none\", inviteOnly: false, \"Linh\", 2);\n",
    "\n",
    "// Erro: Named argument 'allergies' is used out-of-position but is followed by an unnamed argument\n",
    "\n",
    "```"
   ]
  },
  {
   "cell_type": "code",
   "execution_count": 16,
   "metadata": {
    "dotnet_interactive": {
     "language": "csharp"
    },
    "polyglot_notebook": {
     "kernelName": "csharp"
    },
    "vscode": {
     "languageId": "polyglot-notebook"
    }
   },
   "outputs": [
    {
     "name": "stdout",
     "output_type": "stream",
     "text": [
      "Desculpe, Tony não está na lista de convidados.\n",
      "\n",
      "Total RSVPs: \n",
      "Nome: Linh, \tTamanho da Festa: 2, \tAlergias: none\n",
      "Nome: Tony, \tTamanho da Festa: 1, \tAlergias: JackFruit\n"
     ]
    }
   ],
   "source": [
    "string[] listaDeConvidados = { \"Rebecca\", \"Nadia\", \"Noor\", \"Jonte\"};\n",
    "string[] rsvps = new string[10];\n",
    "int count = 0;\n",
    "\n",
    "void RSVP(string nome, int tamanhoDaFesta, string alergias, bool inviteOnly)\n",
    "{\n",
    "    if (inviteOnly)\n",
    "    {\n",
    "        // TODO : search guestList before adding rsvp\n",
    "\n",
    "        bool found = false;\n",
    "        foreach (var convidado in listaDeConvidados)\n",
    "        {\n",
    "            if (convidado.Equals(nome))\n",
    "            {\n",
    "                found = true;\n",
    "                break;\n",
    "            }\n",
    "        }\n",
    "\n",
    "        if (!found)\n",
    "        {\n",
    "            Console.WriteLine($\"Desculpe, {nome} não está na lista de convidados.\");\n",
    "        }\n",
    "    }\n",
    "    \n",
    "\n",
    "    rsvps[count] = $\"Nome: {nome}, \\tTamanho da Festa: {tamanhoDaFesta}, \\tAlergias: {alergias}\";\n",
    "    count++;\n",
    "}\n",
    "\n",
    "void ShowRSVPs()\n",
    "{\n",
    "    Console.WriteLine(\"\\nTotal RSVPs: \");\n",
    "    for (int i = 0; i < count; i++)\n",
    "    {\n",
    "        Console.WriteLine(rsvps[i]);\n",
    "    }\n",
    "}\n",
    "\n",
    "\n",
    "\n",
    "RSVP(nome: \"Linh\", tamanhoDaFesta: 2, alergias: \"none\", inviteOnly: false);\n",
    "RSVP(\"Tony\", inviteOnly: true, alergias: \"JackFruit\", tamanhoDaFesta: 1);\n",
    "ShowRSVPs();"
   ]
  },
  {
   "cell_type": "markdown",
   "metadata": {},
   "source": [
    "*Observe que os argumentos nomeados não precisam aparecer na ordem original. No entanto, o argumento Tony sem nome é um argumento posicional e deve aparecer na posição correspondente*"
   ]
  },
  {
   "cell_type": "markdown",
   "metadata": {},
   "source": [
    "### <font color=hotpink> Declarar parâmetros opcionais </font>"
   ]
  },
  {
   "cell_type": "markdown",
   "metadata": {},
   "source": [
    "- Um parâmetro se torna opcional quando é atribuído um valor padrão.\n",
    "- Se um parâmetro opcional for omitido dos argumentos, o valor padrão será usado quando o método for executado. "
   ]
  },
  {
   "cell_type": "markdown",
   "metadata": {},
   "source": [
    "- tornará os parâmetros `tamanhoDaFesta`, `alergias` e `inviteOnly` opcionais."
   ]
  },
  {
   "cell_type": "code",
   "execution_count": 19,
   "metadata": {
    "dotnet_interactive": {
     "language": "csharp"
    },
    "polyglot_notebook": {
     "kernelName": "csharp"
    },
    "vscode": {
     "languageId": "polyglot-notebook"
    }
   },
   "outputs": [
    {
     "name": "stdout",
     "output_type": "stream",
     "text": [
      "Desculpe, Tony não está na lista de convidados.\n",
      "\n",
      "Total RSVPs: \n",
      "Nome: Rebecca, \tTamanho da Festa: 1, \tAlergias: nenhuma\n",
      "Nome: Nadia, \tTamanho da Festa: 2, \tAlergias: Nuts\n",
      "Nome: Linh, \tTamanho da Festa: 2, \tAlergias: nenhuma\n",
      "Nome: Tony, \tTamanho da Festa: 1, \tAlergias: Jackfruit\n",
      "Nome: Noor, \tTamanho da Festa: 4, \tAlergias: nenhuma\n",
      "Nome: Jonte, \tTamanho da Festa: 2, \tAlergias: Stone fruit\n"
     ]
    }
   ],
   "source": [
    "string[] listaDeConvidados = { \"Rebecca\", \"Nadia\", \"Noor\", \"Jonte\"};\n",
    "string[] rsvps = new string[10];\n",
    "int count = 0;\n",
    "\n",
    "void RSVP(string nome, int partySize = 1, string alergias = \"nenhuma\", bool inviteOnly = true)\n",
    "{\n",
    "    if (inviteOnly)\n",
    "    {\n",
    "        // TODO : search guestList before adding rsvp\n",
    "\n",
    "        bool found = false;\n",
    "        foreach (var convidado in listaDeConvidados)\n",
    "        {\n",
    "            if (convidado.Equals(nome))\n",
    "            {\n",
    "                found = true;\n",
    "                break;\n",
    "            }\n",
    "        }\n",
    "\n",
    "        if (!found)\n",
    "        {\n",
    "            Console.WriteLine($\"Desculpe, {nome} não está na lista de convidados.\");\n",
    "        }\n",
    "    }\n",
    "    \n",
    "\n",
    "    rsvps[count] = $\"Nome: {nome}, \\tTamanho da Festa: {partySize}, \\tAlergias: {alergias}\";\n",
    "    count++;\n",
    "}\n",
    "\n",
    "void ShowRSVPs()\n",
    "{\n",
    "    Console.WriteLine(\"\\nTotal RSVPs: \");\n",
    "    for (int i = 0; i < count; i++)\n",
    "    {\n",
    "        Console.WriteLine(rsvps[i]);\n",
    "    }\n",
    "}\n",
    "\n",
    "RSVP(\"Rebecca\");\n",
    "RSVP(\"Nadia\", 2, \"Nuts\");\n",
    "RSVP(nome: \"Linh\", partySize: 2, inviteOnly: false);\n",
    "RSVP(\"Tony\", alergias: \"Jackfruit\", inviteOnly: true);\n",
    "RSVP(\"Noor\", 4, inviteOnly: false);\n",
    "RSVP(\"Jonte\", 2, \"Stone fruit\", false);\n",
    "\n",
    "ShowRSVPs();"
   ]
  },
  {
   "cell_type": "markdown",
   "metadata": {},
   "source": [
    "## <font color=mediumorchid> Métodos C# que retornem valores\n",
    "___\n",
    "</font>"
   ]
  },
  {
   "cell_type": "markdown",
   "metadata": {},
   "source": [
    "Os métodos podem fornecer valores retornados depois de executar suas tarefas. Usando parâmetros e tipos de retorno juntos, você pode criar métodos simplificados que recebem entrada, executam uma tarefa e fornecem saída."
   ]
  },
  {
   "cell_type": "markdown",
   "metadata": {},
   "source": [
    "Considere um jogo onde o jogador deve lutar contra inimigos. O jogo contém algum código que determina se um caractere foi atingido sempre que um método Update() é chamado. O código pode conter os seguintes métodos:\n",
    "\n",
    "\n",
    "```csharp\n",
    "    void Update();\n",
    "\n",
    "    int[] GetEnemyCoordinates(string enemyId);\n",
    "    int[] GetDistanceFromHero(string enemyId);\n",
    "    int[] GetHeroCoordinates();\n",
    "\n",
    "    bool EnemyCanHitHero(string enemyId);\n",
    "    int GetEnemyDamageOutput(string enemyId);\n",
    "    void UpdateHeroHP(int damage);\n",
    "\n",
    "```"
   ]
  },
  {
   "cell_type": "markdown",
   "metadata": {},
   "source": [
    "### <font color=hotpink> Entender a sintaxe do tipo de retorno </font>"
   ]
  },
  {
   "cell_type": "markdown",
   "metadata": {},
   "source": [
    "- Os métodos podem retornar um valor incluindo o tipo de retorno na assinatura do método. "
   ]
  },
  {
   "cell_type": "markdown",
   "metadata": {},
   "source": [
    "- Os métodos podem retornar um valor incluindo o tipo de retorno na assinatura do método. \n",
    "\n",
    "```csharp\n",
    "        void PrintMessage(string message)\n",
    "```"
   ]
  },
  {
   "cell_type": "markdown",
   "metadata": {},
   "source": [
    "- Quando o tipo de dados (como `int`, `string`, `bool` e etc.) é usado, o método executa operações e retorna o tipo especificado após a conclusão. \n",
    "-  Dentro do método, a palavra-chave `return` é usada para retornar o resultado. \n",
    "    - Nos métodos `void`, você também pode usar a palavra-chave `return` para encerrar o método."
   ]
  },
  {
   "cell_type": "markdown",
   "metadata": {},
   "source": [
    "\n",
    "\n",
    ">___\n",
    ">\n",
    "> <font color=orchid> ***Exemplo:*** Usar métodos para calcular o preço total de compra </font>\n",
    "> \n",
    ">>O Shopping Contoso está fazendo uma super promoção. Muitos itens estão com desconto. Você recebe uma lista de preços de itens e uma lista de descontos correspondentes. Os descontos são representados por percentuais, por exemplo, 50% = 0,5. Se um cliente gastar mais de US$ 30,00, ele receberá US$ 5,00 da compra total. Nesta tarefa, você escreverá o código para calcular o total do cliente.\n",
    ">>\n",
    ">___\n",
    "\n"
   ]
  },
  {
   "cell_type": "code",
   "execution_count": 48,
   "metadata": {
    "dotnet_interactive": {
     "language": "csharp"
    },
    "polyglot_notebook": {
     "kernelName": "csharp"
    },
    "vscode": {
     "languageId": "polyglot-notebook"
    }
   },
   "outputs": [
    {
     "name": "stdout",
     "output_type": "stream",
     "text": [
      "Total: $44,58\r\n"
     ]
    }
   ],
   "source": [
    "double total = 0;\n",
    "double minimumSpend = 30.00;\n",
    "\n",
    "double[] items = {15.97, 3.50, 12.25, 22.99, 10.98};\n",
    "double[] discounts = {0.30, 0.00, 0.10, 0.20, 0.50};\n",
    "\n",
    "for (int i = 0; i < items.Length; i++)\n",
    "{\n",
    "    total += GetDiscountedPrice(i);\n",
    "}\n",
    "\n",
    "total -= TotalMeetsMinimum() ? 5.00 : 0.00;\n",
    "\n",
    "Console.WriteLine($\"Total: ${FormatDecimal(total)}\");\n",
    "\n",
    "double GetDiscountedPrice(int itemIndex)\n",
    "{\n",
    "    return items[itemIndex] * (1 - discounts[itemIndex]);\n",
    "}\n",
    "\n",
    "bool TotalMeetsMinimum()\n",
    "{\n",
    "    return total >= minimumSpend;\n",
    "}\n",
    "\n",
    "string FormatDecimal(double input)\n",
    "{\n",
    "    return input.ToString().Substring(0, 5);\n",
    "}"
   ]
  },
  {
   "cell_type": "markdown",
   "metadata": {},
   "source": [
    "\n",
    "### <font color=hotpink> Retornar números de métodos </font>"
   ]
  },
  {
   "cell_type": "code",
   "execution_count": 52,
   "metadata": {
    "dotnet_interactive": {
     "language": "csharp"
    },
    "polyglot_notebook": {
     "kernelName": "csharp"
    },
    "vscode": {
     "languageId": "polyglot-notebook"
    }
   },
   "outputs": [
    {
     "name": "stdout",
     "output_type": "stream",
     "text": [
      "$23,73 USD = $557655 VND\n",
      "$557655 VND = $23,73 USD\n"
     ]
    }
   ],
   "source": [
    "double usd = 23.73;\n",
    "int vnd = UsdToVnd(usd);\n",
    "\n",
    "Console.WriteLine($\"${usd} USD = ${vnd} VND\");\n",
    "Console.WriteLine($\"${vnd} VND = ${VndToUsd(vnd)} USD\");\n",
    "\n",
    "int UsdToVnd(double usd) \n",
    "{\n",
    "    int rate = 23500;\n",
    "    return (int) (rate * usd);\n",
    "}\n",
    "\n",
    "double VndToUsd(int vnd) \n",
    "{\n",
    "    double rate = 23500;\n",
    "    return vnd / rate;\n",
    "}"
   ]
  },
  {
   "cell_type": "markdown",
   "metadata": {},
   "source": [
    "### <font color=hotpink> Retornar cadeias de caracteres de métodos </font>"
   ]
  },
  {
   "cell_type": "code",
   "execution_count": 55,
   "metadata": {
    "dotnet_interactive": {
     "language": "csharp"
    },
    "polyglot_notebook": {
     "kernelName": "csharp"
    },
    "vscode": {
     "languageId": "polyglot-notebook"
    }
   },
   "outputs": [
    {
     "name": "stdout",
     "output_type": "stream",
     "text": [
      "snake\n",
      "ekans\n"
     ]
    }
   ],
   "source": [
    "string ReverseWord(string word) \n",
    "{\n",
    "    string result = \"\";\n",
    "    for (int i = word.Length - 1; i >= 0; i--) \n",
    "    {\n",
    "        result += word[i];\n",
    "    }\n",
    "    return result;\n",
    "}\n",
    "\n",
    "string input = \"snake\";\n",
    "\n",
    "Console.WriteLine(input);\n",
    "Console.WriteLine(ReverseWord(input));"
   ]
  },
  {
   "cell_type": "code",
   "execution_count": 54,
   "metadata": {
    "dotnet_interactive": {
     "language": "csharp"
    },
    "polyglot_notebook": {
     "kernelName": "csharp"
    },
    "vscode": {
     "languageId": "polyglot-notebook"
    }
   },
   "outputs": [
    {
     "name": "stdout",
     "output_type": "stream",
     "text": [
      "there are snakes at the zoo\n",
      "ereht era sekans ta eht ooz\n"
     ]
    }
   ],
   "source": [
    "string input = \"there are snakes at the zoo\";\n",
    "\n",
    "Console.WriteLine(input);\n",
    "Console.WriteLine(ReverseSentence(input));\n",
    "\n",
    "string ReverseSentence(string input) \n",
    "{\n",
    "    string result = \"\";\n",
    "    string[] words = input.Split(\" \");\n",
    "    foreach(string word in words) \n",
    "    {\n",
    "        result += ReverseWord(word) + \" \";\n",
    "    }\n",
    "    return result.Trim();\n",
    "}\n",
    "\n",
    "string ReverseWord(string word) \n",
    "{\n",
    "    string result = \"\";\n",
    "    for (int i = word.Length - 1; i >= 0; i--) \n",
    "    {\n",
    "        result += word[i];\n",
    "    }\n",
    "    return result;\n",
    "}"
   ]
  },
  {
   "cell_type": "markdown",
   "metadata": {},
   "source": [
    "### <font color=hotpink> Retornar boolianos de métodos </font>"
   ]
  },
  {
   "cell_type": "code",
   "execution_count": 56,
   "metadata": {
    "dotnet_interactive": {
     "language": "csharp"
    },
    "polyglot_notebook": {
     "kernelName": "csharp"
    },
    "vscode": {
     "languageId": "polyglot-notebook"
    }
   },
   "outputs": [
    {
     "name": "stdout",
     "output_type": "stream",
     "text": [
      "Is it a palindrome?\n",
      "racecar: True\n",
      "talented: False\n",
      "deified: True\n",
      "tent: False\n",
      "tenet: True\n"
     ]
    }
   ],
   "source": [
    "string[] words = {\"racecar\" ,\"talented\", \"deified\", \"tent\", \"tenet\"};\n",
    "\n",
    "Console.WriteLine(\"Is it a palindrome?\");\n",
    "foreach (string word in words) \n",
    "{\n",
    "    Console.WriteLine($\"{word}: {IsPalindrome(word)}\");\n",
    "}\n",
    "\n",
    "bool IsPalindrome(string word) \n",
    "{\n",
    "    int start = 0;\n",
    "    int end = word.Length - 1;\n",
    "\n",
    "    while (start < end) \n",
    "    {\n",
    "        if (word[start] != word[end]) \n",
    "        {\n",
    "            return false;\n",
    "        }\n",
    "        start++;\n",
    "        end--;\n",
    "    }\n",
    "\n",
    "    return true;\n",
    "}"
   ]
  },
  {
   "cell_type": "markdown",
   "metadata": {},
   "source": [
    "### <font color=hotpink> Retornar matrizes de métodos </font>"
   ]
  },
  {
   "cell_type": "markdown",
   "metadata": {},
   "source": [
    ">___\n",
    ">\n",
    "> <font color=orchid> ***Exemplo:*** Localizar moedas para fazer alterações</font>\n",
    ">\n",
    ">> Suponha que você tenha várias moedas de valores diferentes. Você tem a tarefa de encontrar duas moedas cuja soma seja igual a um valor de troco. Neste exercício, as moedas disponíveis são representadas em uma matriz de inteiros. Você precisará retornar os índices das duas moedas em uma nova matriz. Caso não sejam encontradas duas moedas, seu método retorna uma matriz vazia.\n",
    ">> \n",
    ">> - Neste exercício, a seguinte abordagem será usada:\n",
    ">>      - Escolher um número da matriz\n",
    ">>      - Verificar outros números um de cada vez para ver se eles se somam ao valor de destino\n",
    ">>      - Retornar o resultado assim que uma correspondência for encontrada\n",
    ">\n",
    ">___"
   ]
  },
  {
   "cell_type": "markdown",
   "metadata": {},
   "source": [
    "- *Aqui, `atual` representa um índice de moeda fixo e `proximo` representa os índices de moeda subsequentes. Você tentará somar cada moeda `proximo` com a moeda `atual` fixa para ver se elas são iguais ao valor objetivo.*"
   ]
  },
  {
   "cell_type": "code",
   "execution_count": 64,
   "metadata": {
    "dotnet_interactive": {
     "language": "csharp"
    },
    "polyglot_notebook": {
     "kernelName": "csharp"
    },
    "vscode": {
     "languageId": "polyglot-notebook"
    }
   },
   "outputs": [],
   "source": [
    "int[] DuasMoedas(int[] moedas, int troco)\n",
    "{\n",
    "    for (int atual = 0; atual < moedas.Length; atual++)\n",
    "    {\n",
    "        for (int proximo = atual + 1; proximo < moedas.Length; proximo++)\n",
    "        {\n",
    "            \n",
    "        }\n",
    "    }\n",
    "\n",
    "    return new int[0];\n",
    "}"
   ]
  },
  {
   "cell_type": "code",
   "execution_count": 65,
   "metadata": {
    "dotnet_interactive": {
     "language": "csharp"
    },
    "polyglot_notebook": {
     "kernelName": "csharp"
    },
    "vscode": {
     "languageId": "polyglot-notebook"
    }
   },
   "outputs": [],
   "source": [
    "int[] DuasMoedas(int[] moedas, int troco)\n",
    "{\n",
    "    for (int atual = 0; atual < moedas.Length; atual++)\n",
    "    {\n",
    "        for (int proximo = atual + 1; proximo < moedas.Length; proximo++)\n",
    "        {\n",
    "            if (moedas[atual] + moedas[proximo] == troco)\n",
    "            {\n",
    "                return new int[] {atual, proximo};\n",
    "            }\n",
    "        }\n",
    "    }\n",
    "    \n",
    "    return new int[0];\n",
    "}"
   ]
  },
  {
   "cell_type": "markdown",
   "metadata": {},
   "source": [
    "- *Testando...*"
   ]
  },
  {
   "cell_type": "code",
   "execution_count": 67,
   "metadata": {
    "dotnet_interactive": {
     "language": "csharp"
    },
    "polyglot_notebook": {
     "kernelName": "csharp"
    },
    "vscode": {
     "languageId": "polyglot-notebook"
    }
   },
   "outputs": [
    {
     "name": "stdout",
     "output_type": "stream",
     "text": [
      "Troco encontrado nas posições 2 e 5\r\n"
     ]
    }
   ],
   "source": [
    "int[] DuasMoedas(int[] moedas, int troco)\n",
    "{\n",
    "    for (int atual = 0; atual < moedas.Length; atual++)\n",
    "    {\n",
    "        for (int proximo = atual + 1; proximo < moedas.Length; proximo++)\n",
    "        {\n",
    "            if (moedas[atual] + moedas[proximo] == troco)\n",
    "            {\n",
    "                return new int[] {atual, proximo};\n",
    "            }\n",
    "        }\n",
    "    }\n",
    "    \n",
    "    return new int[0];\n",
    "}\n",
    "\n",
    "\n",
    "int troco = 60;\n",
    "int[] moedas = new int[] { 5, 5, 50, 25, 25, 10, 5 };\n",
    "int[] resultado = DuasMoedas(moedas, troco);\n",
    "\n",
    "if (resultado.Length == 0)\n",
    "{\n",
    "    Console.WriteLine($\"Nenhuma combinação de duas moedas gera o troco {troco} centavos.\");\n",
    "}\n",
    "else\n",
    "{\n",
    "    Console.WriteLine($\"Troco encontrado nas posições {resultado[0]} e {resultado[1]}\");\n",
    "}"
   ]
  },
  {
   "cell_type": "markdown",
   "metadata": {},
   "source": [
    "- *Localizar vários pares de moedas que dão troco...*\n",
    "    - *Nesta etapa, você estenderá o métodoTwoCoins para encontrar mais pares de moedas cuja soma seja igual ao valor alvo. Para este exercício, você encontrará no máximo cinco pares. Isso significa que o tipo de retorno será uma matriz 2D em vez de uma matriz 1D, e você precisará modificar a maneira como seu código retorna os resultados.*"
   ]
  },
  {
   "cell_type": "markdown",
   "metadata": {},
   "source": [
    "1. *Altere o tipo de retorno na assinatura do método de int[] para int[,]*\n",
    "1. *Criar uma matriz int[,] para armazenar e retornar seus resultados e uma variável contadora para acompanhar o número de pares adicionados à matriz.*\n",
    "1. *Usar a matriz result para armazenar cada par encontrado em vez de retornar a primeira correspondência.*\n",
    "1. *atualizar a instrução de retorno final para retornar o resultado correto se nenhuma correspondência for encontrada ou se menos de cinco correspondências tiverem sido encontradas.*"
   ]
  },
  {
   "cell_type": "code",
   "execution_count": 69,
   "metadata": {
    "dotnet_interactive": {
     "language": "csharp"
    },
    "polyglot_notebook": {
     "kernelName": "csharp"
    },
    "vscode": {
     "languageId": "polyglot-notebook"
    }
   },
   "outputs": [],
   "source": [
    "int[,] DuasMoedas(int[] moedas, int troco)\n",
    "{\n",
    "    int[,] resultado = {{-1, -1}, {-1, -1}, {-1, -1}, {-1, -1},{-1, -1}};\n",
    "    int count = 0;\n",
    "\n",
    "    for (int atual = 0; atual < moedas.Length; atual++)\n",
    "    {\n",
    "        for (int proximo = atual + 1; proximo < moedas.Length; proximo++)\n",
    "        {\n",
    "            if (moedas[atual] + moedas[proximo] == troco)\n",
    "            {\n",
    "                resultado[count, 0] = atual;\n",
    "                resultado[count, 1] = proximo;\n",
    "                count++;\n",
    "            }\n",
    "\n",
    "            if (count == resultado.GetLength(0));\n",
    "            {\n",
    "                return resultado;\n",
    "            }\n",
    "        }\n",
    "    }\n",
    "    \n",
    "    if (count == 0)\n",
    "    {\n",
    "        return new int[0,0];\n",
    "    }\n",
    "}"
   ]
  }
 ],
 "metadata": {
  "language_info": {
   "name": "python"
  }
 },
 "nbformat": 4,
 "nbformat_minor": 2
}
