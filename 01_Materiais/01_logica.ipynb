{
 "cells": [
  {
   "cell_type": "markdown",
   "metadata": {},
   "source": [
    "# <font color=turquoise> Avaliar expressões boolianas para tomar decisões em C#\n",
    "___"
   ]
  },
  {
   "cell_type": "markdown",
   "metadata": {},
   "source": [
    "## <font color=mediumorchid> Avaliar uma expressão\n",
    "___\n",
    "</font>"
   ]
  },
  {
   "cell_type": "markdown",
   "metadata": {},
   "source": [
    "### <font color=hotpink>  O que é uma expressão? </font>\n",
    "Uma expressão é qualquer combinação de valores (literais ou variáveis), operadores e métodos que retornam um único valor. Uma instrução é considerada uma instrução completa no C#, e as instruções são compostas de uma ou mais expressões. Por exemplo, a seguinte ifinstrução contém uma única expressão que retorna um único valor: \n",
    "\n",
    "\n",
    "\n",
    "```csharp\n",
    "\n",
    "if (myName == \"Luiz\")\n",
    "```\n",
    "\n"
   ]
  },
  {
   "cell_type": "markdown",
   "metadata": {},
   "source": [
    "### <font color=hotpink> Utilizar o Operador de Igualdade</font>\n"
   ]
  },
  {
   "cell_type": "code",
   "execution_count": 1,
   "metadata": {
    "dotnet_interactive": {
     "language": "csharp"
    },
    "polyglot_notebook": {
     "kernelName": "csharp"
    },
    "vscode": {
     "languageId": "polyglot-notebook"
    }
   },
   "outputs": [
    {
     "name": "stdout",
     "output_type": "stream",
     "text": [
      "True\r\n"
     ]
    }
   ],
   "source": [
    "Console.WriteLine(\"a\" == \"a\");"
   ]
  },
  {
   "cell_type": "code",
   "execution_count": 2,
   "metadata": {
    "dotnet_interactive": {
     "language": "csharp"
    },
    "polyglot_notebook": {
     "kernelName": "csharp"
    },
    "vscode": {
     "languageId": "polyglot-notebook"
    }
   },
   "outputs": [
    {
     "name": "stdout",
     "output_type": "stream",
     "text": [
      "False\r\n"
     ]
    }
   ],
   "source": [
    "Console.WriteLine(\"a\" == \"A\");"
   ]
  },
  {
   "cell_type": "code",
   "execution_count": 3,
   "metadata": {
    "dotnet_interactive": {
     "language": "csharp"
    },
    "polyglot_notebook": {
     "kernelName": "csharp"
    },
    "vscode": {
     "languageId": "polyglot-notebook"
    }
   },
   "outputs": [
    {
     "name": "stdout",
     "output_type": "stream",
     "text": [
      "False\r\n"
     ]
    }
   ],
   "source": [
    "Console.WriteLine(1 == 2);"
   ]
  },
  {
   "cell_type": "code",
   "execution_count": 4,
   "metadata": {
    "dotnet_interactive": {
     "language": "csharp"
    },
    "polyglot_notebook": {
     "kernelName": "csharp"
    },
    "vscode": {
     "languageId": "polyglot-notebook"
    }
   },
   "outputs": [
    {
     "name": "stdout",
     "output_type": "stream",
     "text": [
      "True\r\n"
     ]
    }
   ],
   "source": [
    "string letra = \"a\";\n",
    "Console.WriteLine(letra == \"a\");"
   ]
  },
  {
   "cell_type": "markdown",
   "metadata": {},
   "source": [
    "### <font color=hotpink> Aprimorar a verificação de igualdade de cadeia de caracteres usando os métodos auxiliares internos da cadeia de caracteres</font>\n"
   ]
  },
  {
   "cell_type": "markdown",
   "metadata": {},
   "source": [
    "- Em alguns casos, ter um caractere de espaço antes ou depois do texto pode ser perfeitamente aceitável. No entanto, se precisar aceitar uma correspondência que é inexata, você poderá \"moldar\" os dados primeiro. \"Moldar\" os dados significa que você faça uma limpeza antes de executar uma comparação de igualdade.\n",
    "\n",
    "- Antes de marcar dois valores de cadeia de caracteres para igualdade, especialmente quando um ou ambos os valores foram inseridos por um usuário, você deve:\n",
    "\n",
    "    - Verificar se ambas as cadeias de caracteres são todas maiúsculas ou minúsculas usando o método auxiliar ToUpper() ou ToLower() em qualquer valor de cadeia de caracteres.\n",
    "    - Remover qualquer espaço em branco à esquerda ou à direita usando o método auxiliar Trim() em qualquer valor de cadeia de caracteres."
   ]
  },
  {
   "cell_type": "code",
   "execution_count": 6,
   "metadata": {
    "dotnet_interactive": {
     "language": "csharp"
    },
    "polyglot_notebook": {
     "kernelName": "csharp"
    },
    "vscode": {
     "languageId": "polyglot-notebook"
    }
   },
   "outputs": [
    {
     "name": "stdout",
     "output_type": "stream",
     "text": [
      "False\r\n"
     ]
    }
   ],
   "source": [
    "string letra1 = \"  a\";\n",
    "string letra2 = \"A  \";\n",
    "\n",
    "Console.WriteLine(letra1 == letra2);"
   ]
  },
  {
   "cell_type": "code",
   "execution_count": 8,
   "metadata": {
    "dotnet_interactive": {
     "language": "csharp"
    },
    "polyglot_notebook": {
     "kernelName": "csharp"
    },
    "vscode": {
     "languageId": "polyglot-notebook"
    }
   },
   "outputs": [
    {
     "name": "stdout",
     "output_type": "stream",
     "text": [
      "True\r\n"
     ]
    }
   ],
   "source": [
    "Console.WriteLine(letra1.Trim().ToLower() == letra2.Trim().ToLower());"
   ]
  },
  {
   "cell_type": "markdown",
   "metadata": {},
   "source": [
    "### <font color=hotpink> Utilizar o Operador de Desigualdade</font>\n"
   ]
  },
  {
   "cell_type": "code",
   "execution_count": 10,
   "metadata": {
    "dotnet_interactive": {
     "language": "csharp"
    },
    "polyglot_notebook": {
     "kernelName": "csharp"
    },
    "vscode": {
     "languageId": "polyglot-notebook"
    }
   },
   "outputs": [
    {
     "name": "stdout",
     "output_type": "stream",
     "text": [
      "False\r\n"
     ]
    }
   ],
   "source": [
    "Console.WriteLine(\"a\" != \"a\");\n"
   ]
  },
  {
   "cell_type": "code",
   "execution_count": 11,
   "metadata": {
    "dotnet_interactive": {
     "language": "csharp"
    },
    "polyglot_notebook": {
     "kernelName": "csharp"
    },
    "vscode": {
     "languageId": "polyglot-notebook"
    }
   },
   "outputs": [
    {
     "name": "stdout",
     "output_type": "stream",
     "text": [
      "True\r\n"
     ]
    }
   ],
   "source": [
    "Console.WriteLine(\"A\" != \"a\");\n"
   ]
  },
  {
   "cell_type": "code",
   "execution_count": 12,
   "metadata": {
    "dotnet_interactive": {
     "language": "csharp"
    },
    "polyglot_notebook": {
     "kernelName": "csharp"
    },
    "vscode": {
     "languageId": "polyglot-notebook"
    }
   },
   "outputs": [
    {
     "name": "stdout",
     "output_type": "stream",
     "text": [
      "True\r\n"
     ]
    }
   ],
   "source": [
    "Console.WriteLine(1 != 2);"
   ]
  },
  {
   "cell_type": "markdown",
   "metadata": {},
   "source": [
    "### <font color=hotpink> Avaliar comparações</font>\n"
   ]
  },
  {
   "cell_type": "markdown",
   "metadata": {},
   "source": [
    "Ao trabalhar com tipos de dados numéricos, utiliza-se:\n",
    " \n",
    "- Maior que `>`\n",
    "- Menor que `<`\n",
    "- Maior que ou igual a `>=`\n",
    "- Menor ou igual a `<=`\n",
    "\n",
    "Naturalmente, os operadores `==` e `!=`usados para comparar valores de cadeia de caracteres acima também funcionarão ao comparar tipos de dados numéricos."
   ]
  },
  {
   "cell_type": "code",
   "execution_count": 13,
   "metadata": {
    "dotnet_interactive": {
     "language": "csharp"
    },
    "polyglot_notebook": {
     "kernelName": "csharp"
    },
    "vscode": {
     "languageId": "polyglot-notebook"
    }
   },
   "outputs": [
    {
     "name": "stdout",
     "output_type": "stream",
     "text": [
      "False\r\n"
     ]
    }
   ],
   "source": [
    "Console.WriteLine(1 > 2);"
   ]
  },
  {
   "cell_type": "code",
   "execution_count": 14,
   "metadata": {
    "dotnet_interactive": {
     "language": "csharp"
    },
    "polyglot_notebook": {
     "kernelName": "csharp"
    },
    "vscode": {
     "languageId": "polyglot-notebook"
    }
   },
   "outputs": [
    {
     "name": "stdout",
     "output_type": "stream",
     "text": [
      "True\r\n"
     ]
    }
   ],
   "source": [
    "Console.WriteLine(1 < 2);"
   ]
  },
  {
   "cell_type": "code",
   "execution_count": 15,
   "metadata": {
    "dotnet_interactive": {
     "language": "csharp"
    },
    "polyglot_notebook": {
     "kernelName": "csharp"
    },
    "vscode": {
     "languageId": "polyglot-notebook"
    }
   },
   "outputs": [
    {
     "name": "stdout",
     "output_type": "stream",
     "text": [
      "False\r\n"
     ]
    }
   ],
   "source": [
    "Console.WriteLine(1 >= 2);"
   ]
  },
  {
   "cell_type": "code",
   "execution_count": 16,
   "metadata": {
    "dotnet_interactive": {
     "language": "csharp"
    },
    "polyglot_notebook": {
     "kernelName": "csharp"
    },
    "vscode": {
     "languageId": "polyglot-notebook"
    }
   },
   "outputs": [
    {
     "name": "stdout",
     "output_type": "stream",
     "text": [
      "True\r\n"
     ]
    }
   ],
   "source": [
    "Console.WriteLine(1 <= 2);"
   ]
  },
  {
   "cell_type": "markdown",
   "metadata": {},
   "source": [
    "### <font color=hotpink> Métodos que retornam um valor booliano</font>\n",
    "\n",
    "> ___\n",
    ">\n",
    "> Exemplo: Usar um método interno da classe String para determinar se uma cadeia de caracteres maior contém uma palavra ou frase específica\n",
    ">\n",
    "> ___\n"
   ]
  },
  {
   "cell_type": "markdown",
   "metadata": {},
   "source": [
    "- Método Contains:"
   ]
  },
  {
   "cell_type": "code",
   "execution_count": 17,
   "metadata": {
    "dotnet_interactive": {
     "language": "csharp"
    },
    "polyglot_notebook": {
     "kernelName": "csharp"
    },
    "vscode": {
     "languageId": "polyglot-notebook"
    }
   },
   "outputs": [
    {
     "name": "stdout",
     "output_type": "stream",
     "text": [
      "True\r\n"
     ]
    }
   ],
   "source": [
    "string pangrama = \"The quick brown fox jumps over the lazy dog\";\n",
    "Console.WriteLine(pangrama.Contains(\"fox\"));"
   ]
  },
  {
   "cell_type": "code",
   "execution_count": 18,
   "metadata": {
    "dotnet_interactive": {
     "language": "csharp"
    },
    "polyglot_notebook": {
     "kernelName": "csharp"
    },
    "vscode": {
     "languageId": "polyglot-notebook"
    }
   },
   "outputs": [
    {
     "name": "stdout",
     "output_type": "stream",
     "text": [
      "False\r\n"
     ]
    }
   ],
   "source": [
    "Console.WriteLine(pangrama.Contains(\"cow\"));"
   ]
  },
  {
   "cell_type": "markdown",
   "metadata": {},
   "source": [
    "### <font color=hotpink> Negação lógica</font>\n"
   ]
  },
  {
   "cell_type": "markdown",
   "metadata": {},
   "source": [
    "- O termo \"negação lógica\" refere-se ao operador de negação unário `!`.\n",
    "\n",
    "- Quando utiliza o operador `!` antes de uma expressão condicional (ou qualquer código avaliado como `true` ou `false`), ele força o código a reverter sua avaliação do operando. "
   ]
  },
  {
   "cell_type": "code",
   "execution_count": 20,
   "metadata": {
    "dotnet_interactive": {
     "language": "csharp"
    },
    "polyglot_notebook": {
     "kernelName": "csharp"
    },
    "vscode": {
     "languageId": "polyglot-notebook"
    }
   },
   "outputs": [
    {
     "name": "stdout",
     "output_type": "stream",
     "text": [
      "False\n",
      "True\n"
     ]
    }
   ],
   "source": [
    "string pangrama = \"The quick brown fox jumps over the lazy dog\";\n",
    "Console.WriteLine(!pangrama.Contains(\"fox\"));\n",
    "Console.WriteLine(!pangrama.Contains(\"cow\"));"
   ]
  },
  {
   "cell_type": "markdown",
   "metadata": {},
   "source": [
    "### <font color=hotpink> Operador de desigualdade versus negação lógica</font>\n"
   ]
  },
  {
   "cell_type": "markdown",
   "metadata": {},
   "source": [
    "O operador de desigualdade `!=` inclui um caractere `!`, mas não deve ser confundido com negação lógica. O operador de desigualdade retornará true se seus operandos não forem iguais e retornará false se os operandos forem iguais. Para os operandos dos tipos internos, a expressão `x != y` produz o mesmo resultado que a expressão `!(x == y)` (um exemplo de negação lógica)."
   ]
  },
  {
   "cell_type": "markdown",
   "metadata": {},
   "source": [
    "- Uso do operador `!=`:"
   ]
  },
  {
   "cell_type": "code",
   "execution_count": 23,
   "metadata": {
    "dotnet_interactive": {
     "language": "csharp"
    },
    "polyglot_notebook": {
     "kernelName": "csharp"
    },
    "vscode": {
     "languageId": "polyglot-notebook"
    }
   },
   "outputs": [
    {
     "name": "stdout",
     "output_type": "stream",
     "text": [
      "True\r\n"
     ]
    }
   ],
   "source": [
    "int a = 7;\n",
    "int b = 6;\n",
    "Console.WriteLine(a != b);"
   ]
  },
  {
   "cell_type": "code",
   "execution_count": 25,
   "metadata": {
    "dotnet_interactive": {
     "language": "csharp"
    },
    "polyglot_notebook": {
     "kernelName": "csharp"
    },
    "vscode": {
     "languageId": "polyglot-notebook"
    }
   },
   "outputs": [
    {
     "name": "stdout",
     "output_type": "stream",
     "text": [
      "False\r\n"
     ]
    }
   ],
   "source": [
    "string s1 = \"Hello\";\n",
    "string s2 = \"Hello\";\n",
    "Console.WriteLine(s1 != s2);"
   ]
  },
  {
   "cell_type": "markdown",
   "metadata": {},
   "source": [
    "## <font color=mediumorchid> Implementar o operador condicional\n",
    "___\n",
    "</font>"
   ]
  },
  {
   "cell_type": "markdown",
   "metadata": {},
   "source": [
    "### <font color=hotpink> O que é o operador condicional?</font>\n"
   ]
  },
  {
   "cell_type": "markdown",
   "metadata": {},
   "source": [
    "- O operador condicional `? :` avalia a expressão booliana e retorna um entre dois resultados possíveis, dependendo se a expressão booliana é avaliada como verdadeira ou falsa.\n",
    "- O operador condicional normalmente é chamado de ***operador condicional ternário***."
   ]
  },
  {
   "cell_type": "markdown",
   "metadata": {},
   "source": [
    "<font color=turquoise font-weight=bold> Sintaxe \n",
    "___\n",
    "```csharp\n",
    "<evaluate this condition> ? <if condition is true, return this value> : <if condition is false, return this value>\n",
    "```\n",
    "\n",
    "___\n",
    "</font>"
   ]
  },
  {
   "cell_type": "markdown",
   "metadata": {},
   "source": [
    "> ___\n",
    ">\n",
    "> Exercício:  aplicar o operador condicional ao cenário de desconto promocional.\n",
    "> \n",
    "> - Deve-se exibir uma mensagem para o cliente que mostra o percentual de desconto concedido. O valor do desconto será determinado analisando se o cliente gastou mais de US$ 1.000 na compra efetuada.\n",
    ">\n",
    ">___"
   ]
  },
  {
   "cell_type": "code",
   "execution_count": 26,
   "metadata": {
    "dotnet_interactive": {
     "language": "csharp"
    },
    "polyglot_notebook": {
     "kernelName": "csharp"
    },
    "vscode": {
     "languageId": "polyglot-notebook"
    }
   },
   "outputs": [
    {
     "name": "stdout",
     "output_type": "stream",
     "text": [
      "Desconto: R$ 100,00\r\n"
     ]
    }
   ],
   "source": [
    "double valorDaCompra = 1000.50;\n",
    "int desconto = valorDaCompra >= 1000 ? 100 : 30;\n",
    "\n",
    "Console.WriteLine($\"Desconto: {desconto:c}\");"
   ]
  },
  {
   "cell_type": "markdown",
   "metadata": {},
   "source": [
    "### <font color=hotpink> Usar o operador condicional embutido</font>\n"
   ]
  },
  {
   "cell_type": "markdown",
   "metadata": {},
   "source": [
    "- Compactar o código eliminando a variável temporária desconto\n",
    "    - Observe que é necessário encapsular toda a instrução do operador condicional entre parênteses. "
   ]
  },
  {
   "cell_type": "code",
   "execution_count": 33,
   "metadata": {
    "dotnet_interactive": {
     "language": "csharp"
    },
    "polyglot_notebook": {
     "kernelName": "csharp"
    },
    "vscode": {
     "languageId": "polyglot-notebook"
    }
   },
   "outputs": [
    {
     "name": "stdout",
     "output_type": "stream",
     "text": [
      "Desconto: R$ 100,00\r\n"
     ]
    }
   ],
   "source": [
    "double valorDaCompra = 1000.50;\n",
    "Console.WriteLine($\"Desconto: {(valorDaCompra >= 1000 ? 100 : 50):c}\");"
   ]
  },
  {
   "cell_type": "code",
   "execution_count": 34,
   "metadata": {
    "dotnet_interactive": {
     "language": "csharp"
    },
    "polyglot_notebook": {
     "kernelName": "csharp"
    },
    "vscode": {
     "languageId": "polyglot-notebook"
    }
   },
   "outputs": [
    {
     "name": "stdout",
     "output_type": "stream",
     "text": [
      "Desconto: R$ 50,00\r\n"
     ]
    }
   ],
   "source": [
    "valorDaCompra = 800.20;\n",
    "Console.WriteLine($\"Desconto: {(valorDaCompra >= 1000 ? 100 : 50):c}\");"
   ]
  },
  {
   "cell_type": "markdown",
   "metadata": {},
   "source": [
    "É importante lembrar dos seguintes fatos sobre o operador condicional:\n",
    "\n",
    "- Você pode usar o operador condicional para reduzir o tamanho do código, mas deve garantir que o código resultante seja fácil de ler.\n",
    "- Você pode usar o operador condicional quando precisar retornar um valor baseado em uma condição binária. Seu código retornará a primeira opção quando a condição for avaliada como true e retornará a segunda opção quando a condição for avaliada como false."
   ]
  },
  {
   "cell_type": "markdown",
   "metadata": {},
   "source": [
    "# <font color=turquoise> Controlar o escopo da variável e a lógica usando blocos de código em C#\n",
    "___"
   ]
  },
  {
   "cell_type": "markdown",
   "metadata": {},
   "source": [
    "## <font color=mediumorchid>  Blocos de código e escopo de variável\n",
    "___\n",
    "</font>"
   ]
  },
  {
   "cell_type": "markdown",
   "metadata": {},
   "source": [
    "Um bloco de código é uma ou mais instruções do C# que definem um caminho de execução. As instruções fora do bloco de código afetam quando, se e com que frequência o bloco é executado em tempo de execução. Os blocos de código normalmente são delimitados por chaves, `{}`."
   ]
  },
  {
   "cell_type": "markdown",
   "metadata": {},
   "source": [
    "### <font color=hotpink> Blocos de código afetam o escopo de uma declaração de variáveis</font>\n"
   ]
  },
  {
   "cell_type": "markdown",
   "metadata": {},
   "source": [
    "- Uma variável com escopo local só pode ser acessada dentro do bloco de código no qual ela está definida. "
   ]
  },
  {
   "cell_type": "markdown",
   "metadata": {},
   "source": [
    "### <font color=hotpink> Criar uma variável dentro de um bloco de código</font>\n"
   ]
  },
  {
   "cell_type": "markdown",
   "metadata": {},
   "source": [
    "- variável é inicializada dentro do bloco de código."
   ]
  },
  {
   "cell_type": "code",
   "execution_count": 1,
   "metadata": {
    "dotnet_interactive": {
     "language": "csharp"
    },
    "polyglot_notebook": {
     "kernelName": "csharp"
    },
    "vscode": {
     "languageId": "polyglot-notebook"
    }
   },
   "outputs": [
    {
     "name": "stdout",
     "output_type": "stream",
     "text": [
      "Dentro do bloco de código: 10\r\n"
     ]
    }
   ],
   "source": [
    "bool flag = true;\n",
    "\n",
    "if (flag)\n",
    "{\n",
    "    int valor = 10;\n",
    "    Console.WriteLine($\"Dentro do bloco de código: {valor}\");\n",
    "}"
   ]
  },
  {
   "cell_type": "markdown",
   "metadata": {},
   "source": [
    "### <font color=hotpink> Tentar acessar a variável fora do bloco de código em que ela foi definida</font>\n"
   ]
  },
  {
   "cell_type": "markdown",
   "metadata": {},
   "source": [
    "- Um erro é lançado"
   ]
  },
  {
   "cell_type": "code",
   "execution_count": 2,
   "metadata": {
    "dotnet_interactive": {
     "language": "csharp"
    },
    "polyglot_notebook": {
     "kernelName": "csharp"
    },
    "vscode": {
     "languageId": "polyglot-notebook"
    }
   },
   "outputs": [
    {
     "ename": "Error",
     "evalue": "(9,49): error CS0103: O nome \"valor\" não existe no contexto atual",
     "output_type": "error",
     "traceback": [
      "(9,49): error CS0103: O nome \"valor\" não existe no contexto atual"
     ]
    }
   ],
   "source": [
    "bool flag = true;\n",
    "\n",
    "if (flag)\n",
    "{\n",
    "    int valor = 10;\n",
    "    Console.WriteLine($\"Dentro do bloco de código: {valor}\");\n",
    "}\n",
    "\n",
    "Console.WriteLine($\"Fora do bloco de código: {valor}\");"
   ]
  },
  {
   "cell_type": "markdown",
   "metadata": {},
   "source": [
    "### <font color=hotpink> Mover a variável para fora</font>"
   ]
  },
  {
   "cell_type": "markdown",
   "metadata": {},
   "source": [
    "- declaração de variável para fora do bloco de código da instrução if para que todo o código tenha visibilidade para essa variável.\n",
    "    - value agora é declarada (mas não instanciada) fora do bloco de código if."
   ]
  },
  {
   "cell_type": "code",
   "execution_count": 4,
   "metadata": {
    "dotnet_interactive": {
     "language": "csharp"
    },
    "polyglot_notebook": {
     "kernelName": "csharp"
    },
    "vscode": {
     "languageId": "polyglot-notebook"
    }
   },
   "outputs": [
    {
     "name": "stdout",
     "output_type": "stream",
     "text": [
      "Dentro do bloco de código: 10\n",
      "Fora do bloco de código: 10\n"
     ]
    }
   ],
   "source": [
    "bool flag =  true;\n",
    "int valor;\n",
    "\n",
    "if (flag)\n",
    "{\n",
    "    valor = 10;\n",
    "    Console.WriteLine($\"Dentro do bloco de código: {valor}\");\n",
    "}\n",
    "\n",
    "Console.WriteLine($\"Fora do bloco de código: {valor}\");\n"
   ]
  },
  {
   "cell_type": "markdown",
   "metadata": {},
   "source": [
    "- ainda recebe um erro de compilação:\n",
    "\n",
    "```\n",
    "error CS0165: Use of unassigned local variable 'value'\n",
    "```"
   ]
  },
  {
   "cell_type": "markdown",
   "metadata": {},
   "source": [
    "Se a linha de código value = 10; estivesse fora (acima) do bloco de código da instrução if, o compilador compilaria seu aplicativo e tudo funcionaria corretamente. No entanto, como essa linha de código está dentro do bloco de código da instrução if, existe a possibilidade de que a variável nunca receba um valor."
   ]
  },
  {
   "cell_type": "markdown",
   "metadata": {},
   "source": [
    "### <font color=hotpink> Inicializar a variável com um valor</font>\n"
   ]
  },
  {
   "cell_type": "code",
   "execution_count": 6,
   "metadata": {
    "dotnet_interactive": {
     "language": "csharp"
    },
    "polyglot_notebook": {
     "kernelName": "csharp"
    },
    "vscode": {
     "languageId": "polyglot-notebook"
    }
   },
   "outputs": [
    {
     "name": "stdout",
     "output_type": "stream",
     "text": [
      "Dentro do bloco de código: 10\n",
      "Fora do bloco de código: 10\n"
     ]
    }
   ],
   "source": [
    "bool flag =  true;\n",
    "int valor = 0;\n",
    "\n",
    "if (flag)\n",
    "{\n",
    "    valor = 10;\n",
    "    Console.WriteLine($\"Dentro do bloco de código: {valor}\");\n",
    "}\n",
    "\n",
    "Console.WriteLine($\"Fora do bloco de código: {valor}\");"
   ]
  },
  {
   "cell_type": "code",
   "execution_count": 7,
   "metadata": {
    "dotnet_interactive": {
     "language": "csharp"
    },
    "polyglot_notebook": {
     "kernelName": "csharp"
    },
    "vscode": {
     "languageId": "polyglot-notebook"
    }
   },
   "outputs": [
    {
     "name": "stdout",
     "output_type": "stream",
     "text": [
      "Fora do bloco de código: 0\r\n"
     ]
    }
   ],
   "source": [
    "bool flag =  true;\n",
    "int valor = 0;\n",
    "\n",
    "if (!flag)\n",
    "{\n",
    "    valor = 10;\n",
    "    Console.WriteLine($\"Dentro do bloco de código: {valor}\");\n",
    "}\n",
    "\n",
    "Console.WriteLine($\"Fora do bloco de código: {valor}\");"
   ]
  },
  {
   "cell_type": "markdown",
   "metadata": {},
   "source": [
    "- Quando você define uma variável dentro de um bloco de código, a visibilidade dela é local para esse bloco de código e inacessível fora desse bloco de código.\n",
    "- Para tornar uma variável visível dentro e fora de um bloco de código, você deve definir a variável fora do bloco de código.\n",
    "- Não se esqueça de inicializar qualquer variável cujo valor seja definido em um bloco de código, assim como uma instrução `if`."
   ]
  },
  {
   "cell_type": "markdown",
   "metadata": {},
   "source": [
    "## <font color=mediumorchid> Remover blocos de código de instruções if\n",
    "___\n",
    "</font>"
   ]
  },
  {
   "cell_type": "markdown",
   "metadata": {},
   "source": [
    "Se o bloco de código precisar de apenas uma linha, é provável que você não precise definir um bloco formal usando chaves. Embora, tecnicamente, não seja necessário separar o código em várias linhas, agrupar várias instruções em uma só linha pode dificultar a leitura do código."
   ]
  },
  {
   "cell_type": "markdown",
   "metadata": {},
   "source": [
    "### <font color=hotpink> Criar um exemplo de instrução if que usa um bloco de código</font>\n"
   ]
  },
  {
   "cell_type": "code",
   "execution_count": 9,
   "metadata": {
    "dotnet_interactive": {
     "language": "csharp"
    },
    "polyglot_notebook": {
     "kernelName": "csharp"
    },
    "vscode": {
     "languageId": "polyglot-notebook"
    }
   },
   "outputs": [
    {
     "name": "stdout",
     "output_type": "stream",
     "text": [
      "True\r\n"
     ]
    }
   ],
   "source": [
    "bool flag = true;\n",
    "\n",
    "if (flag)\n",
    "    Console.WriteLine(flag);"
   ]
  },
  {
   "cell_type": "markdown",
   "metadata": {},
   "source": [
    "### <font color=hotpink> Examinar a legibilidade de instruções if com apenas uma linha</font>"
   ]
  },
  {
   "cell_type": "markdown",
   "metadata": {},
   "source": [
    "- Como a instrução if e a chamada de método para Console.WriteLine() são curtas, você pode se sentir impelido a agrupá-las na mesma linha. Afinal, a sintaxe do C# para a instrução if permite agrupar instruções dessa maneira."
   ]
  },
  {
   "cell_type": "code",
   "execution_count": 10,
   "metadata": {
    "dotnet_interactive": {
     "language": "csharp"
    },
    "polyglot_notebook": {
     "kernelName": "csharp"
    },
    "vscode": {
     "languageId": "polyglot-notebook"
    }
   },
   "outputs": [
    {
     "name": "stdout",
     "output_type": "stream",
     "text": [
      "True\r\n"
     ]
    }
   ],
   "source": [
    "bool flag = true;\n",
    "\n",
    "if (flag) Console.WriteLine(flag);"
   ]
  },
  {
   "cell_type": "markdown",
   "metadata": {},
   "source": [
    "Ao implementar uma instrução if que inclui um bloco de código de instrução única, a Microsoft recomenda que considere estas convenções:\n",
    "\n",
    "- Nunca use a forma de linha única (por exemplo: if (sinalizador) Console.WriteLine(sinalizador);\n",
    "- O uso de chaves é sempre aceito e necessário se um bloco de uma instrução composta if/else if/.../else usar chaves ou se um corpo de instrução única abranger várias linhas.\n",
    "- As chaves só poderão ser omitidas se o corpo de cada bloco associado a uma instrução composta if/else if/.../else for escrito em apenas uma linha."
   ]
  },
  {
   "cell_type": "markdown",
   "metadata": {},
   "source": [
    ">___\n",
    ">\n",
    "> Exemplo: examinar o impacto sobre a legibilidade no caso de constructos if-elseif-else maiores\n",
    ">\n",
    ">___"
   ]
  },
  {
   "cell_type": "code",
   "execution_count": 11,
   "metadata": {
    "dotnet_interactive": {
     "language": "csharp"
    },
    "polyglot_notebook": {
     "kernelName": "csharp"
    },
    "vscode": {
     "languageId": "polyglot-notebook"
    }
   },
   "outputs": [
    {
     "name": "stdout",
     "output_type": "stream",
     "text": [
      "Encontrei o Steve\r\n"
     ]
    }
   ],
   "source": [
    "string nome = \"Steve\";\n",
    "\n",
    "if (nome == \"Bob\") Console.WriteLine(\"Encontrei o Bob\");\n",
    "else if (nome == \"Steve\") Console.WriteLine(\"Encontrei o Steve\");\n",
    "else Console.WriteLine(\"Encontrei o Chuck\");"
   ]
  },
  {
   "cell_type": "markdown",
   "metadata": {},
   "source": [
    "# <font color=turquoise> Ramificar o fluxo de código usando o constructo de mudança de casos em C#\n",
    "___"
   ]
  },
  {
   "cell_type": "markdown",
   "metadata": {},
   "source": [
    "## <font color=mediumorchid>  Implementar uma instrução switch\n",
    "___"
   ]
  },
  {
   "cell_type": "markdown",
   "metadata": {},
   "source": [
    "Uma instrução switch é uma instrução de seleção C# que fornece uma alternativa a um constructo de ramificação if-elseif-else. A instrução switch fornece vantagens sobre um constructo if-elseif-else ao avaliar um único valor em relação a uma lista de valores correspondentes conhecidos."
   ]
  },
  {
   "cell_type": "markdown",
   "metadata": {},
   "source": [
    "### <font color=hotpink> Como funciona uma instrução switch?\n"
   ]
  },
  {
   "cell_type": "markdown",
   "metadata": {},
   "source": [
    "- A instrução `switch` escolhe uma seção de código a ser executada em uma lista de seções de comutador possíveis. \n",
    "- A seção de comutador selecionada é escolhida com base em uma correspondência de padrão com a expressão de correspondência da instrução."
   ]
  },
  {
   "cell_type": "markdown",
   "metadata": {},
   "source": [
    "<font color=turquoise>\n",
    "Estrutura básica\n",
    "\n",
    "___\n",
    "\n",
    "\n",
    "```csharp\n",
    "switch (fruit)\n",
    "{\n",
    "    case \"apple\":\n",
    "        Console.WriteLine($\"App will display information for apple.\");\n",
    "        break;\n",
    "\n",
    "    case \"banana\":\n",
    "        Console.WriteLine($\"App will display information for banana.\");\n",
    "        break;\n",
    "\n",
    "    case \"cherry\":\n",
    "        Console.WriteLine($\"App will display information for cherry.\");\n",
    "        break;\n",
    "}\n",
    "```\n",
    "\n",
    "___\n",
    "</font>"
   ]
  },
  {
   "cell_type": "markdown",
   "metadata": {},
   "source": [
    "- Uma instrução switch deve incluir pelo menos uma seção de comutador, mas normalmente conterá três ou mais seções de comutador.\n",
    "\n",
    "- A opção é mais bem usada quando:\n",
    "    - Você tem um valor único (variável ou expressão) que deseja corresponder a muitos valores possíveis.\n",
    "    - Para uma determinada correspondência, você precisa executar no máximo algumas linhas de código."
   ]
  },
  {
   "cell_type": "markdown",
   "metadata": {},
   "source": [
    "### <font color=hotpink> Criar e testar uma instrução switch"
   ]
  },
  {
   "cell_type": "code",
   "execution_count": 4,
   "metadata": {
    "dotnet_interactive": {
     "language": "csharp"
    },
    "polyglot_notebook": {
     "kernelName": "csharp"
    },
    "vscode": {
     "languageId": "polyglot-notebook"
    }
   },
   "outputs": [
    {
     "name": "stdout",
     "output_type": "stream",
     "text": [
      "Jhon Smith, Associado Sênior\r\n"
     ]
    }
   ],
   "source": [
    "int nivelFuncionario = 200;\n",
    "string nomeFuncionario = \"Jhon Smith\";\n",
    "string titulo = \"\";\n",
    "\n",
    "switch (nivelFuncionario)\n",
    "{\n",
    "    case 100:\n",
    "        titulo = \"Associado Júnior\";\n",
    "        break;\n",
    "    case 200:\n",
    "        titulo = \"Associado Sênior\";\n",
    "        break;\n",
    "    case 300:\n",
    "        titulo = \"Gerente\";\n",
    "        break;\n",
    "    case 400:\n",
    "        titulo = \"Gerente Sênior\";\n",
    "        break;\n",
    "    default:\n",
    "        titulo = \"Associado\";\n",
    "        break;\n",
    "}\n",
    "\n",
    "Console.WriteLine($\"{nomeFuncionario}, {titulo}\");"
   ]
  },
  {
   "cell_type": "markdown",
   "metadata": {},
   "source": [
    "### <font color=hotpink> Alterar o valor da variável de nível para ver como a instrução switch a avalia"
   ]
  },
  {
   "cell_type": "code",
   "execution_count": 5,
   "metadata": {
    "dotnet_interactive": {
     "language": "csharp"
    },
    "polyglot_notebook": {
     "kernelName": "csharp"
    },
    "vscode": {
     "languageId": "polyglot-notebook"
    }
   },
   "outputs": [
    {
     "name": "stdout",
     "output_type": "stream",
     "text": [
      "Jhon Smith, Associado\r\n"
     ]
    }
   ],
   "source": [
    "int nivelFuncionario = 205;\n",
    "string nomeFuncionario = \"Jhon Smith\";\n",
    "string titulo = \"\";\n",
    "\n",
    "switch (nivelFuncionario)\n",
    "{\n",
    "    case 100:\n",
    "        titulo = \"Associado Júnior\";\n",
    "        break;\n",
    "    case 200:\n",
    "        titulo = \"Associado Sênior\";\n",
    "        break;\n",
    "    case 300:\n",
    "        titulo = \"Gerente\";\n",
    "        break;\n",
    "    case 400:\n",
    "        titulo = \"Gerente Sênior\";\n",
    "        break;\n",
    "    default:\n",
    "        titulo = \"Associado\";\n",
    "        break;\n",
    "}\n",
    "\n",
    "Console.WriteLine($\"{nomeFuncionario}, {titulo}\");"
   ]
  },
  {
   "cell_type": "markdown",
   "metadata": {},
   "source": [
    "### <font color=hotpink> Modificar uma seção switch para incluir vários rótulos"
   ]
  },
  {
   "cell_type": "markdown",
   "metadata": {},
   "source": [
    ">___\n",
    ">\n",
    "> Suponha que nossa empresa decidiu dar a todos os funcionários de nível 100 o cargo `“Associado Sênior”`, o mesmo cargo que o dos funcionários de nível 200. Como o desenvolvedor, você decide implementar isso removendo a primeira seção de opção que pertence ao rótulo `case 100:` e, em vez disso, permitir que os rótulos `case 100:` e `case 200:` executem a mesma seção switch.\n",
    ">\n",
    ">___"
   ]
  },
  {
   "cell_type": "code",
   "execution_count": 6,
   "metadata": {
    "dotnet_interactive": {
     "language": "csharp"
    },
    "polyglot_notebook": {
     "kernelName": "csharp"
    },
    "vscode": {
     "languageId": "polyglot-notebook"
    }
   },
   "outputs": [
    {
     "name": "stdout",
     "output_type": "stream",
     "text": [
      "Jhon Smith, Associado Sênior\r\n"
     ]
    }
   ],
   "source": [
    "int nivelFuncionario = 100;\n",
    "string nomeFuncionario = \"Jhon Smith\";\n",
    "string titulo = \"\";\n",
    "\n",
    "switch (nivelFuncionario)\n",
    "{\n",
    "    case 100:\n",
    "    case 200:\n",
    "        titulo = \"Associado Sênior\";\n",
    "        break;\n",
    "    case 300:\n",
    "        titulo = \"Gerente\";\n",
    "        break;\n",
    "    case 400:\n",
    "        titulo = \"Gerente Sênior\";\n",
    "        break;\n",
    "    default:\n",
    "        titulo = \"Associado\";\n",
    "        break;\n",
    "}\n",
    "\n",
    "Console.WriteLine($\"{nomeFuncionario}, {titulo}\");"
   ]
  },
  {
   "cell_type": "markdown",
   "metadata": {},
   "source": [
    "# <font color=turquoise>\n",
    "___\n",
    "\n",
    "\n",
    "Iterar por meio de um bloco de código usando a instrução for em C#"
   ]
  },
  {
   "cell_type": "markdown",
   "metadata": {},
   "source": [
    "# <font color=turquoise> Iterar por meio de um bloco de código usando a instrução for em C#\n",
    "___"
   ]
  },
  {
   "cell_type": "markdown",
   "metadata": {},
   "source": [
    "## <font color=mediumorchid> Criar e configurar loops de iteração\n",
    "___\n",
    "</font>"
   ]
  },
  {
   "cell_type": "markdown",
   "metadata": {},
   "source": [
    "### <font color=hotpink> Qual é a instrução for?"
   ]
  },
  {
   "cell_type": "markdown",
   "metadata": {},
   "source": [
    "- A instrução for itera por meio de um bloco de código um número específico de vezes. \n",
    "- A instrução for deve ser usada quando você sabe o número de vezes que precisa iterar por meio de um bloco de código antes do tempo.\n",
    "- A instrução for permite que você controle a maneira como cada iteração é manipulada."
   ]
  },
  {
   "cell_type": "markdown",
   "metadata": {},
   "source": [
    "### <font color=hotpink> Escrever uma instrução for básica\n"
   ]
  },
  {
   "cell_type": "code",
   "execution_count": 2,
   "metadata": {
    "dotnet_interactive": {
     "language": "csharp"
    },
    "polyglot_notebook": {
     "kernelName": "csharp"
    },
    "vscode": {
     "languageId": "polyglot-notebook"
    }
   },
   "outputs": [
    {
     "name": "stdout",
     "output_type": "stream",
     "text": [
      "0 1 2 3 4 5 6 7 8 9 10 "
     ]
    }
   ],
   "source": [
    "for (int i = 0; i < 11; i++)\n",
    "    Console.Write($\"{i} \");"
   ]
  },
  {
   "cell_type": "markdown",
   "metadata": {},
   "source": [
    "### <font color=hotpink> Alterar as condições da iteração"
   ]
  },
  {
   "cell_type": "markdown",
   "metadata": {},
   "source": [
    "- Decrementando o contador:"
   ]
  },
  {
   "cell_type": "code",
   "execution_count": 6,
   "metadata": {
    "dotnet_interactive": {
     "language": "csharp"
    },
    "polyglot_notebook": {
     "kernelName": "csharp"
    },
    "vscode": {
     "languageId": "polyglot-notebook"
    }
   },
   "outputs": [
    {
     "name": "stdout",
     "output_type": "stream",
     "text": [
      "10  ->  9  ->  8  ->  7  ->  6  ->  5  ->  4  ->  3  ->  2  ->  1  ->  0"
     ]
    }
   ],
   "source": [
    "for (int i = 10; i >= 0; i--)\n",
    "{\n",
    "    Console.Write(i);\n",
    "\n",
    "    if (i != 0)\n",
    "        Console.Write(\"  ->  \");\n",
    "}"
   ]
  },
  {
   "cell_type": "markdown",
   "metadata": {},
   "source": [
    "### <font color=hotpink> Testes com o padrão do iterador"
   ]
  },
  {
   "cell_type": "markdown",
   "metadata": {},
   "source": [
    "- Ignorar determinados valores na variável do iterador:"
   ]
  },
  {
   "cell_type": "code",
   "execution_count": 8,
   "metadata": {
    "dotnet_interactive": {
     "language": "csharp"
    },
    "polyglot_notebook": {
     "kernelName": "csharp"
    },
    "vscode": {
     "languageId": "polyglot-notebook"
    }
   },
   "outputs": [
    {
     "name": "stdout",
     "output_type": "stream",
     "text": [
      "0  ->  3  ->  6  ->  9  ->  12  ->  15  ->  18  ->  21  ->  24  ->  27  ->  30"
     ]
    }
   ],
   "source": [
    "for ( int i = 0; i < 31; i += 3 )\n",
    "{\n",
    "    Console.Write(i);\n",
    "\n",
    "    if (i != 30)\n",
    "        Console.Write(\"  ->  \");\n",
    "}"
   ]
  },
  {
   "cell_type": "markdown",
   "metadata": {},
   "source": [
    "### <font color=hotpink> Usar a palavra-chave break para interromper a instrução de iteração"
   ]
  },
  {
   "cell_type": "markdown",
   "metadata": {},
   "source": [
    "- Sair da instrução de iteração prematuramente com base em alguma condição:"
   ]
  },
  {
   "cell_type": "code",
   "execution_count": 11,
   "metadata": {
    "dotnet_interactive": {
     "language": "csharp"
    },
    "polyglot_notebook": {
     "kernelName": "csharp"
    },
    "vscode": {
     "languageId": "polyglot-notebook"
    }
   },
   "outputs": [
    {
     "name": "stdout",
     "output_type": "stream",
     "text": [
      "0  -  1  -  2  -  3  -  4  -  5  -  6  -  7  Interrompido..."
     ]
    }
   ],
   "source": [
    "for ( int i = 0; i < 11; i++)\n",
    "{\n",
    "    Console.Write(i);\n",
    "    if (i != 10)\n",
    "    {\n",
    "        if (i == 7)\n",
    "        {\n",
    "            Console.Write(\"  Interrompido...\");\n",
    "            break;\n",
    "        }\n",
    "        else\n",
    "        {\n",
    "            Console.Write(\"  -  \");\n",
    "        }\n",
    "    }\n",
    "\n",
    "}"
   ]
  },
  {
   "cell_type": "code",
   "execution_count": 14,
   "metadata": {
    "dotnet_interactive": {
     "language": "csharp"
    },
    "polyglot_notebook": {
     "kernelName": "csharp"
    },
    "vscode": {
     "languageId": "polyglot-notebook"
    }
   },
   "outputs": [
    {
     "name": "stdout",
     "output_type": "stream",
     "text": [
      "0 1 2 3 4 5 6 7 "
     ]
    }
   ],
   "source": [
    "for (int i = 0; i < 10; i++)\n",
    "{\n",
    "    Console.Write(i + \" \");\n",
    "    if (i == 7) break;\n",
    "}"
   ]
  },
  {
   "cell_type": "markdown",
   "metadata": {},
   "source": [
    "### <font color=hotpink> Percorrer cada elemento de uma matriz"
   ]
  },
  {
   "cell_type": "markdown",
   "metadata": {},
   "source": [
    "- Embora o foreach itere por meio de cada elemento da matriz, a instrução for pode ser ajustada para fornecer mais personalização."
   ]
  },
  {
   "cell_type": "code",
   "execution_count": 19,
   "metadata": {
    "dotnet_interactive": {
     "language": "csharp"
    },
    "polyglot_notebook": {
     "kernelName": "csharp"
    },
    "vscode": {
     "languageId": "polyglot-notebook"
    }
   },
   "outputs": [
    {
     "name": "stdout",
     "output_type": "stream",
     "text": [
      "\n",
      "Ordem de Impressão com o Foreach ->\t\tAlex  Eddie  David  Michael  \n",
      "Impressão invertida com o For ->  \t\tMichael  David  Eddie  Alex  "
     ]
    }
   ],
   "source": [
    "string[] nomes = { \"Alex\", \"Eddie\", \"David\", \"Michael\" };\n",
    "\n",
    "Console.Write(\"\\nOrdem de Impressão com o Foreach ->\\t\\t\");\n",
    "\n",
    "foreach ( string nome in nomes)\n",
    "    Console.Write(nome + \"  \");\n",
    "\n",
    "Console.Write(\"\\nImpressão invertida com o For ->  \\t\\t\");\n",
    "for (int i = nomes.Length - 1; i >= 0; i--)\n",
    "    Console.Write(nomes[i] + \"  \");"
   ]
  },
  {
   "cell_type": "markdown",
   "metadata": {},
   "source": [
    "### <font color=hotpink> Examinar as limitações da instrução foreach"
   ]
  },
  {
   "cell_type": "markdown",
   "metadata": {},
   "source": [
    "- Não é possível atualizar um valor do array"
   ]
  },
  {
   "cell_type": "code",
   "execution_count": 20,
   "metadata": {
    "dotnet_interactive": {
     "language": "csharp"
    },
    "polyglot_notebook": {
     "kernelName": "csharp"
    },
    "vscode": {
     "languageId": "polyglot-notebook"
    }
   },
   "outputs": [
    {
     "ename": "Error",
     "evalue": "(6,26): error CS1656: Não é possível atribuir a \"nome\" porque ele é um \"variável de iteração foreach\"",
     "output_type": "error",
     "traceback": [
      "(6,26): error CS1656: Não é possível atribuir a \"nome\" porque ele é um \"variável de iteração foreach\""
     ]
    }
   ],
   "source": [
    "string[] nomes = { \"Alex\", \"Eddie\", \"David\", \"Michael\" };\n",
    "\n",
    "foreach (var nome in nomes)\n",
    "{\n",
    "    // Can't do this:\n",
    "    if (nome == \"David\") nome = \"Sammy\";\n",
    "}"
   ]
  },
  {
   "cell_type": "markdown",
   "metadata": {},
   "source": [
    "### <font color=hotpink> superar a limitação da instrução foreach usando a instrução for"
   ]
  },
  {
   "cell_type": "code",
   "execution_count": 22,
   "metadata": {
    "dotnet_interactive": {
     "language": "csharp"
    },
    "polyglot_notebook": {
     "kernelName": "csharp"
    },
    "vscode": {
     "languageId": "polyglot-notebook"
    }
   },
   "outputs": [
    {
     "name": "stdout",
     "output_type": "stream",
     "text": [
      "\n",
      "Antes de Alterar ->\t\tAlex\tEddie\tDavid\tMichael\t\n",
      "Depois de Alterar ->\t\tAlex\tEddie\tSammy\tMichael\t"
     ]
    }
   ],
   "source": [
    "string[] nomes = { \"Alex\", \"Eddie\", \"David\", \"Michael\" };\n",
    "\n",
    "Console.Write(\"\\nAntes de Alterar ->\\t\\t\");\n",
    "foreach (var nome in nomes) Console.Write(nome + \"\\t\");\n",
    "\n",
    "for ( int i = 0; i < nomes.Length; i++)\n",
    "{\n",
    "    if ( nomes[i] == \"David\")\n",
    "        nomes[i] = \"Sammy\";\n",
    "}\n",
    "\n",
    "Console.Write(\"\\nDepois de Alterar ->\\t\\t\");\n",
    "foreach (var nome in nomes) Console.Write(nome + \"\\t\");"
   ]
  },
  {
   "cell_type": "markdown",
   "metadata": {},
   "source": [
    "# <font color=turquoise> Adicionar lógica de loop usando as instruções \"do-while\" e \"while\" em C#\n",
    "___\n"
   ]
  },
  {
   "cell_type": "markdown",
   "metadata": {},
   "source": [
    "- As instruções `do-while` e `while` permitem controlar o fluxo de execução de código fazendo um loop por meio de um bloco de código até que uma condição seja atendida. \n",
    "- As instruções `do-while` e `while` permitem iterar por meio de um bloco de código com a intenção que a lógica dentro do bloco de código afetará quando for possível parar a iteração."
   ]
  },
  {
   "cell_type": "markdown",
   "metadata": {},
   "source": [
    "## <font color=mediumorchid> Criar loops de iteração do e while\n",
    "___\n",
    "</font>"
   ]
  },
  {
   "cell_type": "markdown",
   "metadata": {},
   "source": [
    "### <font color=hotpink>  O que é a instrução do-while?</font>\n"
   ]
  },
  {
   "cell_type": "markdown",
   "metadata": {},
   "source": [
    "- A instrução do-while executa uma instrução ou um bloco de instruções, enquanto uma expressão booliana avalia para true. Já que a expressão é avaliada após cada execução do loop, um loop do-while O código é executado pelo menos uma vez ou mais vezes."
   ]
  },
  {
   "cell_type": "markdown",
   "metadata": {},
   "source": [
    "<font color=turquoise>\n",
    "\n",
    "Sintaxe \n",
    "___\n",
    "\n",
    "\n",
    "\n",
    "```csharp\n",
    "do\n",
    "{\n",
    "    // This code executes at least one time\n",
    "} while (true);\n",
    "```\n",
    "\n",
    "___\n",
    "</font>"
   ]
  },
  {
   "cell_type": "markdown",
   "metadata": {},
   "source": [
    "- Ao embutir diretamente no código a expressão booliana como true, cria-se um loop infinito e é necessário uma maneira de interromper o loop dentro do bloco de código. "
   ]
  },
  {
   "cell_type": "markdown",
   "metadata": {},
   "source": [
    "### <font color=hotpink> Escrever uma instrução do-while que seja interrompida quando determinado número aleatório for gerado</font>\n"
   ]
  },
  {
   "cell_type": "markdown",
   "metadata": {},
   "source": [
    ">___\n",
    ">\n",
    "> <font color=orchid> ***Exemplo:*** </font> escrever código que continuará gerando números aleatórios entre 1 e 10 até que o número 7 seja gerado. \n",
    ">\n",
    ">___"
   ]
  },
  {
   "cell_type": "code",
   "execution_count": 25,
   "metadata": {
    "dotnet_interactive": {
     "language": "csharp"
    },
    "polyglot_notebook": {
     "kernelName": "csharp"
    },
    "vscode": {
     "languageId": "polyglot-notebook"
    }
   },
   "outputs": [
    {
     "name": "stdout",
     "output_type": "stream",
     "text": [
      "Numero Sorteado: 9\n",
      "Numero Sorteado: 0\n",
      "Numero Sorteado: 6\n",
      "Numero Sorteado: 8\n",
      "Numero Sorteado: 7\n"
     ]
    }
   ],
   "source": [
    "Random random = new Random();\n",
    "int numeroSorteado = 0;\n",
    "\n",
    "do\n",
    "{\n",
    "    numeroSorteado = random.Next(0, 11);\n",
    "    Console.WriteLine($\"Numero Sorteado: {numeroSorteado}\");\n",
    "    \n",
    "} while (numeroSorteado != 7);"
   ]
  },
  {
   "cell_type": "markdown",
   "metadata": {},
   "source": [
    "- É importante observar que o código dentro do bloco de código está influenciando a continuação ou não continuação da iteração pelo bloco de código.\n",
    "- Tanto foreach quanto for dependem de fatores externos ao bloco de código para determinar o número de iterações que ocorrerão."
   ]
  },
  {
   "cell_type": "markdown",
   "metadata": {},
   "source": [
    "### <font color=hotpink> Escrever uma instrução while que itere somente enquanto um número aleatório for maior que determinado valor </font>"
   ]
  },
  {
   "cell_type": "code",
   "execution_count": 32,
   "metadata": {
    "dotnet_interactive": {
     "language": "csharp"
    },
    "polyglot_notebook": {
     "kernelName": "csharp"
    },
    "vscode": {
     "languageId": "polyglot-notebook"
    }
   },
   "outputs": [
    {
     "name": "stdout",
     "output_type": "stream",
     "text": [
      "Número atual: 7\n",
      "Número atual: 9\n",
      "Número atual: 7\n",
      "Último Número: 2\n"
     ]
    }
   ],
   "source": [
    "Random random = new Random();\n",
    "var numeroAtual = random.Next(1, 11);\n",
    "\n",
    "while (numeroAtual >= 3)\n",
    "{\n",
    "    Console.WriteLine($\"Número atual: {numeroAtual}\");\n",
    "    numeroAtual = random.Next(1, 11);\n",
    "}\n",
    "\n",
    "Console.WriteLine($\"Último Número: {numeroAtual}\");"
   ]
  },
  {
   "cell_type": "markdown",
   "metadata": {},
   "source": [
    "### <font color=hotpink> Usar a instrução continue para passar diretamente para a expressão booliana </font>"
   ]
  },
  {
   "cell_type": "markdown",
   "metadata": {},
   "source": [
    "- Em alguns casos, queremos pôr fim ao restante do código no bloco de código e continuar para a próxima iteração. Podemos fazer isso usando a instrução `continue`."
   ]
  },
  {
   "cell_type": "code",
   "execution_count": 47,
   "metadata": {
    "dotnet_interactive": {
     "language": "csharp"
    },
    "polyglot_notebook": {
     "kernelName": "csharp"
    },
    "vscode": {
     "languageId": "polyglot-notebook"
    }
   },
   "outputs": [
    {
     "name": "stdout",
     "output_type": "stream",
     "text": [
      "Número Sorteado: 4\t->\t4\n",
      "Número Sorteado: 8\t->\t🤫\n",
      "Número Sorteado: 2\t->\t2\n",
      "Número Sorteado: 1\t->\t1\n",
      "Número Sorteado: 6\t->\t6\n",
      "Número Sorteado: 10\t->\t🤫\n",
      "Número Sorteado: 5\t->\t5\n",
      "Número Sorteado: 7\t->\t7\n"
     ]
    }
   ],
   "source": [
    "Random random = new Random();\n",
    "int numeroAtual = random.Next(1, 11);\n",
    "\n",
    "do\n",
    "{\n",
    "    numeroAtual = random.Next(1, 11);\n",
    "    Console.Write($\"Número Sorteado: {numeroAtual}\\t->\\t\");\n",
    "\n",
    "    if (numeroAtual >= 8)\n",
    "    {\n",
    "        Console.WriteLine(\"\\U0001F92B\");\n",
    "        continue;\n",
    "    } \n",
    "    Console.WriteLine($\"{numeroAtual}\");\n",
    "} while (numeroAtual != 7);"
   ]
  },
  {
   "cell_type": "markdown",
   "metadata": {},
   "source": [
    "- diferença entre as instruções continue e break:\n",
    "    - a instrução continue transfere a execução para o final da iteração atual.\n",
    "    -  A instrução break encerra a iteração (ou switch) e transfere o controle para a instrução que vem após a instrução terminada."
   ]
  },
  {
   "cell_type": "markdown",
   "metadata": {},
   "source": []
  },
  {
   "cell_type": "markdown",
   "metadata": {},
   "source": [
    "## <font color=mediumorchid> \n",
    "___\n",
    "</font>"
   ]
  },
  {
   "cell_type": "markdown",
   "metadata": {},
   "source": [
    "### <font color=hotpink> csharp </font>"
   ]
  }
 ],
 "metadata": {
  "language_info": {
   "name": "python"
  }
 },
 "nbformat": 4,
 "nbformat_minor": 2
}
